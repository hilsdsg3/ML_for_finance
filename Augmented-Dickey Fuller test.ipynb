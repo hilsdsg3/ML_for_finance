{
 "cells": [
  {
   "cell_type": "code",
   "execution_count": 20,
   "metadata": {},
   "outputs": [],
   "source": [
    "from fredapi import Fred\n",
    "import sys\n",
    "import pandas as pd\n",
    "from plotly.offline import init_notebook_mode, iplot, plot\n",
    "import chart_studio.plotly as py\n",
    "import plotly.graph_objs as go\n",
    "from statsmodels.tsa.stattools import adfuller\n",
    "%run -i C:/Users/champ/Python_proj/base_financial_repo/Econometric_data_repo/meta_data/API\n",
    "    \n",
    "econ_data_labels = { \"GDP\":\n",
    "      { \"column_name\": \"GDP\",\n",
    "        \"color\": \"gray\",\n",
    "        \"name\": \"GDP\",\n",
    "        \"text\": \"GDP\"\n",
    "      }}\n",
    "econ_data_titles = { 'titles':\n",
    "      { 'chart_title': 'Annualized GDP',\n",
    "        'y_axis_title': 'Annualized GDP',\n",
    "        'x_axis_title': 'Date',\n",
    "      }}\n",
    "\n",
    "def get_FRED_data(FRED_series,\n",
    "                  start_date,\n",
    "                  API):\n",
    "    '''\n",
    "    This function downloads the econometric data from\n",
    "    Federal Reserve Economic Data - FRED using an API\n",
    "    '''\n",
    "    if not(API):\n",
    "        print('')\n",
    "        print(' YOU DON''T HAVE A FRED API. THE FRED DATA'\n",
    "          ' WILL NOT UPDATE UNTIL ONE IS PRESENT.'\n",
    "          ' THERE ARE INSTRUCTIONS IN THE PRE-REQUISITES.')\n",
    "    fred = Fred(API)\n",
    "    FRED_data = pd.DataFrame()\n",
    "    FRED_data = fred.get_series(FRED_series, start_date)\n",
    "    FRED_data.index = pd.to_datetime(FRED_data.index, format='%Y-%m-%d')\n",
    "\n",
    "    return (FRED_data)\n",
    "\n",
    "def plotly_time_series(df_labels,df_titles,df, font):\n",
    "    count = 0\n",
    "    d = {} #Empty dictionary to add values into\n",
    "    list_dict_titles = list(df_titles.keys())\n",
    "    list_dict = list(df_labels.keys())\n",
    "    print(list_dict)\n",
    "    for i in list_dict:\n",
    "        d[count] = go.Scatter(x=df.index,\n",
    "                           y=df[df_labels[i]['column_name']],\n",
    "                           line=go.scatter.Line(color=df_labels[i]['color'], width = font*3),\n",
    "                               opacity=0.8,\n",
    "                               name=df_labels[i]['name'],\n",
    "                               text=df_labels[i]['text'])\n",
    "        count+=1\n",
    "    layout = go.Layout(height=800, width=1400, font=dict(size=20),\n",
    "                       title=df_titles['titles']['chart_title'],\n",
    "                        yaxis=dict(title=df_titles['titles']['y_axis_title'], showspikes=True,\n",
    "                                   fixedrange = False),\n",
    "                       xaxis=dict(title=df_titles['titles']['x_axis_title'], showspikes=True,\n",
    "                               rangeslider=dict(visible=True),\n",
    "                               rangeselector=dict(\n",
    "                               buttons=list([\n",
    "                            dict(count=1, label=\"1m\", step=\"month\", stepmode=\"backward\"),\n",
    "                            dict(count=6, label=\"6m\", step=\"month\", stepmode=\"backward\"),\n",
    "                            dict(count=1, label=\"YTD\", step=\"year\", stepmode=\"todate\"),\n",
    "                            dict(count=1, label=\"1y\", step=\"year\", stepmode=\"backward\"),\n",
    "                            dict(count=6, label=\"5y\", step=\"year\", stepmode=\"backward\"),\n",
    "                            dict(step=\"all\")\n",
    "                    ]))))\n",
    "    tot_temp = ''\n",
    "    for i in range(len(d)):\n",
    "        temp = 'd[' + str(i) + ']'\n",
    "        comma = ','\n",
    "        if i < len(d):\n",
    "            tot_temp = tot_temp + temp + comma\n",
    "        else:\n",
    "            tot_temp = tot_temp + temp\n",
    "    fig = go.Figure(data=eval(tot_temp), layout=layout)\n",
    "    iplot(fig)\n",
    "    return(fig)\n",
    "    \n",
    "def difference(values, period):\n",
    "    '''\n",
    "    This function is a return and the specified period w/o\n",
    "    considering total value. i.e. withdrawels/deposits\n",
    "    '''\n",
    "    # period=1\n",
    "    diff_df = pd.DataFrame()\n",
    "    diff_df = values\n",
    "    diff_df = ((values - values.shift(period)) /\n",
    "                 values.shift(period))\n",
    "    diff_df = diff_df.dropna()\n",
    "    return(diff_df)"
   ]
  },
  {
   "cell_type": "markdown",
   "metadata": {},
   "source": [
    "# In the following I show a plotly graph of Annualized GDP "
   ]
  },
  {
   "cell_type": "code",
   "execution_count": 25,
   "metadata": {},
   "outputs": [
    {
     "name": "stdout",
     "output_type": "stream",
     "text": [
      "['GDP']\n"
     ]
    },
    {
     "data": {
      "application/vnd.plotly.v1+json": {
       "config": {
        "linkText": "Export to plot.ly",
        "plotlyServerURL": "https://plot.ly",
        "showLink": false
       },
       "data": [
        {
         "line": {
          "color": "gray",
          "width": 3
         },
         "name": "GDP",
         "opacity": 0.8,
         "text": "GDP",
         "type": "scatter",
         "x": [
          "1958-07-01T00:00:00",
          "1958-10-01T00:00:00",
          "1959-01-01T00:00:00",
          "1959-04-01T00:00:00",
          "1959-07-01T00:00:00",
          "1959-10-01T00:00:00",
          "1960-01-01T00:00:00",
          "1960-04-01T00:00:00",
          "1960-07-01T00:00:00",
          "1960-10-01T00:00:00",
          "1961-01-01T00:00:00",
          "1961-04-01T00:00:00",
          "1961-07-01T00:00:00",
          "1961-10-01T00:00:00",
          "1962-01-01T00:00:00",
          "1962-04-01T00:00:00",
          "1962-07-01T00:00:00",
          "1962-10-01T00:00:00",
          "1963-01-01T00:00:00",
          "1963-04-01T00:00:00",
          "1963-07-01T00:00:00",
          "1963-10-01T00:00:00",
          "1964-01-01T00:00:00",
          "1964-04-01T00:00:00",
          "1964-07-01T00:00:00",
          "1964-10-01T00:00:00",
          "1965-01-01T00:00:00",
          "1965-04-01T00:00:00",
          "1965-07-01T00:00:00",
          "1965-10-01T00:00:00",
          "1966-01-01T00:00:00",
          "1966-04-01T00:00:00",
          "1966-07-01T00:00:00",
          "1966-10-01T00:00:00",
          "1967-01-01T00:00:00",
          "1967-04-01T00:00:00",
          "1967-07-01T00:00:00",
          "1967-10-01T00:00:00",
          "1968-01-01T00:00:00",
          "1968-04-01T00:00:00",
          "1968-07-01T00:00:00",
          "1968-10-01T00:00:00",
          "1969-01-01T00:00:00",
          "1969-04-01T00:00:00",
          "1969-07-01T00:00:00",
          "1969-10-01T00:00:00",
          "1970-01-01T00:00:00",
          "1970-04-01T00:00:00",
          "1970-07-01T00:00:00",
          "1970-10-01T00:00:00",
          "1971-01-01T00:00:00",
          "1971-04-01T00:00:00",
          "1971-07-01T00:00:00",
          "1971-10-01T00:00:00",
          "1972-01-01T00:00:00",
          "1972-04-01T00:00:00",
          "1972-07-01T00:00:00",
          "1972-10-01T00:00:00",
          "1973-01-01T00:00:00",
          "1973-04-01T00:00:00",
          "1973-07-01T00:00:00",
          "1973-10-01T00:00:00",
          "1974-01-01T00:00:00",
          "1974-04-01T00:00:00",
          "1974-07-01T00:00:00",
          "1974-10-01T00:00:00",
          "1975-01-01T00:00:00",
          "1975-04-01T00:00:00",
          "1975-07-01T00:00:00",
          "1975-10-01T00:00:00",
          "1976-01-01T00:00:00",
          "1976-04-01T00:00:00",
          "1976-07-01T00:00:00",
          "1976-10-01T00:00:00",
          "1977-01-01T00:00:00",
          "1977-04-01T00:00:00",
          "1977-07-01T00:00:00",
          "1977-10-01T00:00:00",
          "1978-01-01T00:00:00",
          "1978-04-01T00:00:00",
          "1978-07-01T00:00:00",
          "1978-10-01T00:00:00",
          "1979-01-01T00:00:00",
          "1979-04-01T00:00:00",
          "1979-07-01T00:00:00",
          "1979-10-01T00:00:00",
          "1980-01-01T00:00:00",
          "1980-04-01T00:00:00",
          "1980-07-01T00:00:00",
          "1980-10-01T00:00:00",
          "1981-01-01T00:00:00",
          "1981-04-01T00:00:00",
          "1981-07-01T00:00:00",
          "1981-10-01T00:00:00",
          "1982-01-01T00:00:00",
          "1982-04-01T00:00:00",
          "1982-07-01T00:00:00",
          "1982-10-01T00:00:00",
          "1983-01-01T00:00:00",
          "1983-04-01T00:00:00",
          "1983-07-01T00:00:00",
          "1983-10-01T00:00:00",
          "1984-01-01T00:00:00",
          "1984-04-01T00:00:00",
          "1984-07-01T00:00:00",
          "1984-10-01T00:00:00",
          "1985-01-01T00:00:00",
          "1985-04-01T00:00:00",
          "1985-07-01T00:00:00",
          "1985-10-01T00:00:00",
          "1986-01-01T00:00:00",
          "1986-04-01T00:00:00",
          "1986-07-01T00:00:00",
          "1986-10-01T00:00:00",
          "1987-01-01T00:00:00",
          "1987-04-01T00:00:00",
          "1987-07-01T00:00:00",
          "1987-10-01T00:00:00",
          "1988-01-01T00:00:00",
          "1988-04-01T00:00:00",
          "1988-07-01T00:00:00",
          "1988-10-01T00:00:00",
          "1989-01-01T00:00:00",
          "1989-04-01T00:00:00",
          "1989-07-01T00:00:00",
          "1989-10-01T00:00:00",
          "1990-01-01T00:00:00",
          "1990-04-01T00:00:00",
          "1990-07-01T00:00:00",
          "1990-10-01T00:00:00",
          "1991-01-01T00:00:00",
          "1991-04-01T00:00:00",
          "1991-07-01T00:00:00",
          "1991-10-01T00:00:00",
          "1992-01-01T00:00:00",
          "1992-04-01T00:00:00",
          "1992-07-01T00:00:00",
          "1992-10-01T00:00:00",
          "1993-01-01T00:00:00",
          "1993-04-01T00:00:00",
          "1993-07-01T00:00:00",
          "1993-10-01T00:00:00",
          "1994-01-01T00:00:00",
          "1994-04-01T00:00:00",
          "1994-07-01T00:00:00",
          "1994-10-01T00:00:00",
          "1995-01-01T00:00:00",
          "1995-04-01T00:00:00",
          "1995-07-01T00:00:00",
          "1995-10-01T00:00:00",
          "1996-01-01T00:00:00",
          "1996-04-01T00:00:00",
          "1996-07-01T00:00:00",
          "1996-10-01T00:00:00",
          "1997-01-01T00:00:00",
          "1997-04-01T00:00:00",
          "1997-07-01T00:00:00",
          "1997-10-01T00:00:00",
          "1998-01-01T00:00:00",
          "1998-04-01T00:00:00",
          "1998-07-01T00:00:00",
          "1998-10-01T00:00:00",
          "1999-01-01T00:00:00",
          "1999-04-01T00:00:00",
          "1999-07-01T00:00:00",
          "1999-10-01T00:00:00",
          "2000-01-01T00:00:00",
          "2000-04-01T00:00:00",
          "2000-07-01T00:00:00",
          "2000-10-01T00:00:00",
          "2001-01-01T00:00:00",
          "2001-04-01T00:00:00",
          "2001-07-01T00:00:00",
          "2001-10-01T00:00:00",
          "2002-01-01T00:00:00",
          "2002-04-01T00:00:00",
          "2002-07-01T00:00:00",
          "2002-10-01T00:00:00",
          "2003-01-01T00:00:00",
          "2003-04-01T00:00:00",
          "2003-07-01T00:00:00",
          "2003-10-01T00:00:00",
          "2004-01-01T00:00:00",
          "2004-04-01T00:00:00",
          "2004-07-01T00:00:00",
          "2004-10-01T00:00:00",
          "2005-01-01T00:00:00",
          "2005-04-01T00:00:00",
          "2005-07-01T00:00:00",
          "2005-10-01T00:00:00",
          "2006-01-01T00:00:00",
          "2006-04-01T00:00:00",
          "2006-07-01T00:00:00",
          "2006-10-01T00:00:00",
          "2007-01-01T00:00:00",
          "2007-04-01T00:00:00",
          "2007-07-01T00:00:00",
          "2007-10-01T00:00:00",
          "2008-01-01T00:00:00",
          "2008-04-01T00:00:00",
          "2008-07-01T00:00:00",
          "2008-10-01T00:00:00",
          "2009-01-01T00:00:00",
          "2009-04-01T00:00:00",
          "2009-07-01T00:00:00",
          "2009-10-01T00:00:00",
          "2010-01-01T00:00:00",
          "2010-04-01T00:00:00",
          "2010-07-01T00:00:00",
          "2010-10-01T00:00:00",
          "2011-01-01T00:00:00",
          "2011-04-01T00:00:00",
          "2011-07-01T00:00:00",
          "2011-10-01T00:00:00",
          "2012-01-01T00:00:00",
          "2012-04-01T00:00:00",
          "2012-07-01T00:00:00",
          "2012-10-01T00:00:00",
          "2013-01-01T00:00:00",
          "2013-04-01T00:00:00",
          "2013-07-01T00:00:00",
          "2013-10-01T00:00:00",
          "2014-01-01T00:00:00",
          "2014-04-01T00:00:00",
          "2014-07-01T00:00:00",
          "2014-10-01T00:00:00",
          "2015-01-01T00:00:00",
          "2015-04-01T00:00:00",
          "2015-07-01T00:00:00",
          "2015-10-01T00:00:00",
          "2016-01-01T00:00:00",
          "2016-04-01T00:00:00",
          "2016-07-01T00:00:00",
          "2016-10-01T00:00:00",
          "2017-01-01T00:00:00",
          "2017-04-01T00:00:00",
          "2017-07-01T00:00:00",
          "2017-10-01T00:00:00",
          "2018-01-01T00:00:00",
          "2018-04-01T00:00:00",
          "2018-07-01T00:00:00",
          "2018-10-01T00:00:00",
          "2019-01-01T00:00:00",
          "2019-04-01T00:00:00",
          "2019-07-01T00:00:00",
          "2019-10-01T00:00:00",
          "2020-01-01T00:00:00",
          "2020-04-01T00:00:00"
         ],
         "y": [
          485.841,
          499.555,
          510.33,
          522.653,
          525.034,
          528.6,
          542.648,
          541.08,
          545.604,
          540.197,
          545.018,
          555.545,
          567.664,
          580.612,
          594.013,
          600.366,
          609.027,
          612.28,
          621.672,
          629.752,
          644.444,
          653.938,
          669.822,
          678.674,
          692.031,
          697.319,
          717.79,
          730.191,
          749.323,
          771.857,
          795.734,
          804.981,
          819.638,
          833.302,
          844.17,
          848.983,
          865.233,
          881.439,
          909.387,
          934.344,
          950.825,
          968.03,
          993.337,
          1009.02,
          1029.956,
          1038.147,
          1051.2,
          1067.375,
          1086.059,
          1088.608,
          1135.156,
          1156.271,
          1177.675,
          1190.297,
          1230.609,
          1266.369,
          1290.566,
          1328.904,
          1377.49,
          1413.887,
          1433.838,
          1476.289,
          1491.209,
          1530.056,
          1560.026,
          1599.679,
          1616.116,
          1651.853,
          1709.82,
          1761.831,
          1820.487,
          1852.332,
          1886.558,
          1934.273,
          1988.648,
          2055.909,
          2118.473,
          2164.27,
          2202.76,
          2331.633,
          2395.053,
          2476.949,
          2526.61,
          2591.247,
          2667.565,
          2723.883,
          2789.842,
          2797.352,
          2856.483,
          2985.557,
          3124.206,
          3162.532,
          3260.609,
          3280.818,
          3274.302,
          3331.972,
          3366.322,
          3402.561,
          3473.413,
          3578.848,
          3689.179,
          3794.706,
          3908.054,
          4009.601,
          4084.25,
          4148.551,
          4230.168,
          4294.887,
          4386.773,
          4444.094,
          4507.894,
          4545.34,
          4607.669,
          4657.627,
          4722.156,
          4806.16,
          4884.555,
          5007.994,
          5073.372,
          5190.036,
          5282.835,
          5399.509,
          5511.253,
          5612.463,
          5695.365,
          5747.237,
          5872.701,
          5960.028,
          6015.116,
          6004.733,
          6035.178,
          6126.862,
          6205.937,
          6264.54,
          6363.102,
          6470.763,
          6566.641,
          6680.803,
          6729.459,
          6808.939,
          6882.098,
          7013.738,
          7115.652,
          7246.931,
          7331.075,
          7455.288,
          7522.289,
          7580.997,
          7683.125,
          7772.586,
          7868.468,
          8032.84,
          8131.408,
          8259.771,
          8362.655,
          8518.825,
          8662.823,
          8765.907,
          8866.48,
          8969.699,
          9121.097,
          9293.991,
          9417.264,
          9524.152,
          9681.856,
          9899.378,
          10002.857,
          10247.679,
          10319.825,
          10439.025,
          10472.879,
          10597.822,
          10596.294,
          10660.294,
          10788.952,
          10893.207,
          10992.051,
          11071.463,
          11183.507,
          11312.875,
          11567.326,
          11769.275,
          11920.169,
          12108.987,
          12303.34,
          12522.425,
          12761.337,
          12910.022,
          13142.873,
          13332.316,
          13603.933,
          13749.806,
          13867.469,
          14037.228,
          14208.569,
          14382.363,
          14535.003,
          14681.501,
          14651.039,
          14805.611,
          14835.187,
          14559.543,
          14394.547,
          14352.85,
          14420.312,
          14628.021,
          14721.35,
          14926.098,
          15079.917,
          15240.843,
          15285.828,
          15496.189,
          15591.85,
          15796.46,
          16019.758,
          16152.257,
          16257.151,
          16358.863,
          16569.591,
          16637.926,
          16848.748,
          17083.137,
          17104.555,
          17432.909,
          17721.657,
          17849.912,
          18003.399,
          18223.577,
          18347.425,
          18378.803,
          18470.156,
          18656.207,
          18821.359,
          19032.58,
          19237.435,
          19379.232,
          19617.288,
          19937.963,
          20242.215,
          20552.653,
          20742.723,
          20909.853,
          21115.309,
          21329.877,
          21540.325,
          21747.394,
          21561.139,
          19486.509
         ]
        }
       ],
       "layout": {
        "font": {
         "size": 20
        },
        "height": 800,
        "template": {
         "data": {
          "bar": [
           {
            "error_x": {
             "color": "#2a3f5f"
            },
            "error_y": {
             "color": "#2a3f5f"
            },
            "marker": {
             "line": {
              "color": "#E5ECF6",
              "width": 0.5
             }
            },
            "type": "bar"
           }
          ],
          "barpolar": [
           {
            "marker": {
             "line": {
              "color": "#E5ECF6",
              "width": 0.5
             }
            },
            "type": "barpolar"
           }
          ],
          "carpet": [
           {
            "aaxis": {
             "endlinecolor": "#2a3f5f",
             "gridcolor": "white",
             "linecolor": "white",
             "minorgridcolor": "white",
             "startlinecolor": "#2a3f5f"
            },
            "baxis": {
             "endlinecolor": "#2a3f5f",
             "gridcolor": "white",
             "linecolor": "white",
             "minorgridcolor": "white",
             "startlinecolor": "#2a3f5f"
            },
            "type": "carpet"
           }
          ],
          "choropleth": [
           {
            "colorbar": {
             "outlinewidth": 0,
             "ticks": ""
            },
            "type": "choropleth"
           }
          ],
          "contour": [
           {
            "colorbar": {
             "outlinewidth": 0,
             "ticks": ""
            },
            "colorscale": [
             [
              0,
              "#0d0887"
             ],
             [
              0.1111111111111111,
              "#46039f"
             ],
             [
              0.2222222222222222,
              "#7201a8"
             ],
             [
              0.3333333333333333,
              "#9c179e"
             ],
             [
              0.4444444444444444,
              "#bd3786"
             ],
             [
              0.5555555555555556,
              "#d8576b"
             ],
             [
              0.6666666666666666,
              "#ed7953"
             ],
             [
              0.7777777777777778,
              "#fb9f3a"
             ],
             [
              0.8888888888888888,
              "#fdca26"
             ],
             [
              1,
              "#f0f921"
             ]
            ],
            "type": "contour"
           }
          ],
          "contourcarpet": [
           {
            "colorbar": {
             "outlinewidth": 0,
             "ticks": ""
            },
            "type": "contourcarpet"
           }
          ],
          "heatmap": [
           {
            "colorbar": {
             "outlinewidth": 0,
             "ticks": ""
            },
            "colorscale": [
             [
              0,
              "#0d0887"
             ],
             [
              0.1111111111111111,
              "#46039f"
             ],
             [
              0.2222222222222222,
              "#7201a8"
             ],
             [
              0.3333333333333333,
              "#9c179e"
             ],
             [
              0.4444444444444444,
              "#bd3786"
             ],
             [
              0.5555555555555556,
              "#d8576b"
             ],
             [
              0.6666666666666666,
              "#ed7953"
             ],
             [
              0.7777777777777778,
              "#fb9f3a"
             ],
             [
              0.8888888888888888,
              "#fdca26"
             ],
             [
              1,
              "#f0f921"
             ]
            ],
            "type": "heatmap"
           }
          ],
          "heatmapgl": [
           {
            "colorbar": {
             "outlinewidth": 0,
             "ticks": ""
            },
            "colorscale": [
             [
              0,
              "#0d0887"
             ],
             [
              0.1111111111111111,
              "#46039f"
             ],
             [
              0.2222222222222222,
              "#7201a8"
             ],
             [
              0.3333333333333333,
              "#9c179e"
             ],
             [
              0.4444444444444444,
              "#bd3786"
             ],
             [
              0.5555555555555556,
              "#d8576b"
             ],
             [
              0.6666666666666666,
              "#ed7953"
             ],
             [
              0.7777777777777778,
              "#fb9f3a"
             ],
             [
              0.8888888888888888,
              "#fdca26"
             ],
             [
              1,
              "#f0f921"
             ]
            ],
            "type": "heatmapgl"
           }
          ],
          "histogram": [
           {
            "marker": {
             "colorbar": {
              "outlinewidth": 0,
              "ticks": ""
             }
            },
            "type": "histogram"
           }
          ],
          "histogram2d": [
           {
            "colorbar": {
             "outlinewidth": 0,
             "ticks": ""
            },
            "colorscale": [
             [
              0,
              "#0d0887"
             ],
             [
              0.1111111111111111,
              "#46039f"
             ],
             [
              0.2222222222222222,
              "#7201a8"
             ],
             [
              0.3333333333333333,
              "#9c179e"
             ],
             [
              0.4444444444444444,
              "#bd3786"
             ],
             [
              0.5555555555555556,
              "#d8576b"
             ],
             [
              0.6666666666666666,
              "#ed7953"
             ],
             [
              0.7777777777777778,
              "#fb9f3a"
             ],
             [
              0.8888888888888888,
              "#fdca26"
             ],
             [
              1,
              "#f0f921"
             ]
            ],
            "type": "histogram2d"
           }
          ],
          "histogram2dcontour": [
           {
            "colorbar": {
             "outlinewidth": 0,
             "ticks": ""
            },
            "colorscale": [
             [
              0,
              "#0d0887"
             ],
             [
              0.1111111111111111,
              "#46039f"
             ],
             [
              0.2222222222222222,
              "#7201a8"
             ],
             [
              0.3333333333333333,
              "#9c179e"
             ],
             [
              0.4444444444444444,
              "#bd3786"
             ],
             [
              0.5555555555555556,
              "#d8576b"
             ],
             [
              0.6666666666666666,
              "#ed7953"
             ],
             [
              0.7777777777777778,
              "#fb9f3a"
             ],
             [
              0.8888888888888888,
              "#fdca26"
             ],
             [
              1,
              "#f0f921"
             ]
            ],
            "type": "histogram2dcontour"
           }
          ],
          "mesh3d": [
           {
            "colorbar": {
             "outlinewidth": 0,
             "ticks": ""
            },
            "type": "mesh3d"
           }
          ],
          "parcoords": [
           {
            "line": {
             "colorbar": {
              "outlinewidth": 0,
              "ticks": ""
             }
            },
            "type": "parcoords"
           }
          ],
          "pie": [
           {
            "automargin": true,
            "type": "pie"
           }
          ],
          "scatter": [
           {
            "marker": {
             "colorbar": {
              "outlinewidth": 0,
              "ticks": ""
             }
            },
            "type": "scatter"
           }
          ],
          "scatter3d": [
           {
            "line": {
             "colorbar": {
              "outlinewidth": 0,
              "ticks": ""
             }
            },
            "marker": {
             "colorbar": {
              "outlinewidth": 0,
              "ticks": ""
             }
            },
            "type": "scatter3d"
           }
          ],
          "scattercarpet": [
           {
            "marker": {
             "colorbar": {
              "outlinewidth": 0,
              "ticks": ""
             }
            },
            "type": "scattercarpet"
           }
          ],
          "scattergeo": [
           {
            "marker": {
             "colorbar": {
              "outlinewidth": 0,
              "ticks": ""
             }
            },
            "type": "scattergeo"
           }
          ],
          "scattergl": [
           {
            "marker": {
             "colorbar": {
              "outlinewidth": 0,
              "ticks": ""
             }
            },
            "type": "scattergl"
           }
          ],
          "scattermapbox": [
           {
            "marker": {
             "colorbar": {
              "outlinewidth": 0,
              "ticks": ""
             }
            },
            "type": "scattermapbox"
           }
          ],
          "scatterpolar": [
           {
            "marker": {
             "colorbar": {
              "outlinewidth": 0,
              "ticks": ""
             }
            },
            "type": "scatterpolar"
           }
          ],
          "scatterpolargl": [
           {
            "marker": {
             "colorbar": {
              "outlinewidth": 0,
              "ticks": ""
             }
            },
            "type": "scatterpolargl"
           }
          ],
          "scatterternary": [
           {
            "marker": {
             "colorbar": {
              "outlinewidth": 0,
              "ticks": ""
             }
            },
            "type": "scatterternary"
           }
          ],
          "surface": [
           {
            "colorbar": {
             "outlinewidth": 0,
             "ticks": ""
            },
            "colorscale": [
             [
              0,
              "#0d0887"
             ],
             [
              0.1111111111111111,
              "#46039f"
             ],
             [
              0.2222222222222222,
              "#7201a8"
             ],
             [
              0.3333333333333333,
              "#9c179e"
             ],
             [
              0.4444444444444444,
              "#bd3786"
             ],
             [
              0.5555555555555556,
              "#d8576b"
             ],
             [
              0.6666666666666666,
              "#ed7953"
             ],
             [
              0.7777777777777778,
              "#fb9f3a"
             ],
             [
              0.8888888888888888,
              "#fdca26"
             ],
             [
              1,
              "#f0f921"
             ]
            ],
            "type": "surface"
           }
          ],
          "table": [
           {
            "cells": {
             "fill": {
              "color": "#EBF0F8"
             },
             "line": {
              "color": "white"
             }
            },
            "header": {
             "fill": {
              "color": "#C8D4E3"
             },
             "line": {
              "color": "white"
             }
            },
            "type": "table"
           }
          ]
         },
         "layout": {
          "annotationdefaults": {
           "arrowcolor": "#2a3f5f",
           "arrowhead": 0,
           "arrowwidth": 1
          },
          "coloraxis": {
           "colorbar": {
            "outlinewidth": 0,
            "ticks": ""
           }
          },
          "colorscale": {
           "diverging": [
            [
             0,
             "#8e0152"
            ],
            [
             0.1,
             "#c51b7d"
            ],
            [
             0.2,
             "#de77ae"
            ],
            [
             0.3,
             "#f1b6da"
            ],
            [
             0.4,
             "#fde0ef"
            ],
            [
             0.5,
             "#f7f7f7"
            ],
            [
             0.6,
             "#e6f5d0"
            ],
            [
             0.7,
             "#b8e186"
            ],
            [
             0.8,
             "#7fbc41"
            ],
            [
             0.9,
             "#4d9221"
            ],
            [
             1,
             "#276419"
            ]
           ],
           "sequential": [
            [
             0,
             "#0d0887"
            ],
            [
             0.1111111111111111,
             "#46039f"
            ],
            [
             0.2222222222222222,
             "#7201a8"
            ],
            [
             0.3333333333333333,
             "#9c179e"
            ],
            [
             0.4444444444444444,
             "#bd3786"
            ],
            [
             0.5555555555555556,
             "#d8576b"
            ],
            [
             0.6666666666666666,
             "#ed7953"
            ],
            [
             0.7777777777777778,
             "#fb9f3a"
            ],
            [
             0.8888888888888888,
             "#fdca26"
            ],
            [
             1,
             "#f0f921"
            ]
           ],
           "sequentialminus": [
            [
             0,
             "#0d0887"
            ],
            [
             0.1111111111111111,
             "#46039f"
            ],
            [
             0.2222222222222222,
             "#7201a8"
            ],
            [
             0.3333333333333333,
             "#9c179e"
            ],
            [
             0.4444444444444444,
             "#bd3786"
            ],
            [
             0.5555555555555556,
             "#d8576b"
            ],
            [
             0.6666666666666666,
             "#ed7953"
            ],
            [
             0.7777777777777778,
             "#fb9f3a"
            ],
            [
             0.8888888888888888,
             "#fdca26"
            ],
            [
             1,
             "#f0f921"
            ]
           ]
          },
          "colorway": [
           "#636efa",
           "#EF553B",
           "#00cc96",
           "#ab63fa",
           "#FFA15A",
           "#19d3f3",
           "#FF6692",
           "#B6E880",
           "#FF97FF",
           "#FECB52"
          ],
          "font": {
           "color": "#2a3f5f"
          },
          "geo": {
           "bgcolor": "white",
           "lakecolor": "white",
           "landcolor": "#E5ECF6",
           "showlakes": true,
           "showland": true,
           "subunitcolor": "white"
          },
          "hoverlabel": {
           "align": "left"
          },
          "hovermode": "closest",
          "mapbox": {
           "style": "light"
          },
          "paper_bgcolor": "white",
          "plot_bgcolor": "#E5ECF6",
          "polar": {
           "angularaxis": {
            "gridcolor": "white",
            "linecolor": "white",
            "ticks": ""
           },
           "bgcolor": "#E5ECF6",
           "radialaxis": {
            "gridcolor": "white",
            "linecolor": "white",
            "ticks": ""
           }
          },
          "scene": {
           "xaxis": {
            "backgroundcolor": "#E5ECF6",
            "gridcolor": "white",
            "gridwidth": 2,
            "linecolor": "white",
            "showbackground": true,
            "ticks": "",
            "zerolinecolor": "white"
           },
           "yaxis": {
            "backgroundcolor": "#E5ECF6",
            "gridcolor": "white",
            "gridwidth": 2,
            "linecolor": "white",
            "showbackground": true,
            "ticks": "",
            "zerolinecolor": "white"
           },
           "zaxis": {
            "backgroundcolor": "#E5ECF6",
            "gridcolor": "white",
            "gridwidth": 2,
            "linecolor": "white",
            "showbackground": true,
            "ticks": "",
            "zerolinecolor": "white"
           }
          },
          "shapedefaults": {
           "line": {
            "color": "#2a3f5f"
           }
          },
          "ternary": {
           "aaxis": {
            "gridcolor": "white",
            "linecolor": "white",
            "ticks": ""
           },
           "baxis": {
            "gridcolor": "white",
            "linecolor": "white",
            "ticks": ""
           },
           "bgcolor": "#E5ECF6",
           "caxis": {
            "gridcolor": "white",
            "linecolor": "white",
            "ticks": ""
           }
          },
          "title": {
           "x": 0.05
          },
          "xaxis": {
           "automargin": true,
           "gridcolor": "white",
           "linecolor": "white",
           "ticks": "",
           "title": {
            "standoff": 15
           },
           "zerolinecolor": "white",
           "zerolinewidth": 2
          },
          "yaxis": {
           "automargin": true,
           "gridcolor": "white",
           "linecolor": "white",
           "ticks": "",
           "title": {
            "standoff": 15
           },
           "zerolinecolor": "white",
           "zerolinewidth": 2
          }
         }
        },
        "title": {
         "text": "Annualized GDP"
        },
        "width": 1400,
        "xaxis": {
         "autorange": true,
         "range": [
          "1958-07-01",
          "2020-04-01"
         ],
         "rangeselector": {
          "buttons": [
           {
            "count": 1,
            "label": "1m",
            "step": "month",
            "stepmode": "backward"
           },
           {
            "count": 6,
            "label": "6m",
            "step": "month",
            "stepmode": "backward"
           },
           {
            "count": 1,
            "label": "YTD",
            "step": "year",
            "stepmode": "todate"
           },
           {
            "count": 1,
            "label": "1y",
            "step": "year",
            "stepmode": "backward"
           },
           {
            "count": 6,
            "label": "5y",
            "step": "year",
            "stepmode": "backward"
           },
           {
            "step": "all"
           }
          ]
         },
         "rangeslider": {
          "autorange": true,
          "range": [
           "1958-07-01",
           "2020-04-01"
          ],
          "visible": true,
          "yaxis": {
           "_template": null,
           "rangemode": "match"
          }
         },
         "showspikes": true,
         "title": {
          "text": "Date"
         },
         "type": "date"
        },
        "yaxis": {
         "autorange": true,
         "fixedrange": false,
         "range": [
          -695.3563888888885,
          22928.59138888889
         ],
         "showspikes": true,
         "title": {
          "text": "Annualized GDP"
         },
         "type": "linear"
        }
       }
      },
      "image/png": "[encoded data removed]",
      "text/html": [
       "<div>\n",
       "        \n",
       "        \n",
       "            <div id=\"e2e9ec88-915b-43ad-a432-91c0a5a3f94b\" class=\"plotly-graph-div\" style=\"height:800px; width:1400px;\"></div>\n",
       "            <script type=\"text/javascript\">\n",
       "                require([\"plotly\"], function(Plotly) {\n",
       "                    window.PLOTLYENV=window.PLOTLYENV || {};\n",
       "                    \n",
       "                if (document.getElementById(\"e2e9ec88-915b-43ad-a432-91c0a5a3f94b\")) {\n",
       "                    Plotly.newPlot(\n",
       "                        'e2e9ec88-915b-43ad-a432-91c0a5a3f94b',\n",
       "                        [{\"line\": {\"color\": \"gray\", \"width\": 3}, \"name\": \"GDP\", \"opacity\": 0.8, \"text\": \"GDP\", \"type\": \"scatter\", \"x\": [\"1958-07-01T00:00:00\", \"1958-10-01T00:00:00\", \"1959-01-01T00:00:00\", \"1959-04-01T00:00:00\", \"1959-07-01T00:00:00\", \"1959-10-01T00:00:00\", \"1960-01-01T00:00:00\", \"1960-04-01T00:00:00\", \"1960-07-01T00:00:00\", \"1960-10-01T00:00:00\", \"1961-01-01T00:00:00\", \"1961-04-01T00:00:00\", \"1961-07-01T00:00:00\", \"1961-10-01T00:00:00\", \"1962-01-01T00:00:00\", \"1962-04-01T00:00:00\", \"1962-07-01T00:00:00\", \"1962-10-01T00:00:00\", \"1963-01-01T00:00:00\", \"1963-04-01T00:00:00\", \"1963-07-01T00:00:00\", \"1963-10-01T00:00:00\", \"1964-01-01T00:00:00\", \"1964-04-01T00:00:00\", \"1964-07-01T00:00:00\", \"1964-10-01T00:00:00\", \"1965-01-01T00:00:00\", \"1965-04-01T00:00:00\", \"1965-07-01T00:00:00\", \"1965-10-01T00:00:00\", \"1966-01-01T00:00:00\", \"1966-04-01T00:00:00\", \"1966-07-01T00:00:00\", \"1966-10-01T00:00:00\", \"1967-01-01T00:00:00\", \"1967-04-01T00:00:00\", \"1967-07-01T00:00:00\", \"1967-10-01T00:00:00\", \"1968-01-01T00:00:00\", \"1968-04-01T00:00:00\", \"1968-07-01T00:00:00\", \"1968-10-01T00:00:00\", \"1969-01-01T00:00:00\", \"1969-04-01T00:00:00\", \"1969-07-01T00:00:00\", \"1969-10-01T00:00:00\", \"1970-01-01T00:00:00\", \"1970-04-01T00:00:00\", \"1970-07-01T00:00:00\", \"1970-10-01T00:00:00\", \"1971-01-01T00:00:00\", \"1971-04-01T00:00:00\", \"1971-07-01T00:00:00\", \"1971-10-01T00:00:00\", \"1972-01-01T00:00:00\", \"1972-04-01T00:00:00\", \"1972-07-01T00:00:00\", \"1972-10-01T00:00:00\", \"1973-01-01T00:00:00\", \"1973-04-01T00:00:00\", \"1973-07-01T00:00:00\", \"1973-10-01T00:00:00\", \"1974-01-01T00:00:00\", \"1974-04-01T00:00:00\", \"1974-07-01T00:00:00\", \"1974-10-01T00:00:00\", \"1975-01-01T00:00:00\", \"1975-04-01T00:00:00\", \"1975-07-01T00:00:00\", \"1975-10-01T00:00:00\", \"1976-01-01T00:00:00\", \"1976-04-01T00:00:00\", \"1976-07-01T00:00:00\", \"1976-10-01T00:00:00\", \"1977-01-01T00:00:00\", \"1977-04-01T00:00:00\", \"1977-07-01T00:00:00\", \"1977-10-01T00:00:00\", \"1978-01-01T00:00:00\", \"1978-04-01T00:00:00\", \"1978-07-01T00:00:00\", \"1978-10-01T00:00:00\", \"1979-01-01T00:00:00\", \"1979-04-01T00:00:00\", \"1979-07-01T00:00:00\", \"1979-10-01T00:00:00\", \"1980-01-01T00:00:00\", \"1980-04-01T00:00:00\", \"1980-07-01T00:00:00\", \"1980-10-01T00:00:00\", \"1981-01-01T00:00:00\", \"1981-04-01T00:00:00\", \"1981-07-01T00:00:00\", \"1981-10-01T00:00:00\", \"1982-01-01T00:00:00\", \"1982-04-01T00:00:00\", \"1982-07-01T00:00:00\", \"1982-10-01T00:00:00\", \"1983-01-01T00:00:00\", \"1983-04-01T00:00:00\", \"1983-07-01T00:00:00\", \"1983-10-01T00:00:00\", \"1984-01-01T00:00:00\", \"1984-04-01T00:00:00\", \"1984-07-01T00:00:00\", \"1984-10-01T00:00:00\", \"1985-01-01T00:00:00\", \"1985-04-01T00:00:00\", \"1985-07-01T00:00:00\", \"1985-10-01T00:00:00\", \"1986-01-01T00:00:00\", \"1986-04-01T00:00:00\", \"1986-07-01T00:00:00\", \"1986-10-01T00:00:00\", \"1987-01-01T00:00:00\", \"1987-04-01T00:00:00\", \"1987-07-01T00:00:00\", \"1987-10-01T00:00:00\", \"1988-01-01T00:00:00\", \"1988-04-01T00:00:00\", \"1988-07-01T00:00:00\", \"1988-10-01T00:00:00\", \"1989-01-01T00:00:00\", \"1989-04-01T00:00:00\", \"1989-07-01T00:00:00\", \"1989-10-01T00:00:00\", \"1990-01-01T00:00:00\", \"1990-04-01T00:00:00\", \"1990-07-01T00:00:00\", \"1990-10-01T00:00:00\", \"1991-01-01T00:00:00\", \"1991-04-01T00:00:00\", \"1991-07-01T00:00:00\", \"1991-10-01T00:00:00\", \"1992-01-01T00:00:00\", \"1992-04-01T00:00:00\", \"1992-07-01T00:00:00\", \"1992-10-01T00:00:00\", \"1993-01-01T00:00:00\", \"1993-04-01T00:00:00\", \"1993-07-01T00:00:00\", \"1993-10-01T00:00:00\", \"1994-01-01T00:00:00\", \"1994-04-01T00:00:00\", \"1994-07-01T00:00:00\", \"1994-10-01T00:00:00\", \"1995-01-01T00:00:00\", \"1995-04-01T00:00:00\", \"1995-07-01T00:00:00\", \"1995-10-01T00:00:00\", \"1996-01-01T00:00:00\", \"1996-04-01T00:00:00\", \"1996-07-01T00:00:00\", \"1996-10-01T00:00:00\", \"1997-01-01T00:00:00\", \"1997-04-01T00:00:00\", \"1997-07-01T00:00:00\", \"1997-10-01T00:00:00\", \"1998-01-01T00:00:00\", \"1998-04-01T00:00:00\", \"1998-07-01T00:00:00\", \"1998-10-01T00:00:00\", \"1999-01-01T00:00:00\", \"1999-04-01T00:00:00\", \"1999-07-01T00:00:00\", \"1999-10-01T00:00:00\", \"2000-01-01T00:00:00\", \"2000-04-01T00:00:00\", \"2000-07-01T00:00:00\", \"2000-10-01T00:00:00\", \"2001-01-01T00:00:00\", \"2001-04-01T00:00:00\", \"2001-07-01T00:00:00\", \"2001-10-01T00:00:00\", \"2002-01-01T00:00:00\", \"2002-04-01T00:00:00\", \"2002-07-01T00:00:00\", \"2002-10-01T00:00:00\", \"2003-01-01T00:00:00\", \"2003-04-01T00:00:00\", \"2003-07-01T00:00:00\", \"2003-10-01T00:00:00\", \"2004-01-01T00:00:00\", \"2004-04-01T00:00:00\", \"2004-07-01T00:00:00\", \"2004-10-01T00:00:00\", \"2005-01-01T00:00:00\", \"2005-04-01T00:00:00\", \"2005-07-01T00:00:00\", \"2005-10-01T00:00:00\", \"2006-01-01T00:00:00\", \"2006-04-01T00:00:00\", \"2006-07-01T00:00:00\", \"2006-10-01T00:00:00\", \"2007-01-01T00:00:00\", \"2007-04-01T00:00:00\", \"2007-07-01T00:00:00\", \"2007-10-01T00:00:00\", \"2008-01-01T00:00:00\", \"2008-04-01T00:00:00\", \"2008-07-01T00:00:00\", \"2008-10-01T00:00:00\", \"2009-01-01T00:00:00\", \"2009-04-01T00:00:00\", \"2009-07-01T00:00:00\", \"2009-10-01T00:00:00\", \"2010-01-01T00:00:00\", \"2010-04-01T00:00:00\", \"2010-07-01T00:00:00\", \"2010-10-01T00:00:00\", \"2011-01-01T00:00:00\", \"2011-04-01T00:00:00\", \"2011-07-01T00:00:00\", \"2011-10-01T00:00:00\", \"2012-01-01T00:00:00\", \"2012-04-01T00:00:00\", \"2012-07-01T00:00:00\", \"2012-10-01T00:00:00\", \"2013-01-01T00:00:00\", \"2013-04-01T00:00:00\", \"2013-07-01T00:00:00\", \"2013-10-01T00:00:00\", \"2014-01-01T00:00:00\", \"2014-04-01T00:00:00\", \"2014-07-01T00:00:00\", \"2014-10-01T00:00:00\", \"2015-01-01T00:00:00\", \"2015-04-01T00:00:00\", \"2015-07-01T00:00:00\", \"2015-10-01T00:00:00\", \"2016-01-01T00:00:00\", \"2016-04-01T00:00:00\", \"2016-07-01T00:00:00\", \"2016-10-01T00:00:00\", \"2017-01-01T00:00:00\", \"2017-04-01T00:00:00\", \"2017-07-01T00:00:00\", \"2017-10-01T00:00:00\", \"2018-01-01T00:00:00\", \"2018-04-01T00:00:00\", \"2018-07-01T00:00:00\", \"2018-10-01T00:00:00\", \"2019-01-01T00:00:00\", \"2019-04-01T00:00:00\", \"2019-07-01T00:00:00\", \"2019-10-01T00:00:00\", \"2020-01-01T00:00:00\", \"2020-04-01T00:00:00\"], \"y\": [485.841, 499.555, 510.33, 522.653, 525.034, 528.6, 542.648, 541.08, 545.604, 540.197, 545.018, 555.545, 567.664, 580.612, 594.013, 600.366, 609.027, 612.28, 621.672, 629.752, 644.444, 653.938, 669.822, 678.674, 692.031, 697.319, 717.79, 730.191, 749.323, 771.857, 795.734, 804.981, 819.638, 833.302, 844.17, 848.983, 865.233, 881.439, 909.387, 934.344, 950.825, 968.03, 993.337, 1009.02, 1029.956, 1038.147, 1051.2, 1067.375, 1086.059, 1088.608, 1135.156, 1156.271, 1177.675, 1190.297, 1230.609, 1266.369, 1290.566, 1328.904, 1377.49, 1413.887, 1433.838, 1476.289, 1491.209, 1530.056, 1560.026, 1599.679, 1616.116, 1651.853, 1709.82, 1761.831, 1820.487, 1852.332, 1886.558, 1934.273, 1988.648, 2055.909, 2118.473, 2164.27, 2202.76, 2331.633, 2395.053, 2476.949, 2526.61, 2591.247, 2667.565, 2723.883, 2789.842, 2797.352, 2856.483, 2985.557, 3124.206, 3162.532, 3260.609, 3280.818, 3274.302, 3331.972, 3366.322, 3402.561, 3473.413, 3578.848, 3689.179, 3794.706, 3908.054, 4009.601, 4084.25, 4148.551, 4230.168, 4294.887, 4386.773, 4444.094, 4507.894, 4545.34, 4607.669, 4657.627, 4722.156, 4806.16, 4884.555, 5007.994, 5073.372, 5190.036, 5282.835, 5399.509, 5511.253, 5612.463, 5695.365, 5747.237, 5872.701, 5960.028, 6015.116, 6004.733, 6035.178, 6126.862, 6205.937, 6264.54, 6363.102, 6470.763, 6566.641, 6680.803, 6729.459, 6808.939, 6882.098, 7013.738, 7115.652, 7246.931, 7331.075, 7455.288, 7522.289, 7580.997, 7683.125, 7772.586, 7868.468, 8032.84, 8131.408, 8259.771, 8362.655, 8518.825, 8662.823, 8765.907, 8866.48, 8969.699, 9121.097, 9293.991, 9417.264, 9524.152, 9681.856, 9899.378, 10002.857, 10247.679, 10319.825, 10439.025, 10472.879, 10597.822, 10596.294, 10660.294, 10788.952, 10893.207, 10992.051, 11071.463, 11183.507, 11312.875, 11567.326, 11769.275, 11920.169, 12108.987, 12303.34, 12522.425, 12761.337, 12910.022, 13142.873, 13332.316, 13603.933, 13749.806, 13867.469, 14037.228, 14208.569, 14382.363, 14535.003, 14681.501, 14651.039, 14805.611, 14835.187, 14559.543, 14394.547, 14352.85, 14420.312, 14628.021, 14721.35, 14926.098, 15079.917, 15240.843, 15285.828, 15496.189, 15591.85, 15796.46, 16019.758, 16152.257, 16257.151, 16358.863, 16569.591, 16637.926, 16848.748, 17083.137, 17104.555, 17432.909, 17721.657, 17849.912, 18003.399, 18223.577, 18347.425, 18378.803, 18470.156, 18656.207, 18821.359, 19032.58, 19237.435, 19379.232, 19617.288, 19937.963, 20242.215, 20552.653, 20742.723, 20909.853, 21115.309, 21329.877, 21540.325, 21747.394, 21561.139, 19486.509]}],\n",
       "                        {\"font\": {\"size\": 20}, \"height\": 800, \"template\": {\"data\": {\"bar\": [{\"error_x\": {\"color\": \"#2a3f5f\"}, \"error_y\": {\"color\": \"#2a3f5f\"}, \"marker\": {\"line\": {\"color\": \"#E5ECF6\", \"width\": 0.5}}, \"type\": \"bar\"}], \"barpolar\": [{\"marker\": {\"line\": {\"color\": \"#E5ECF6\", \"width\": 0.5}}, \"type\": \"barpolar\"}], \"carpet\": [{\"aaxis\": {\"endlinecolor\": \"#2a3f5f\", \"gridcolor\": \"white\", \"linecolor\": \"white\", \"minorgridcolor\": \"white\", \"startlinecolor\": \"#2a3f5f\"}, \"baxis\": {\"endlinecolor\": \"#2a3f5f\", \"gridcolor\": \"white\", \"linecolor\": \"white\", \"minorgridcolor\": \"white\", \"startlinecolor\": \"#2a3f5f\"}, \"type\": \"carpet\"}], \"choropleth\": [{\"colorbar\": {\"outlinewidth\": 0, \"ticks\": \"\"}, \"type\": \"choropleth\"}], \"contour\": [{\"colorbar\": {\"outlinewidth\": 0, \"ticks\": \"\"}, \"colorscale\": [[0.0, \"#0d0887\"], [0.1111111111111111, \"#46039f\"], [0.2222222222222222, \"#7201a8\"], [0.3333333333333333, \"#9c179e\"], [0.4444444444444444, \"#bd3786\"], [0.5555555555555556, \"#d8576b\"], [0.6666666666666666, \"#ed7953\"], [0.7777777777777778, \"#fb9f3a\"], [0.8888888888888888, \"#fdca26\"], [1.0, \"#f0f921\"]], \"type\": \"contour\"}], \"contourcarpet\": [{\"colorbar\": {\"outlinewidth\": 0, \"ticks\": \"\"}, \"type\": \"contourcarpet\"}], \"heatmap\": [{\"colorbar\": {\"outlinewidth\": 0, \"ticks\": \"\"}, \"colorscale\": [[0.0, \"#0d0887\"], [0.1111111111111111, \"#46039f\"], [0.2222222222222222, \"#7201a8\"], [0.3333333333333333, \"#9c179e\"], [0.4444444444444444, \"#bd3786\"], [0.5555555555555556, \"#d8576b\"], [0.6666666666666666, \"#ed7953\"], [0.7777777777777778, \"#fb9f3a\"], [0.8888888888888888, \"#fdca26\"], [1.0, \"#f0f921\"]], \"type\": \"heatmap\"}], \"heatmapgl\": [{\"colorbar\": {\"outlinewidth\": 0, \"ticks\": \"\"}, \"colorscale\": [[0.0, \"#0d0887\"], [0.1111111111111111, \"#46039f\"], [0.2222222222222222, \"#7201a8\"], [0.3333333333333333, \"#9c179e\"], [0.4444444444444444, \"#bd3786\"], [0.5555555555555556, \"#d8576b\"], [0.6666666666666666, \"#ed7953\"], [0.7777777777777778, \"#fb9f3a\"], [0.8888888888888888, \"#fdca26\"], [1.0, \"#f0f921\"]], \"type\": \"heatmapgl\"}], \"histogram\": [{\"marker\": {\"colorbar\": {\"outlinewidth\": 0, \"ticks\": \"\"}}, \"type\": \"histogram\"}], \"histogram2d\": [{\"colorbar\": {\"outlinewidth\": 0, \"ticks\": \"\"}, \"colorscale\": [[0.0, \"#0d0887\"], [0.1111111111111111, \"#46039f\"], [0.2222222222222222, \"#7201a8\"], [0.3333333333333333, \"#9c179e\"], [0.4444444444444444, \"#bd3786\"], [0.5555555555555556, \"#d8576b\"], [0.6666666666666666, \"#ed7953\"], [0.7777777777777778, \"#fb9f3a\"], [0.8888888888888888, \"#fdca26\"], [1.0, \"#f0f921\"]], \"type\": \"histogram2d\"}], \"histogram2dcontour\": [{\"colorbar\": {\"outlinewidth\": 0, \"ticks\": \"\"}, \"colorscale\": [[0.0, \"#0d0887\"], [0.1111111111111111, \"#46039f\"], [0.2222222222222222, \"#7201a8\"], [0.3333333333333333, \"#9c179e\"], [0.4444444444444444, \"#bd3786\"], [0.5555555555555556, \"#d8576b\"], [0.6666666666666666, \"#ed7953\"], [0.7777777777777778, \"#fb9f3a\"], [0.8888888888888888, \"#fdca26\"], [1.0, \"#f0f921\"]], \"type\": \"histogram2dcontour\"}], \"mesh3d\": [{\"colorbar\": {\"outlinewidth\": 0, \"ticks\": \"\"}, \"type\": \"mesh3d\"}], \"parcoords\": [{\"line\": {\"colorbar\": {\"outlinewidth\": 0, \"ticks\": \"\"}}, \"type\": \"parcoords\"}], \"pie\": [{\"automargin\": true, \"type\": \"pie\"}], \"scatter\": [{\"marker\": {\"colorbar\": {\"outlinewidth\": 0, \"ticks\": \"\"}}, \"type\": \"scatter\"}], \"scatter3d\": [{\"line\": {\"colorbar\": {\"outlinewidth\": 0, \"ticks\": \"\"}}, \"marker\": {\"colorbar\": {\"outlinewidth\": 0, \"ticks\": \"\"}}, \"type\": \"scatter3d\"}], \"scattercarpet\": [{\"marker\": {\"colorbar\": {\"outlinewidth\": 0, \"ticks\": \"\"}}, \"type\": \"scattercarpet\"}], \"scattergeo\": [{\"marker\": {\"colorbar\": {\"outlinewidth\": 0, \"ticks\": \"\"}}, \"type\": \"scattergeo\"}], \"scattergl\": [{\"marker\": {\"colorbar\": {\"outlinewidth\": 0, \"ticks\": \"\"}}, \"type\": \"scattergl\"}], \"scattermapbox\": [{\"marker\": {\"colorbar\": {\"outlinewidth\": 0, \"ticks\": \"\"}}, \"type\": \"scattermapbox\"}], \"scatterpolar\": [{\"marker\": {\"colorbar\": {\"outlinewidth\": 0, \"ticks\": \"\"}}, \"type\": \"scatterpolar\"}], \"scatterpolargl\": [{\"marker\": {\"colorbar\": {\"outlinewidth\": 0, \"ticks\": \"\"}}, \"type\": \"scatterpolargl\"}], \"scatterternary\": [{\"marker\": {\"colorbar\": {\"outlinewidth\": 0, \"ticks\": \"\"}}, \"type\": \"scatterternary\"}], \"surface\": [{\"colorbar\": {\"outlinewidth\": 0, \"ticks\": \"\"}, \"colorscale\": [[0.0, \"#0d0887\"], [0.1111111111111111, \"#46039f\"], [0.2222222222222222, \"#7201a8\"], [0.3333333333333333, \"#9c179e\"], [0.4444444444444444, \"#bd3786\"], [0.5555555555555556, \"#d8576b\"], [0.6666666666666666, \"#ed7953\"], [0.7777777777777778, \"#fb9f3a\"], [0.8888888888888888, \"#fdca26\"], [1.0, \"#f0f921\"]], \"type\": \"surface\"}], \"table\": [{\"cells\": {\"fill\": {\"color\": \"#EBF0F8\"}, \"line\": {\"color\": \"white\"}}, \"header\": {\"fill\": {\"color\": \"#C8D4E3\"}, \"line\": {\"color\": \"white\"}}, \"type\": \"table\"}]}, \"layout\": {\"annotationdefaults\": {\"arrowcolor\": \"#2a3f5f\", \"arrowhead\": 0, \"arrowwidth\": 1}, \"coloraxis\": {\"colorbar\": {\"outlinewidth\": 0, \"ticks\": \"\"}}, \"colorscale\": {\"diverging\": [[0, \"#8e0152\"], [0.1, \"#c51b7d\"], [0.2, \"#de77ae\"], [0.3, \"#f1b6da\"], [0.4, \"#fde0ef\"], [0.5, \"#f7f7f7\"], [0.6, \"#e6f5d0\"], [0.7, \"#b8e186\"], [0.8, \"#7fbc41\"], [0.9, \"#4d9221\"], [1, \"#276419\"]], \"sequential\": [[0.0, \"#0d0887\"], [0.1111111111111111, \"#46039f\"], [0.2222222222222222, \"#7201a8\"], [0.3333333333333333, \"#9c179e\"], [0.4444444444444444, \"#bd3786\"], [0.5555555555555556, \"#d8576b\"], [0.6666666666666666, \"#ed7953\"], [0.7777777777777778, \"#fb9f3a\"], [0.8888888888888888, \"#fdca26\"], [1.0, \"#f0f921\"]], \"sequentialminus\": [[0.0, \"#0d0887\"], [0.1111111111111111, \"#46039f\"], [0.2222222222222222, \"#7201a8\"], [0.3333333333333333, \"#9c179e\"], [0.4444444444444444, \"#bd3786\"], [0.5555555555555556, \"#d8576b\"], [0.6666666666666666, \"#ed7953\"], [0.7777777777777778, \"#fb9f3a\"], [0.8888888888888888, \"#fdca26\"], [1.0, \"#f0f921\"]]}, \"colorway\": [\"#636efa\", \"#EF553B\", \"#00cc96\", \"#ab63fa\", \"#FFA15A\", \"#19d3f3\", \"#FF6692\", \"#B6E880\", \"#FF97FF\", \"#FECB52\"], \"font\": {\"color\": \"#2a3f5f\"}, \"geo\": {\"bgcolor\": \"white\", \"lakecolor\": \"white\", \"landcolor\": \"#E5ECF6\", \"showlakes\": true, \"showland\": true, \"subunitcolor\": \"white\"}, \"hoverlabel\": {\"align\": \"left\"}, \"hovermode\": \"closest\", \"mapbox\": {\"style\": \"light\"}, \"paper_bgcolor\": \"white\", \"plot_bgcolor\": \"#E5ECF6\", \"polar\": {\"angularaxis\": {\"gridcolor\": \"white\", \"linecolor\": \"white\", \"ticks\": \"\"}, \"bgcolor\": \"#E5ECF6\", \"radialaxis\": {\"gridcolor\": \"white\", \"linecolor\": \"white\", \"ticks\": \"\"}}, \"scene\": {\"xaxis\": {\"backgroundcolor\": \"#E5ECF6\", \"gridcolor\": \"white\", \"gridwidth\": 2, \"linecolor\": \"white\", \"showbackground\": true, \"ticks\": \"\", \"zerolinecolor\": \"white\"}, \"yaxis\": {\"backgroundcolor\": \"#E5ECF6\", \"gridcolor\": \"white\", \"gridwidth\": 2, \"linecolor\": \"white\", \"showbackground\": true, \"ticks\": \"\", \"zerolinecolor\": \"white\"}, \"zaxis\": {\"backgroundcolor\": \"#E5ECF6\", \"gridcolor\": \"white\", \"gridwidth\": 2, \"linecolor\": \"white\", \"showbackground\": true, \"ticks\": \"\", \"zerolinecolor\": \"white\"}}, \"shapedefaults\": {\"line\": {\"color\": \"#2a3f5f\"}}, \"ternary\": {\"aaxis\": {\"gridcolor\": \"white\", \"linecolor\": \"white\", \"ticks\": \"\"}, \"baxis\": {\"gridcolor\": \"white\", \"linecolor\": \"white\", \"ticks\": \"\"}, \"bgcolor\": \"#E5ECF6\", \"caxis\": {\"gridcolor\": \"white\", \"linecolor\": \"white\", \"ticks\": \"\"}}, \"title\": {\"x\": 0.05}, \"xaxis\": {\"automargin\": true, \"gridcolor\": \"white\", \"linecolor\": \"white\", \"ticks\": \"\", \"title\": {\"standoff\": 15}, \"zerolinecolor\": \"white\", \"zerolinewidth\": 2}, \"yaxis\": {\"automargin\": true, \"gridcolor\": \"white\", \"linecolor\": \"white\", \"ticks\": \"\", \"title\": {\"standoff\": 15}, \"zerolinecolor\": \"white\", \"zerolinewidth\": 2}}}, \"title\": {\"text\": \"Annualized GDP\"}, \"width\": 1400, \"xaxis\": {\"rangeselector\": {\"buttons\": [{\"count\": 1, \"label\": \"1m\", \"step\": \"month\", \"stepmode\": \"backward\"}, {\"count\": 6, \"label\": \"6m\", \"step\": \"month\", \"stepmode\": \"backward\"}, {\"count\": 1, \"label\": \"YTD\", \"step\": \"year\", \"stepmode\": \"todate\"}, {\"count\": 1, \"label\": \"1y\", \"step\": \"year\", \"stepmode\": \"backward\"}, {\"count\": 6, \"label\": \"5y\", \"step\": \"year\", \"stepmode\": \"backward\"}, {\"step\": \"all\"}]}, \"rangeslider\": {\"visible\": true}, \"showspikes\": true, \"title\": {\"text\": \"Date\"}}, \"yaxis\": {\"fixedrange\": false, \"showspikes\": true, \"title\": {\"text\": \"Annualized GDP\"}}},\n",
       "                        {\"responsive\": true}\n",
       "                    ).then(function(){\n",
       "                            \n",
       "var gd = document.getElementById('e2e9ec88-915b-43ad-a432-91c0a5a3f94b');\n",
       "var x = new MutationObserver(function (mutations, observer) {{\n",
       "        var display = window.getComputedStyle(gd).display;\n",
       "        if (!display || display === 'none') {{\n",
       "            console.log([gd, 'removed!']);\n",
       "            Plotly.purge(gd);\n",
       "            observer.disconnect();\n",
       "        }}\n",
       "}});\n",
       "\n",
       "// Listen for the removal of the full notebook cells\n",
       "var notebookContainer = gd.closest('#notebook-container');\n",
       "if (notebookContainer) {{\n",
       "    x.observe(notebookContainer, {childList: true});\n",
       "}}\n",
       "\n",
       "// Listen for the clearing of the current output cell\n",
       "var outputEl = gd.closest('.output');\n",
       "if (outputEl) {{\n",
       "    x.observe(outputEl, {childList: true});\n",
       "}}\n",
       "\n",
       "                        })\n",
       "                };\n",
       "                });\n",
       "            </script>\n",
       "        </div>"
      ]
     },
     "metadata": {},
     "output_type": "display_data"
    }
   ],
   "source": [
    "\n",
    "t1 = get_FRED_data('GDP',start_date = '1958-09-15',API = FRED_API_KEY)\n",
    "t1 = t1.to_frame()\n",
    "t1 = t1.rename(columns={t1.columns[0]: 'GDP'})\n",
    "figure = plotly_time_series(df_labels = econ_data_labels, df_titles = econ_data_titles, df = t1, font = 1)"
   ]
  },
  {
   "cell_type": "markdown",
   "metadata": {},
   "source": [
    "## Notice the exponential trend in the data so the data not stationary. This means that you can not statistically compare say 2011/10 data with 1970/71 because they woud have two different means and variances. Therefore you could not build a robust model across time. So we will have to modify the data."
   ]
  },
  {
   "cell_type": "markdown",
   "metadata": {},
   "source": [
    "## One of the ways of modifying the data is by taking the difference.\n",
    "$\\begin{equation}\\;Difference=:\\;\\Delta\\;y\\;\\;=y_t\\;-\\;y_{t-1}\\end{equation}$"
   ]
  },
  {
   "cell_type": "code",
   "execution_count": 3,
   "metadata": {},
   "outputs": [
    {
     "name": "stdout",
     "output_type": "stream",
     "text": [
      "                 GDP\n",
      "1958-10-01  0.028227\n",
      "1959-01-01  0.021569\n",
      "1959-04-01  0.024147\n",
      "1959-07-01  0.004556\n",
      "1959-10-01  0.006792\n",
      "...              ...\n",
      "2019-04-01  0.010162\n",
      "2019-07-01  0.009866\n",
      "2019-10-01  0.009613\n",
      "2020-01-01 -0.008564\n",
      "2020-04-01 -0.096221\n",
      "\n",
      "[247 rows x 1 columns]\n",
      "                  GDP\n",
      "1959-01-01  -0.235876\n",
      "1959-04-01   0.119519\n",
      "1959-07-01  -0.811340\n",
      "1959-10-01   0.490898\n",
      "1960-01-01   2.912852\n",
      "...               ...\n",
      "2019-04-01   0.034188\n",
      "2019-07-01  -0.029068\n",
      "2019-10-01  -0.025669\n",
      "2020-01-01  -1.890918\n",
      "2020-04-01  10.234875\n",
      "\n",
      "[246 rows x 1 columns]\n",
      "['GDP']\n"
     ]
    },
    {
     "data": {
      "application/vnd.plotly.v1+json": {
       "config": {
        "linkText": "Export to plot.ly",
        "plotlyServerURL": "https://plot.ly",
        "showLink": false
       },
       "data": [
        {
         "line": {
          "color": "gray",
          "width": 3
         },
         "name": "GDP diff_1",
         "opacity": 0.8,
         "text": "GDP",
         "type": "scatter",
         "x": [
          "1958-10-01T00:00:00",
          "1959-01-01T00:00:00",
          "1959-04-01T00:00:00",
          "1959-07-01T00:00:00",
          "1959-10-01T00:00:00",
          "1960-01-01T00:00:00",
          "1960-04-01T00:00:00",
          "1960-07-01T00:00:00",
          "1960-10-01T00:00:00",
          "1961-01-01T00:00:00",
          "1961-04-01T00:00:00",
          "1961-07-01T00:00:00",
          "1961-10-01T00:00:00",
          "1962-01-01T00:00:00",
          "1962-04-01T00:00:00",
          "1962-07-01T00:00:00",
          "1962-10-01T00:00:00",
          "1963-01-01T00:00:00",
          "1963-04-01T00:00:00",
          "1963-07-01T00:00:00",
          "1963-10-01T00:00:00",
          "1964-01-01T00:00:00",
          "1964-04-01T00:00:00",
          "1964-07-01T00:00:00",
          "1964-10-01T00:00:00",
          "1965-01-01T00:00:00",
          "1965-04-01T00:00:00",
          "1965-07-01T00:00:00",
          "1965-10-01T00:00:00",
          "1966-01-01T00:00:00",
          "1966-04-01T00:00:00",
          "1966-07-01T00:00:00",
          "1966-10-01T00:00:00",
          "1967-01-01T00:00:00",
          "1967-04-01T00:00:00",
          "1967-07-01T00:00:00",
          "1967-10-01T00:00:00",
          "1968-01-01T00:00:00",
          "1968-04-01T00:00:00",
          "1968-07-01T00:00:00",
          "1968-10-01T00:00:00",
          "1969-01-01T00:00:00",
          "1969-04-01T00:00:00",
          "1969-07-01T00:00:00",
          "1969-10-01T00:00:00",
          "1970-01-01T00:00:00",
          "1970-04-01T00:00:00",
          "1970-07-01T00:00:00",
          "1970-10-01T00:00:00",
          "1971-01-01T00:00:00",
          "1971-04-01T00:00:00",
          "1971-07-01T00:00:00",
          "1971-10-01T00:00:00",
          "1972-01-01T00:00:00",
          "1972-04-01T00:00:00",
          "1972-07-01T00:00:00",
          "1972-10-01T00:00:00",
          "1973-01-01T00:00:00",
          "1973-04-01T00:00:00",
          "1973-07-01T00:00:00",
          "1973-10-01T00:00:00",
          "1974-01-01T00:00:00",
          "1974-04-01T00:00:00",
          "1974-07-01T00:00:00",
          "1974-10-01T00:00:00",
          "1975-01-01T00:00:00",
          "1975-04-01T00:00:00",
          "1975-07-01T00:00:00",
          "1975-10-01T00:00:00",
          "1976-01-01T00:00:00",
          "1976-04-01T00:00:00",
          "1976-07-01T00:00:00",
          "1976-10-01T00:00:00",
          "1977-01-01T00:00:00",
          "1977-04-01T00:00:00",
          "1977-07-01T00:00:00",
          "1977-10-01T00:00:00",
          "1978-01-01T00:00:00",
          "1978-04-01T00:00:00",
          "1978-07-01T00:00:00",
          "1978-10-01T00:00:00",
          "1979-01-01T00:00:00",
          "1979-04-01T00:00:00",
          "1979-07-01T00:00:00",
          "1979-10-01T00:00:00",
          "1980-01-01T00:00:00",
          "1980-04-01T00:00:00",
          "1980-07-01T00:00:00",
          "1980-10-01T00:00:00",
          "1981-01-01T00:00:00",
          "1981-04-01T00:00:00",
          "1981-07-01T00:00:00",
          "1981-10-01T00:00:00",
          "1982-01-01T00:00:00",
          "1982-04-01T00:00:00",
          "1982-07-01T00:00:00",
          "1982-10-01T00:00:00",
          "1983-01-01T00:00:00",
          "1983-04-01T00:00:00",
          "1983-07-01T00:00:00",
          "1983-10-01T00:00:00",
          "1984-01-01T00:00:00",
          "1984-04-01T00:00:00",
          "1984-07-01T00:00:00",
          "1984-10-01T00:00:00",
          "1985-01-01T00:00:00",
          "1985-04-01T00:00:00",
          "1985-07-01T00:00:00",
          "1985-10-01T00:00:00",
          "1986-01-01T00:00:00",
          "1986-04-01T00:00:00",
          "1986-07-01T00:00:00",
          "1986-10-01T00:00:00",
          "1987-01-01T00:00:00",
          "1987-04-01T00:00:00",
          "1987-07-01T00:00:00",
          "1987-10-01T00:00:00",
          "1988-01-01T00:00:00",
          "1988-04-01T00:00:00",
          "1988-07-01T00:00:00",
          "1988-10-01T00:00:00",
          "1989-01-01T00:00:00",
          "1989-04-01T00:00:00",
          "1989-07-01T00:00:00",
          "1989-10-01T00:00:00",
          "1990-01-01T00:00:00",
          "1990-04-01T00:00:00",
          "1990-07-01T00:00:00",
          "1990-10-01T00:00:00",
          "1991-01-01T00:00:00",
          "1991-04-01T00:00:00",
          "1991-07-01T00:00:00",
          "1991-10-01T00:00:00",
          "1992-01-01T00:00:00",
          "1992-04-01T00:00:00",
          "1992-07-01T00:00:00",
          "1992-10-01T00:00:00",
          "1993-01-01T00:00:00",
          "1993-04-01T00:00:00",
          "1993-07-01T00:00:00",
          "1993-10-01T00:00:00",
          "1994-01-01T00:00:00",
          "1994-04-01T00:00:00",
          "1994-07-01T00:00:00",
          "1994-10-01T00:00:00",
          "1995-01-01T00:00:00",
          "1995-04-01T00:00:00",
          "1995-07-01T00:00:00",
          "1995-10-01T00:00:00",
          "1996-01-01T00:00:00",
          "1996-04-01T00:00:00",
          "1996-07-01T00:00:00",
          "1996-10-01T00:00:00",
          "1997-01-01T00:00:00",
          "1997-04-01T00:00:00",
          "1997-07-01T00:00:00",
          "1997-10-01T00:00:00",
          "1998-01-01T00:00:00",
          "1998-04-01T00:00:00",
          "1998-07-01T00:00:00",
          "1998-10-01T00:00:00",
          "1999-01-01T00:00:00",
          "1999-04-01T00:00:00",
          "1999-07-01T00:00:00",
          "1999-10-01T00:00:00",
          "2000-01-01T00:00:00",
          "2000-04-01T00:00:00",
          "2000-07-01T00:00:00",
          "2000-10-01T00:00:00",
          "2001-01-01T00:00:00",
          "2001-04-01T00:00:00",
          "2001-07-01T00:00:00",
          "2001-10-01T00:00:00",
          "2002-01-01T00:00:00",
          "2002-04-01T00:00:00",
          "2002-07-01T00:00:00",
          "2002-10-01T00:00:00",
          "2003-01-01T00:00:00",
          "2003-04-01T00:00:00",
          "2003-07-01T00:00:00",
          "2003-10-01T00:00:00",
          "2004-01-01T00:00:00",
          "2004-04-01T00:00:00",
          "2004-07-01T00:00:00",
          "2004-10-01T00:00:00",
          "2005-01-01T00:00:00",
          "2005-04-01T00:00:00",
          "2005-07-01T00:00:00",
          "2005-10-01T00:00:00",
          "2006-01-01T00:00:00",
          "2006-04-01T00:00:00",
          "2006-07-01T00:00:00",
          "2006-10-01T00:00:00",
          "2007-01-01T00:00:00",
          "2007-04-01T00:00:00",
          "2007-07-01T00:00:00",
          "2007-10-01T00:00:00",
          "2008-01-01T00:00:00",
          "2008-04-01T00:00:00",
          "2008-07-01T00:00:00",
          "2008-10-01T00:00:00",
          "2009-01-01T00:00:00",
          "2009-04-01T00:00:00",
          "2009-07-01T00:00:00",
          "2009-10-01T00:00:00",
          "2010-01-01T00:00:00",
          "2010-04-01T00:00:00",
          "2010-07-01T00:00:00",
          "2010-10-01T00:00:00",
          "2011-01-01T00:00:00",
          "2011-04-01T00:00:00",
          "2011-07-01T00:00:00",
          "2011-10-01T00:00:00",
          "2012-01-01T00:00:00",
          "2012-04-01T00:00:00",
          "2012-07-01T00:00:00",
          "2012-10-01T00:00:00",
          "2013-01-01T00:00:00",
          "2013-04-01T00:00:00",
          "2013-07-01T00:00:00",
          "2013-10-01T00:00:00",
          "2014-01-01T00:00:00",
          "2014-04-01T00:00:00",
          "2014-07-01T00:00:00",
          "2014-10-01T00:00:00",
          "2015-01-01T00:00:00",
          "2015-04-01T00:00:00",
          "2015-07-01T00:00:00",
          "2015-10-01T00:00:00",
          "2016-01-01T00:00:00",
          "2016-04-01T00:00:00",
          "2016-07-01T00:00:00",
          "2016-10-01T00:00:00",
          "2017-01-01T00:00:00",
          "2017-04-01T00:00:00",
          "2017-07-01T00:00:00",
          "2017-10-01T00:00:00",
          "2018-01-01T00:00:00",
          "2018-04-01T00:00:00",
          "2018-07-01T00:00:00",
          "2018-10-01T00:00:00",
          "2019-01-01T00:00:00",
          "2019-04-01T00:00:00",
          "2019-07-01T00:00:00",
          "2019-10-01T00:00:00",
          "2020-01-01T00:00:00",
          "2020-04-01T00:00:00"
         ],
         "y": [
          0.028227341866989403,
          0.02156919658496057,
          0.024147120490662977,
          0.0045556038136200724,
          0.006791941093338776,
          0.026575860764283015,
          -0.0028895342837345454,
          0.00836105566644489,
          -0.009910117961012087,
          0.008924521979944403,
          0.019314958405043374,
          0.021814614477675128,
          0.02280926745398683,
          0.023080818171171226,
          0.010695052128488688,
          0.014426200017989124,
          0.005341306707255883,
          0.0153393872084668,
          0.012997207530659137,
          0.02332981872229069,
          0.014732079125571855,
          0.024289764473084625,
          0.013215451269143108,
          0.019681025057685975,
          0.007641276185604419,
          0.029356721959390184,
          0.017276640800234146,
          0.02620136375277146,
          0.030072478757491753,
          0.030934486569403487,
          0.011620717475940397,
          0.018207883167428846,
          0.016670774171036466,
          0.013042090382598312,
          0.005701458237084934,
          0.019140548161741756,
          0.01873021486697805,
          0.03170724236163816,
          0.027443761566857794,
          0.01763911364550957,
          0.018094812399758027,
          0.026142784831048642,
          0.015788196754978414,
          0.020748845414362373,
          0.007952766914314817,
          0.012573363887773227,
          0.015387176560121722,
          0.01750462583440681,
          0.0023470179796861662,
          0.042759193391928046,
          0.018600967620309463,
          0.01851123136358172,
          0.010717727726240323,
          0.03386717768758545,
          0.029058783090323566,
          0.019107384972310692,
          0.029706345897846344,
          0.03656095549415158,
          0.0264226963535125,
          0.01411074576681165,
          0.029606552483613924,
          0.010106422252011681,
          0.026050674318623332,
          0.019587518365340895,
          0.025418166107487965,
          0.010275186459283329,
          0.02211289288640177,
          0.03509210565346908,
          0.03041899147278659,
          0.03329263703499381,
          0.017492572042535886,
          0.018477249218822482,
          0.025292092795450718,
          0.0281113369209,
          0.033822476375909766,
          0.030431308000499948,
          0.02161792951810102,
          0.017784287542681937,
          0.0585052388821295,
          0.02719982089805732,
          0.03419381533519308,
          0.020049262217348866,
          0.025582499871369034,
          0.029452228984732143,
          0.021112137848562175,
          0.024215063569176902,
          0.002691908717411152,
          0.021138204988146045,
          0.045186335784249236,
          0.04643991054265598,
          0.012267436910370194,
          0.031012176319480646,
          0.006197921921947798,
          -0.00198609005437061,
          0.01761291414170106,
          0.010309210281478928,
          0.01076516150267266,
          0.020823138806328485,
          0.030354869979469744,
          0.03082863535975826,
          0.028604467281202684,
          0.029870034727328007,
          0.025984031950428532,
          0.01861756319394371,
          0.01574364938483207,
          0.01967361616140172,
          0.015299392364558583,
          0.02139427649668092,
          0.013066780524089099,
          0.014356131981006744,
          0.008306761427841895,
          0.013712725560684067,
          0.010842358685053231,
          0.013854479974458997,
          0.01778933182215918,
          0.016311358756262887,
          0.02527128878679826,
          0.013054728100712704,
          0.022995356934204656,
          0.017880222796142452,
          0.022085490082503045,
          0.02069521506492529,
          0.018364244936677748,
          0.01477105506085297,
          0.009107756921637209,
          0.021830316028380235,
          0.014869989124254789,
          0.009242909597068963,
          -0.0017261512496184299,
          0.005070167149813273,
          0.015191598325683219,
          0.012906280572338632,
          0.009443054288175995,
          0.015733318008983883,
          0.016919577903984576,
          0.01481710889426791,
          0.017385144094218073,
          0.007282956854138634,
          0.011810756258415494,
          0.010744552124787672,
          0.019127888036467998,
          0.014530625466762481,
          0.018449328325780903,
          0.01161098401516452,
          0.016943354146561007,
          0.008987043827146612,
          0.007804539283189005,
          0.01347157900207581,
          0.011643829821849864,
          0.01233592011719132,
          0.020889962315408832,
          0.012270629067677211,
          0.015786072965469237,
          0.012456035403402831,
          0.018674691231433088,
          0.016903504884769858,
          0.011899585158325284,
          0.011473199521738062,
          0.011641485685413035,
          0.016878827260535634,
          0.018955395387199613,
          0.013263731372238173,
          0.0113502180675832,
          0.016558324562648698,
          0.022466973274545794,
          0.010453080991553142,
          0.024475207433236335,
          0.007040228328775778,
          0.011550583464351276,
          0.0032430231750571704,
          0.011930148338389023,
          -0.00014418056842247846,
          0.0060398475164996366,
          0.012068897912196366,
          0.00966312576050028,
          0.009073911842490383,
          0.007224493408918888,
          0.01012007175564782,
          0.011567748828699298,
          0.02249216048086796,
          0.017458572534395637,
          0.012821010639992712,
          0.015840211661428568,
          0.016050310401687688,
          0.017806953233837245,
          0.01907873275344035,
          0.011651208646868375,
          0.01803645261022783,
          0.01441412391339406,
          0.02037282944688681,
          0.010722854927321356,
          0.008557429828464391,
          0.012241527275092522,
          0.012206184867838605,
          0.0122316328970215,
          0.010612998712381356,
          0.010078979687861062,
          -0.0020748559701082017,
          0.010550241522120044,
          0.001997621037051366,
          -0.018580419646884144,
          -0.011332498554384516,
          -0.00289672193227061,
          0.004700251169628299,
          0.01440391858373111,
          0.006380152175061802,
          0.013908235318092403,
          0.010305372509278682,
          0.010671544147093204,
          0.00295160838544159,
          0.013761832201696944,
          0.006173195228839817,
          0.01312288150540178,
          0.014135951979114351,
          0.008270973881128529,
          0.006494076957789877,
          0.006256446778405363,
          0.012881579850629044,
          0.0041241211083604375,
          0.012671170673556316,
          0.013911360060700012,
          0.0012537509943285877,
          0.01919687475061464,
          0.01656338595010159,
          0.007237190066369133,
          0.008598753876209642,
          0.012229801716886899,
          0.0067960313170130175,
          0.001710212741025,
          0.0049705630992398775,
          0.010073060563213406,
          0.008852388912708885,
          0.011222409603897431,
          0.010763385731204049,
          0.0073708891024192496,
          0.012284078130650404,
          0.016346551062511764,
          0.015259934026359685,
          0.01533616750933622,
          0.00924795450981454,
          0.008057283510944892,
          0.00982579839274824,
          0.01016172673580099,
          0.009866348502619134,
          0.009613086153528301,
          -0.008564474437718883,
          -0.09622079798288954
         ]
        }
       ],
       "layout": {
        "font": {
         "size": 20
        },
        "height": 800,
        "template": {
         "data": {
          "bar": [
           {
            "error_x": {
             "color": "#2a3f5f"
            },
            "error_y": {
             "color": "#2a3f5f"
            },
            "marker": {
             "line": {
              "color": "#E5ECF6",
              "width": 0.5
             }
            },
            "type": "bar"
           }
          ],
          "barpolar": [
           {
            "marker": {
             "line": {
              "color": "#E5ECF6",
              "width": 0.5
             }
            },
            "type": "barpolar"
           }
          ],
          "carpet": [
           {
            "aaxis": {
             "endlinecolor": "#2a3f5f",
             "gridcolor": "white",
             "linecolor": "white",
             "minorgridcolor": "white",
             "startlinecolor": "#2a3f5f"
            },
            "baxis": {
             "endlinecolor": "#2a3f5f",
             "gridcolor": "white",
             "linecolor": "white",
             "minorgridcolor": "white",
             "startlinecolor": "#2a3f5f"
            },
            "type": "carpet"
           }
          ],
          "choropleth": [
           {
            "colorbar": {
             "outlinewidth": 0,
             "ticks": ""
            },
            "type": "choropleth"
           }
          ],
          "contour": [
           {
            "colorbar": {
             "outlinewidth": 0,
             "ticks": ""
            },
            "colorscale": [
             [
              0,
              "#0d0887"
             ],
             [
              0.1111111111111111,
              "#46039f"
             ],
             [
              0.2222222222222222,
              "#7201a8"
             ],
             [
              0.3333333333333333,
              "#9c179e"
             ],
             [
              0.4444444444444444,
              "#bd3786"
             ],
             [
              0.5555555555555556,
              "#d8576b"
             ],
             [
              0.6666666666666666,
              "#ed7953"
             ],
             [
              0.7777777777777778,
              "#fb9f3a"
             ],
             [
              0.8888888888888888,
              "#fdca26"
             ],
             [
              1,
              "#f0f921"
             ]
            ],
            "type": "contour"
           }
          ],
          "contourcarpet": [
           {
            "colorbar": {
             "outlinewidth": 0,
             "ticks": ""
            },
            "type": "contourcarpet"
           }
          ],
          "heatmap": [
           {
            "colorbar": {
             "outlinewidth": 0,
             "ticks": ""
            },
            "colorscale": [
             [
              0,
              "#0d0887"
             ],
             [
              0.1111111111111111,
              "#46039f"
             ],
             [
              0.2222222222222222,
              "#7201a8"
             ],
             [
              0.3333333333333333,
              "#9c179e"
             ],
             [
              0.4444444444444444,
              "#bd3786"
             ],
             [
              0.5555555555555556,
              "#d8576b"
             ],
             [
              0.6666666666666666,
              "#ed7953"
             ],
             [
              0.7777777777777778,
              "#fb9f3a"
             ],
             [
              0.8888888888888888,
              "#fdca26"
             ],
             [
              1,
              "#f0f921"
             ]
            ],
            "type": "heatmap"
           }
          ],
          "heatmapgl": [
           {
            "colorbar": {
             "outlinewidth": 0,
             "ticks": ""
            },
            "colorscale": [
             [
              0,
              "#0d0887"
             ],
             [
              0.1111111111111111,
              "#46039f"
             ],
             [
              0.2222222222222222,
              "#7201a8"
             ],
             [
              0.3333333333333333,
              "#9c179e"
             ],
             [
              0.4444444444444444,
              "#bd3786"
             ],
             [
              0.5555555555555556,
              "#d8576b"
             ],
             [
              0.6666666666666666,
              "#ed7953"
             ],
             [
              0.7777777777777778,
              "#fb9f3a"
             ],
             [
              0.8888888888888888,
              "#fdca26"
             ],
             [
              1,
              "#f0f921"
             ]
            ],
            "type": "heatmapgl"
           }
          ],
          "histogram": [
           {
            "marker": {
             "colorbar": {
              "outlinewidth": 0,
              "ticks": ""
             }
            },
            "type": "histogram"
           }
          ],
          "histogram2d": [
           {
            "colorbar": {
             "outlinewidth": 0,
             "ticks": ""
            },
            "colorscale": [
             [
              0,
              "#0d0887"
             ],
             [
              0.1111111111111111,
              "#46039f"
             ],
             [
              0.2222222222222222,
              "#7201a8"
             ],
             [
              0.3333333333333333,
              "#9c179e"
             ],
             [
              0.4444444444444444,
              "#bd3786"
             ],
             [
              0.5555555555555556,
              "#d8576b"
             ],
             [
              0.6666666666666666,
              "#ed7953"
             ],
             [
              0.7777777777777778,
              "#fb9f3a"
             ],
             [
              0.8888888888888888,
              "#fdca26"
             ],
             [
              1,
              "#f0f921"
             ]
            ],
            "type": "histogram2d"
           }
          ],
          "histogram2dcontour": [
           {
            "colorbar": {
             "outlinewidth": 0,
             "ticks": ""
            },
            "colorscale": [
             [
              0,
              "#0d0887"
             ],
             [
              0.1111111111111111,
              "#46039f"
             ],
             [
              0.2222222222222222,
              "#7201a8"
             ],
             [
              0.3333333333333333,
              "#9c179e"
             ],
             [
              0.4444444444444444,
              "#bd3786"
             ],
             [
              0.5555555555555556,
              "#d8576b"
             ],
             [
              0.6666666666666666,
              "#ed7953"
             ],
             [
              0.7777777777777778,
              "#fb9f3a"
             ],
             [
              0.8888888888888888,
              "#fdca26"
             ],
             [
              1,
              "#f0f921"
             ]
            ],
            "type": "histogram2dcontour"
           }
          ],
          "mesh3d": [
           {
            "colorbar": {
             "outlinewidth": 0,
             "ticks": ""
            },
            "type": "mesh3d"
           }
          ],
          "parcoords": [
           {
            "line": {
             "colorbar": {
              "outlinewidth": 0,
              "ticks": ""
             }
            },
            "type": "parcoords"
           }
          ],
          "pie": [
           {
            "automargin": true,
            "type": "pie"
           }
          ],
          "scatter": [
           {
            "marker": {
             "colorbar": {
              "outlinewidth": 0,
              "ticks": ""
             }
            },
            "type": "scatter"
           }
          ],
          "scatter3d": [
           {
            "line": {
             "colorbar": {
              "outlinewidth": 0,
              "ticks": ""
             }
            },
            "marker": {
             "colorbar": {
              "outlinewidth": 0,
              "ticks": ""
             }
            },
            "type": "scatter3d"
           }
          ],
          "scattercarpet": [
           {
            "marker": {
             "colorbar": {
              "outlinewidth": 0,
              "ticks": ""
             }
            },
            "type": "scattercarpet"
           }
          ],
          "scattergeo": [
           {
            "marker": {
             "colorbar": {
              "outlinewidth": 0,
              "ticks": ""
             }
            },
            "type": "scattergeo"
           }
          ],
          "scattergl": [
           {
            "marker": {
             "colorbar": {
              "outlinewidth": 0,
              "ticks": ""
             }
            },
            "type": "scattergl"
           }
          ],
          "scattermapbox": [
           {
            "marker": {
             "colorbar": {
              "outlinewidth": 0,
              "ticks": ""
             }
            },
            "type": "scattermapbox"
           }
          ],
          "scatterpolar": [
           {
            "marker": {
             "colorbar": {
              "outlinewidth": 0,
              "ticks": ""
             }
            },
            "type": "scatterpolar"
           }
          ],
          "scatterpolargl": [
           {
            "marker": {
             "colorbar": {
              "outlinewidth": 0,
              "ticks": ""
             }
            },
            "type": "scatterpolargl"
           }
          ],
          "scatterternary": [
           {
            "marker": {
             "colorbar": {
              "outlinewidth": 0,
              "ticks": ""
             }
            },
            "type": "scatterternary"
           }
          ],
          "surface": [
           {
            "colorbar": {
             "outlinewidth": 0,
             "ticks": ""
            },
            "colorscale": [
             [
              0,
              "#0d0887"
             ],
             [
              0.1111111111111111,
              "#46039f"
             ],
             [
              0.2222222222222222,
              "#7201a8"
             ],
             [
              0.3333333333333333,
              "#9c179e"
             ],
             [
              0.4444444444444444,
              "#bd3786"
             ],
             [
              0.5555555555555556,
              "#d8576b"
             ],
             [
              0.6666666666666666,
              "#ed7953"
             ],
             [
              0.7777777777777778,
              "#fb9f3a"
             ],
             [
              0.8888888888888888,
              "#fdca26"
             ],
             [
              1,
              "#f0f921"
             ]
            ],
            "type": "surface"
           }
          ],
          "table": [
           {
            "cells": {
             "fill": {
              "color": "#EBF0F8"
             },
             "line": {
              "color": "white"
             }
            },
            "header": {
             "fill": {
              "color": "#C8D4E3"
             },
             "line": {
              "color": "white"
             }
            },
            "type": "table"
           }
          ]
         },
         "layout": {
          "annotationdefaults": {
           "arrowcolor": "#2a3f5f",
           "arrowhead": 0,
           "arrowwidth": 1
          },
          "coloraxis": {
           "colorbar": {
            "outlinewidth": 0,
            "ticks": ""
           }
          },
          "colorscale": {
           "diverging": [
            [
             0,
             "#8e0152"
            ],
            [
             0.1,
             "#c51b7d"
            ],
            [
             0.2,
             "#de77ae"
            ],
            [
             0.3,
             "#f1b6da"
            ],
            [
             0.4,
             "#fde0ef"
            ],
            [
             0.5,
             "#f7f7f7"
            ],
            [
             0.6,
             "#e6f5d0"
            ],
            [
             0.7,
             "#b8e186"
            ],
            [
             0.8,
             "#7fbc41"
            ],
            [
             0.9,
             "#4d9221"
            ],
            [
             1,
             "#276419"
            ]
           ],
           "sequential": [
            [
             0,
             "#0d0887"
            ],
            [
             0.1111111111111111,
             "#46039f"
            ],
            [
             0.2222222222222222,
             "#7201a8"
            ],
            [
             0.3333333333333333,
             "#9c179e"
            ],
            [
             0.4444444444444444,
             "#bd3786"
            ],
            [
             0.5555555555555556,
             "#d8576b"
            ],
            [
             0.6666666666666666,
             "#ed7953"
            ],
            [
             0.7777777777777778,
             "#fb9f3a"
            ],
            [
             0.8888888888888888,
             "#fdca26"
            ],
            [
             1,
             "#f0f921"
            ]
           ],
           "sequentialminus": [
            [
             0,
             "#0d0887"
            ],
            [
             0.1111111111111111,
             "#46039f"
            ],
            [
             0.2222222222222222,
             "#7201a8"
            ],
            [
             0.3333333333333333,
             "#9c179e"
            ],
            [
             0.4444444444444444,
             "#bd3786"
            ],
            [
             0.5555555555555556,
             "#d8576b"
            ],
            [
             0.6666666666666666,
             "#ed7953"
            ],
            [
             0.7777777777777778,
             "#fb9f3a"
            ],
            [
             0.8888888888888888,
             "#fdca26"
            ],
            [
             1,
             "#f0f921"
            ]
           ]
          },
          "colorway": [
           "#636efa",
           "#EF553B",
           "#00cc96",
           "#ab63fa",
           "#FFA15A",
           "#19d3f3",
           "#FF6692",
           "#B6E880",
           "#FF97FF",
           "#FECB52"
          ],
          "font": {
           "color": "#2a3f5f"
          },
          "geo": {
           "bgcolor": "white",
           "lakecolor": "white",
           "landcolor": "#E5ECF6",
           "showlakes": true,
           "showland": true,
           "subunitcolor": "white"
          },
          "hoverlabel": {
           "align": "left"
          },
          "hovermode": "closest",
          "mapbox": {
           "style": "light"
          },
          "paper_bgcolor": "white",
          "plot_bgcolor": "#E5ECF6",
          "polar": {
           "angularaxis": {
            "gridcolor": "white",
            "linecolor": "white",
            "ticks": ""
           },
           "bgcolor": "#E5ECF6",
           "radialaxis": {
            "gridcolor": "white",
            "linecolor": "white",
            "ticks": ""
           }
          },
          "scene": {
           "xaxis": {
            "backgroundcolor": "#E5ECF6",
            "gridcolor": "white",
            "gridwidth": 2,
            "linecolor": "white",
            "showbackground": true,
            "ticks": "",
            "zerolinecolor": "white"
           },
           "yaxis": {
            "backgroundcolor": "#E5ECF6",
            "gridcolor": "white",
            "gridwidth": 2,
            "linecolor": "white",
            "showbackground": true,
            "ticks": "",
            "zerolinecolor": "white"
           },
           "zaxis": {
            "backgroundcolor": "#E5ECF6",
            "gridcolor": "white",
            "gridwidth": 2,
            "linecolor": "white",
            "showbackground": true,
            "ticks": "",
            "zerolinecolor": "white"
           }
          },
          "shapedefaults": {
           "line": {
            "color": "#2a3f5f"
           }
          },
          "ternary": {
           "aaxis": {
            "gridcolor": "white",
            "linecolor": "white",
            "ticks": ""
           },
           "baxis": {
            "gridcolor": "white",
            "linecolor": "white",
            "ticks": ""
           },
           "bgcolor": "#E5ECF6",
           "caxis": {
            "gridcolor": "white",
            "linecolor": "white",
            "ticks": ""
           }
          },
          "title": {
           "x": 0.05
          },
          "xaxis": {
           "automargin": true,
           "gridcolor": "white",
           "linecolor": "white",
           "ticks": "",
           "title": {
            "standoff": 15
           },
           "zerolinecolor": "white",
           "zerolinewidth": 2
          },
          "yaxis": {
           "automargin": true,
           "gridcolor": "white",
           "linecolor": "white",
           "ticks": "",
           "title": {
            "standoff": 15
           },
           "zerolinecolor": "white",
           "zerolinewidth": 2
          }
         }
        },
        "title": {
         "text": "Annualized GDP - 1st difference"
        },
        "width": 1400,
        "xaxis": {
         "autorange": true,
         "range": [
          "1958-10-01",
          "2020-04-01"
         ],
         "rangeselector": {
          "buttons": [
           {
            "count": 1,
            "label": "1m",
            "step": "month",
            "stepmode": "backward"
           },
           {
            "count": 6,
            "label": "6m",
            "step": "month",
            "stepmode": "backward"
           },
           {
            "count": 1,
            "label": "YTD",
            "step": "year",
            "stepmode": "todate"
           },
           {
            "count": 1,
            "label": "1y",
            "step": "year",
            "stepmode": "backward"
           },
           {
            "count": 6,
            "label": "5y",
            "step": "year",
            "stepmode": "backward"
           },
           {
            "step": "all"
           }
          ]
         },
         "rangeslider": {
          "autorange": true,
          "range": [
           "1958-10-01",
           "2020-04-01"
          ],
          "visible": true,
          "yaxis": {
           "_template": null,
           "rangemode": "match"
          }
         },
         "showspikes": true,
         "title": {
          "text": "Date"
         },
         "type": "date"
        },
        "yaxis": {
         "autorange": true,
         "fixedrange": false,
         "range": [
          -0.10481668891983505,
          0.06710112981907501
         ],
         "showspikes": true,
         "title": {
          "text": "Annualized GDP"
         },
         "type": "linear"
        }
       }
      },
      "image/png": "[encoded data removed]",
      "text/html": [
       "<div>\n",
       "        \n",
       "        \n",
       "            <div id=\"ba631a0a-7c14-4a7a-a1ab-c4620ecd1f92\" class=\"plotly-graph-div\" style=\"height:800px; width:1400px;\"></div>\n",
       "            <script type=\"text/javascript\">\n",
       "                require([\"plotly\"], function(Plotly) {\n",
       "                    window.PLOTLYENV=window.PLOTLYENV || {};\n",
       "                    \n",
       "                if (document.getElementById(\"ba631a0a-7c14-4a7a-a1ab-c4620ecd1f92\")) {\n",
       "                    Plotly.newPlot(\n",
       "                        'ba631a0a-7c14-4a7a-a1ab-c4620ecd1f92',\n",
       "                        [{\"line\": {\"color\": \"gray\", \"width\": 3}, \"name\": \"GDP diff_1\", \"opacity\": 0.8, \"text\": \"GDP\", \"type\": \"scatter\", \"x\": [\"1958-10-01T00:00:00\", \"1959-01-01T00:00:00\", \"1959-04-01T00:00:00\", \"1959-07-01T00:00:00\", \"1959-10-01T00:00:00\", \"1960-01-01T00:00:00\", \"1960-04-01T00:00:00\", \"1960-07-01T00:00:00\", \"1960-10-01T00:00:00\", \"1961-01-01T00:00:00\", \"1961-04-01T00:00:00\", \"1961-07-01T00:00:00\", \"1961-10-01T00:00:00\", \"1962-01-01T00:00:00\", \"1962-04-01T00:00:00\", \"1962-07-01T00:00:00\", \"1962-10-01T00:00:00\", \"1963-01-01T00:00:00\", \"1963-04-01T00:00:00\", \"1963-07-01T00:00:00\", \"1963-10-01T00:00:00\", \"1964-01-01T00:00:00\", \"1964-04-01T00:00:00\", \"1964-07-01T00:00:00\", \"1964-10-01T00:00:00\", \"1965-01-01T00:00:00\", \"1965-04-01T00:00:00\", \"1965-07-01T00:00:00\", \"1965-10-01T00:00:00\", \"1966-01-01T00:00:00\", \"1966-04-01T00:00:00\", \"1966-07-01T00:00:00\", \"1966-10-01T00:00:00\", \"1967-01-01T00:00:00\", \"1967-04-01T00:00:00\", \"1967-07-01T00:00:00\", \"1967-10-01T00:00:00\", \"1968-01-01T00:00:00\", \"1968-04-01T00:00:00\", \"1968-07-01T00:00:00\", \"1968-10-01T00:00:00\", \"1969-01-01T00:00:00\", \"1969-04-01T00:00:00\", \"1969-07-01T00:00:00\", \"1969-10-01T00:00:00\", \"1970-01-01T00:00:00\", \"1970-04-01T00:00:00\", \"1970-07-01T00:00:00\", \"1970-10-01T00:00:00\", \"1971-01-01T00:00:00\", \"1971-04-01T00:00:00\", \"1971-07-01T00:00:00\", \"1971-10-01T00:00:00\", \"1972-01-01T00:00:00\", \"1972-04-01T00:00:00\", \"1972-07-01T00:00:00\", \"1972-10-01T00:00:00\", \"1973-01-01T00:00:00\", \"1973-04-01T00:00:00\", \"1973-07-01T00:00:00\", \"1973-10-01T00:00:00\", \"1974-01-01T00:00:00\", \"1974-04-01T00:00:00\", \"1974-07-01T00:00:00\", \"1974-10-01T00:00:00\", \"1975-01-01T00:00:00\", \"1975-04-01T00:00:00\", \"1975-07-01T00:00:00\", \"1975-10-01T00:00:00\", \"1976-01-01T00:00:00\", \"1976-04-01T00:00:00\", \"1976-07-01T00:00:00\", \"1976-10-01T00:00:00\", \"1977-01-01T00:00:00\", \"1977-04-01T00:00:00\", \"1977-07-01T00:00:00\", \"1977-10-01T00:00:00\", \"1978-01-01T00:00:00\", \"1978-04-01T00:00:00\", \"1978-07-01T00:00:00\", \"1978-10-01T00:00:00\", \"1979-01-01T00:00:00\", \"1979-04-01T00:00:00\", \"1979-07-01T00:00:00\", \"1979-10-01T00:00:00\", \"1980-01-01T00:00:00\", \"1980-04-01T00:00:00\", \"1980-07-01T00:00:00\", \"1980-10-01T00:00:00\", \"1981-01-01T00:00:00\", \"1981-04-01T00:00:00\", \"1981-07-01T00:00:00\", \"1981-10-01T00:00:00\", \"1982-01-01T00:00:00\", \"1982-04-01T00:00:00\", \"1982-07-01T00:00:00\", \"1982-10-01T00:00:00\", \"1983-01-01T00:00:00\", \"1983-04-01T00:00:00\", \"1983-07-01T00:00:00\", \"1983-10-01T00:00:00\", \"1984-01-01T00:00:00\", \"1984-04-01T00:00:00\", \"1984-07-01T00:00:00\", \"1984-10-01T00:00:00\", \"1985-01-01T00:00:00\", \"1985-04-01T00:00:00\", \"1985-07-01T00:00:00\", \"1985-10-01T00:00:00\", \"1986-01-01T00:00:00\", \"1986-04-01T00:00:00\", \"1986-07-01T00:00:00\", \"1986-10-01T00:00:00\", \"1987-01-01T00:00:00\", \"1987-04-01T00:00:00\", \"1987-07-01T00:00:00\", \"1987-10-01T00:00:00\", \"1988-01-01T00:00:00\", \"1988-04-01T00:00:00\", \"1988-07-01T00:00:00\", \"1988-10-01T00:00:00\", \"1989-01-01T00:00:00\", \"1989-04-01T00:00:00\", \"1989-07-01T00:00:00\", \"1989-10-01T00:00:00\", \"1990-01-01T00:00:00\", \"1990-04-01T00:00:00\", \"1990-07-01T00:00:00\", \"1990-10-01T00:00:00\", \"1991-01-01T00:00:00\", \"1991-04-01T00:00:00\", \"1991-07-01T00:00:00\", \"1991-10-01T00:00:00\", \"1992-01-01T00:00:00\", \"1992-04-01T00:00:00\", \"1992-07-01T00:00:00\", \"1992-10-01T00:00:00\", \"1993-01-01T00:00:00\", \"1993-04-01T00:00:00\", \"1993-07-01T00:00:00\", \"1993-10-01T00:00:00\", \"1994-01-01T00:00:00\", \"1994-04-01T00:00:00\", \"1994-07-01T00:00:00\", \"1994-10-01T00:00:00\", \"1995-01-01T00:00:00\", \"1995-04-01T00:00:00\", \"1995-07-01T00:00:00\", \"1995-10-01T00:00:00\", \"1996-01-01T00:00:00\", \"1996-04-01T00:00:00\", \"1996-07-01T00:00:00\", \"1996-10-01T00:00:00\", \"1997-01-01T00:00:00\", \"1997-04-01T00:00:00\", \"1997-07-01T00:00:00\", \"1997-10-01T00:00:00\", \"1998-01-01T00:00:00\", \"1998-04-01T00:00:00\", \"1998-07-01T00:00:00\", \"1998-10-01T00:00:00\", \"1999-01-01T00:00:00\", \"1999-04-01T00:00:00\", \"1999-07-01T00:00:00\", \"1999-10-01T00:00:00\", \"2000-01-01T00:00:00\", \"2000-04-01T00:00:00\", \"2000-07-01T00:00:00\", \"2000-10-01T00:00:00\", \"2001-01-01T00:00:00\", \"2001-04-01T00:00:00\", \"2001-07-01T00:00:00\", \"2001-10-01T00:00:00\", \"2002-01-01T00:00:00\", \"2002-04-01T00:00:00\", \"2002-07-01T00:00:00\", \"2002-10-01T00:00:00\", \"2003-01-01T00:00:00\", \"2003-04-01T00:00:00\", \"2003-07-01T00:00:00\", \"2003-10-01T00:00:00\", \"2004-01-01T00:00:00\", \"2004-04-01T00:00:00\", \"2004-07-01T00:00:00\", \"2004-10-01T00:00:00\", \"2005-01-01T00:00:00\", \"2005-04-01T00:00:00\", \"2005-07-01T00:00:00\", \"2005-10-01T00:00:00\", \"2006-01-01T00:00:00\", \"2006-04-01T00:00:00\", \"2006-07-01T00:00:00\", \"2006-10-01T00:00:00\", \"2007-01-01T00:00:00\", \"2007-04-01T00:00:00\", \"2007-07-01T00:00:00\", \"2007-10-01T00:00:00\", \"2008-01-01T00:00:00\", \"2008-04-01T00:00:00\", \"2008-07-01T00:00:00\", \"2008-10-01T00:00:00\", \"2009-01-01T00:00:00\", \"2009-04-01T00:00:00\", \"2009-07-01T00:00:00\", \"2009-10-01T00:00:00\", \"2010-01-01T00:00:00\", \"2010-04-01T00:00:00\", \"2010-07-01T00:00:00\", \"2010-10-01T00:00:00\", \"2011-01-01T00:00:00\", \"2011-04-01T00:00:00\", \"2011-07-01T00:00:00\", \"2011-10-01T00:00:00\", \"2012-01-01T00:00:00\", \"2012-04-01T00:00:00\", \"2012-07-01T00:00:00\", \"2012-10-01T00:00:00\", \"2013-01-01T00:00:00\", \"2013-04-01T00:00:00\", \"2013-07-01T00:00:00\", \"2013-10-01T00:00:00\", \"2014-01-01T00:00:00\", \"2014-04-01T00:00:00\", \"2014-07-01T00:00:00\", \"2014-10-01T00:00:00\", \"2015-01-01T00:00:00\", \"2015-04-01T00:00:00\", \"2015-07-01T00:00:00\", \"2015-10-01T00:00:00\", \"2016-01-01T00:00:00\", \"2016-04-01T00:00:00\", \"2016-07-01T00:00:00\", \"2016-10-01T00:00:00\", \"2017-01-01T00:00:00\", \"2017-04-01T00:00:00\", \"2017-07-01T00:00:00\", \"2017-10-01T00:00:00\", \"2018-01-01T00:00:00\", \"2018-04-01T00:00:00\", \"2018-07-01T00:00:00\", \"2018-10-01T00:00:00\", \"2019-01-01T00:00:00\", \"2019-04-01T00:00:00\", \"2019-07-01T00:00:00\", \"2019-10-01T00:00:00\", \"2020-01-01T00:00:00\", \"2020-04-01T00:00:00\"], \"y\": [0.028227341866989403, 0.02156919658496057, 0.024147120490662977, 0.0045556038136200724, 0.006791941093338776, 0.026575860764283015, -0.0028895342837345454, 0.00836105566644489, -0.009910117961012087, 0.008924521979944403, 0.019314958405043374, 0.021814614477675128, 0.02280926745398683, 0.023080818171171226, 0.010695052128488688, 0.014426200017989124, 0.005341306707255883, 0.0153393872084668, 0.012997207530659137, 0.02332981872229069, 0.014732079125571855, 0.024289764473084625, 0.013215451269143108, 0.019681025057685975, 0.007641276185604419, 0.029356721959390184, 0.017276640800234146, 0.02620136375277146, 0.030072478757491753, 0.030934486569403487, 0.011620717475940397, 0.018207883167428846, 0.016670774171036466, 0.013042090382598312, 0.005701458237084934, 0.019140548161741756, 0.01873021486697805, 0.03170724236163816, 0.027443761566857794, 0.01763911364550957, 0.018094812399758027, 0.026142784831048642, 0.015788196754978414, 0.020748845414362373, 0.007952766914314817, 0.012573363887773227, 0.015387176560121722, 0.01750462583440681, 0.0023470179796861662, 0.042759193391928046, 0.018600967620309463, 0.01851123136358172, 0.010717727726240323, 0.03386717768758545, 0.029058783090323566, 0.019107384972310692, 0.029706345897846344, 0.03656095549415158, 0.0264226963535125, 0.01411074576681165, 0.029606552483613924, 0.010106422252011681, 0.026050674318623332, 0.019587518365340895, 0.025418166107487965, 0.010275186459283329, 0.02211289288640177, 0.03509210565346908, 0.03041899147278659, 0.03329263703499381, 0.017492572042535886, 0.018477249218822482, 0.025292092795450718, 0.0281113369209, 0.033822476375909766, 0.030431308000499948, 0.02161792951810102, 0.017784287542681937, 0.0585052388821295, 0.02719982089805732, 0.03419381533519308, 0.020049262217348866, 0.025582499871369034, 0.029452228984732143, 0.021112137848562175, 0.024215063569176902, 0.002691908717411152, 0.021138204988146045, 0.045186335784249236, 0.04643991054265598, 0.012267436910370194, 0.031012176319480646, 0.006197921921947798, -0.00198609005437061, 0.01761291414170106, 0.010309210281478928, 0.01076516150267266, 0.020823138806328485, 0.030354869979469744, 0.03082863535975826, 0.028604467281202684, 0.029870034727328007, 0.025984031950428532, 0.01861756319394371, 0.01574364938483207, 0.01967361616140172, 0.015299392364558583, 0.02139427649668092, 0.013066780524089099, 0.014356131981006744, 0.008306761427841895, 0.013712725560684067, 0.010842358685053231, 0.013854479974458997, 0.01778933182215918, 0.016311358756262887, 0.02527128878679826, 0.013054728100712704, 0.022995356934204656, 0.017880222796142452, 0.022085490082503045, 0.02069521506492529, 0.018364244936677748, 0.01477105506085297, 0.009107756921637209, 0.021830316028380235, 0.014869989124254789, 0.009242909597068963, -0.0017261512496184299, 0.005070167149813273, 0.015191598325683219, 0.012906280572338632, 0.009443054288175995, 0.015733318008983883, 0.016919577903984576, 0.01481710889426791, 0.017385144094218073, 0.007282956854138634, 0.011810756258415494, 0.010744552124787672, 0.019127888036467998, 0.014530625466762481, 0.018449328325780903, 0.01161098401516452, 0.016943354146561007, 0.008987043827146612, 0.007804539283189005, 0.01347157900207581, 0.011643829821849864, 0.01233592011719132, 0.020889962315408832, 0.012270629067677211, 0.015786072965469237, 0.012456035403402831, 0.018674691231433088, 0.016903504884769858, 0.011899585158325284, 0.011473199521738062, 0.011641485685413035, 0.016878827260535634, 0.018955395387199613, 0.013263731372238173, 0.0113502180675832, 0.016558324562648698, 0.022466973274545794, 0.010453080991553142, 0.024475207433236335, 0.007040228328775778, 0.011550583464351276, 0.0032430231750571704, 0.011930148338389023, -0.00014418056842247846, 0.0060398475164996366, 0.012068897912196366, 0.00966312576050028, 0.009073911842490383, 0.007224493408918888, 0.01012007175564782, 0.011567748828699298, 0.02249216048086796, 0.017458572534395637, 0.012821010639992712, 0.015840211661428568, 0.016050310401687688, 0.017806953233837245, 0.01907873275344035, 0.011651208646868375, 0.01803645261022783, 0.01441412391339406, 0.02037282944688681, 0.010722854927321356, 0.008557429828464391, 0.012241527275092522, 0.012206184867838605, 0.0122316328970215, 0.010612998712381356, 0.010078979687861062, -0.0020748559701082017, 0.010550241522120044, 0.001997621037051366, -0.018580419646884144, -0.011332498554384516, -0.00289672193227061, 0.004700251169628299, 0.01440391858373111, 0.006380152175061802, 0.013908235318092403, 0.010305372509278682, 0.010671544147093204, 0.00295160838544159, 0.013761832201696944, 0.006173195228839817, 0.01312288150540178, 0.014135951979114351, 0.008270973881128529, 0.006494076957789877, 0.006256446778405363, 0.012881579850629044, 0.0041241211083604375, 0.012671170673556316, 0.013911360060700012, 0.0012537509943285877, 0.01919687475061464, 0.01656338595010159, 0.007237190066369133, 0.008598753876209642, 0.012229801716886899, 0.0067960313170130175, 0.001710212741025, 0.0049705630992398775, 0.010073060563213406, 0.008852388912708885, 0.011222409603897431, 0.010763385731204049, 0.0073708891024192496, 0.012284078130650404, 0.016346551062511764, 0.015259934026359685, 0.01533616750933622, 0.00924795450981454, 0.008057283510944892, 0.00982579839274824, 0.01016172673580099, 0.009866348502619134, 0.009613086153528301, -0.008564474437718883, -0.09622079798288954]}],\n",
       "                        {\"font\": {\"size\": 20}, \"height\": 800, \"template\": {\"data\": {\"bar\": [{\"error_x\": {\"color\": \"#2a3f5f\"}, \"error_y\": {\"color\": \"#2a3f5f\"}, \"marker\": {\"line\": {\"color\": \"#E5ECF6\", \"width\": 0.5}}, \"type\": \"bar\"}], \"barpolar\": [{\"marker\": {\"line\": {\"color\": \"#E5ECF6\", \"width\": 0.5}}, \"type\": \"barpolar\"}], \"carpet\": [{\"aaxis\": {\"endlinecolor\": \"#2a3f5f\", \"gridcolor\": \"white\", \"linecolor\": \"white\", \"minorgridcolor\": \"white\", \"startlinecolor\": \"#2a3f5f\"}, \"baxis\": {\"endlinecolor\": \"#2a3f5f\", \"gridcolor\": \"white\", \"linecolor\": \"white\", \"minorgridcolor\": \"white\", \"startlinecolor\": \"#2a3f5f\"}, \"type\": \"carpet\"}], \"choropleth\": [{\"colorbar\": {\"outlinewidth\": 0, \"ticks\": \"\"}, \"type\": \"choropleth\"}], \"contour\": [{\"colorbar\": {\"outlinewidth\": 0, \"ticks\": \"\"}, \"colorscale\": [[0.0, \"#0d0887\"], [0.1111111111111111, \"#46039f\"], [0.2222222222222222, \"#7201a8\"], [0.3333333333333333, \"#9c179e\"], [0.4444444444444444, \"#bd3786\"], [0.5555555555555556, \"#d8576b\"], [0.6666666666666666, \"#ed7953\"], [0.7777777777777778, \"#fb9f3a\"], [0.8888888888888888, \"#fdca26\"], [1.0, \"#f0f921\"]], \"type\": \"contour\"}], \"contourcarpet\": [{\"colorbar\": {\"outlinewidth\": 0, \"ticks\": \"\"}, \"type\": \"contourcarpet\"}], \"heatmap\": [{\"colorbar\": {\"outlinewidth\": 0, \"ticks\": \"\"}, \"colorscale\": [[0.0, \"#0d0887\"], [0.1111111111111111, \"#46039f\"], [0.2222222222222222, \"#7201a8\"], [0.3333333333333333, \"#9c179e\"], [0.4444444444444444, \"#bd3786\"], [0.5555555555555556, \"#d8576b\"], [0.6666666666666666, \"#ed7953\"], [0.7777777777777778, \"#fb9f3a\"], [0.8888888888888888, \"#fdca26\"], [1.0, \"#f0f921\"]], \"type\": \"heatmap\"}], \"heatmapgl\": [{\"colorbar\": {\"outlinewidth\": 0, \"ticks\": \"\"}, \"colorscale\": [[0.0, \"#0d0887\"], [0.1111111111111111, \"#46039f\"], [0.2222222222222222, \"#7201a8\"], [0.3333333333333333, \"#9c179e\"], [0.4444444444444444, \"#bd3786\"], [0.5555555555555556, \"#d8576b\"], [0.6666666666666666, \"#ed7953\"], [0.7777777777777778, \"#fb9f3a\"], [0.8888888888888888, \"#fdca26\"], [1.0, \"#f0f921\"]], \"type\": \"heatmapgl\"}], \"histogram\": [{\"marker\": {\"colorbar\": {\"outlinewidth\": 0, \"ticks\": \"\"}}, \"type\": \"histogram\"}], \"histogram2d\": [{\"colorbar\": {\"outlinewidth\": 0, \"ticks\": \"\"}, \"colorscale\": [[0.0, \"#0d0887\"], [0.1111111111111111, \"#46039f\"], [0.2222222222222222, \"#7201a8\"], [0.3333333333333333, \"#9c179e\"], [0.4444444444444444, \"#bd3786\"], [0.5555555555555556, \"#d8576b\"], [0.6666666666666666, \"#ed7953\"], [0.7777777777777778, \"#fb9f3a\"], [0.8888888888888888, \"#fdca26\"], [1.0, \"#f0f921\"]], \"type\": \"histogram2d\"}], \"histogram2dcontour\": [{\"colorbar\": {\"outlinewidth\": 0, \"ticks\": \"\"}, \"colorscale\": [[0.0, \"#0d0887\"], [0.1111111111111111, \"#46039f\"], [0.2222222222222222, \"#7201a8\"], [0.3333333333333333, \"#9c179e\"], [0.4444444444444444, \"#bd3786\"], [0.5555555555555556, \"#d8576b\"], [0.6666666666666666, \"#ed7953\"], [0.7777777777777778, \"#fb9f3a\"], [0.8888888888888888, \"#fdca26\"], [1.0, \"#f0f921\"]], \"type\": \"histogram2dcontour\"}], \"mesh3d\": [{\"colorbar\": {\"outlinewidth\": 0, \"ticks\": \"\"}, \"type\": \"mesh3d\"}], \"parcoords\": [{\"line\": {\"colorbar\": {\"outlinewidth\": 0, \"ticks\": \"\"}}, \"type\": \"parcoords\"}], \"pie\": [{\"automargin\": true, \"type\": \"pie\"}], \"scatter\": [{\"marker\": {\"colorbar\": {\"outlinewidth\": 0, \"ticks\": \"\"}}, \"type\": \"scatter\"}], \"scatter3d\": [{\"line\": {\"colorbar\": {\"outlinewidth\": 0, \"ticks\": \"\"}}, \"marker\": {\"colorbar\": {\"outlinewidth\": 0, \"ticks\": \"\"}}, \"type\": \"scatter3d\"}], \"scattercarpet\": [{\"marker\": {\"colorbar\": {\"outlinewidth\": 0, \"ticks\": \"\"}}, \"type\": \"scattercarpet\"}], \"scattergeo\": [{\"marker\": {\"colorbar\": {\"outlinewidth\": 0, \"ticks\": \"\"}}, \"type\": \"scattergeo\"}], \"scattergl\": [{\"marker\": {\"colorbar\": {\"outlinewidth\": 0, \"ticks\": \"\"}}, \"type\": \"scattergl\"}], \"scattermapbox\": [{\"marker\": {\"colorbar\": {\"outlinewidth\": 0, \"ticks\": \"\"}}, \"type\": \"scattermapbox\"}], \"scatterpolar\": [{\"marker\": {\"colorbar\": {\"outlinewidth\": 0, \"ticks\": \"\"}}, \"type\": \"scatterpolar\"}], \"scatterpolargl\": [{\"marker\": {\"colorbar\": {\"outlinewidth\": 0, \"ticks\": \"\"}}, \"type\": \"scatterpolargl\"}], \"scatterternary\": [{\"marker\": {\"colorbar\": {\"outlinewidth\": 0, \"ticks\": \"\"}}, \"type\": \"scatterternary\"}], \"surface\": [{\"colorbar\": {\"outlinewidth\": 0, \"ticks\": \"\"}, \"colorscale\": [[0.0, \"#0d0887\"], [0.1111111111111111, \"#46039f\"], [0.2222222222222222, \"#7201a8\"], [0.3333333333333333, \"#9c179e\"], [0.4444444444444444, \"#bd3786\"], [0.5555555555555556, \"#d8576b\"], [0.6666666666666666, \"#ed7953\"], [0.7777777777777778, \"#fb9f3a\"], [0.8888888888888888, \"#fdca26\"], [1.0, \"#f0f921\"]], \"type\": \"surface\"}], \"table\": [{\"cells\": {\"fill\": {\"color\": \"#EBF0F8\"}, \"line\": {\"color\": \"white\"}}, \"header\": {\"fill\": {\"color\": \"#C8D4E3\"}, \"line\": {\"color\": \"white\"}}, \"type\": \"table\"}]}, \"layout\": {\"annotationdefaults\": {\"arrowcolor\": \"#2a3f5f\", \"arrowhead\": 0, \"arrowwidth\": 1}, \"coloraxis\": {\"colorbar\": {\"outlinewidth\": 0, \"ticks\": \"\"}}, \"colorscale\": {\"diverging\": [[0, \"#8e0152\"], [0.1, \"#c51b7d\"], [0.2, \"#de77ae\"], [0.3, \"#f1b6da\"], [0.4, \"#fde0ef\"], [0.5, \"#f7f7f7\"], [0.6, \"#e6f5d0\"], [0.7, \"#b8e186\"], [0.8, \"#7fbc41\"], [0.9, \"#4d9221\"], [1, \"#276419\"]], \"sequential\": [[0.0, \"#0d0887\"], [0.1111111111111111, \"#46039f\"], [0.2222222222222222, \"#7201a8\"], [0.3333333333333333, \"#9c179e\"], [0.4444444444444444, \"#bd3786\"], [0.5555555555555556, \"#d8576b\"], [0.6666666666666666, \"#ed7953\"], [0.7777777777777778, \"#fb9f3a\"], [0.8888888888888888, \"#fdca26\"], [1.0, \"#f0f921\"]], \"sequentialminus\": [[0.0, \"#0d0887\"], [0.1111111111111111, \"#46039f\"], [0.2222222222222222, \"#7201a8\"], [0.3333333333333333, \"#9c179e\"], [0.4444444444444444, \"#bd3786\"], [0.5555555555555556, \"#d8576b\"], [0.6666666666666666, \"#ed7953\"], [0.7777777777777778, \"#fb9f3a\"], [0.8888888888888888, \"#fdca26\"], [1.0, \"#f0f921\"]]}, \"colorway\": [\"#636efa\", \"#EF553B\", \"#00cc96\", \"#ab63fa\", \"#FFA15A\", \"#19d3f3\", \"#FF6692\", \"#B6E880\", \"#FF97FF\", \"#FECB52\"], \"font\": {\"color\": \"#2a3f5f\"}, \"geo\": {\"bgcolor\": \"white\", \"lakecolor\": \"white\", \"landcolor\": \"#E5ECF6\", \"showlakes\": true, \"showland\": true, \"subunitcolor\": \"white\"}, \"hoverlabel\": {\"align\": \"left\"}, \"hovermode\": \"closest\", \"mapbox\": {\"style\": \"light\"}, \"paper_bgcolor\": \"white\", \"plot_bgcolor\": \"#E5ECF6\", \"polar\": {\"angularaxis\": {\"gridcolor\": \"white\", \"linecolor\": \"white\", \"ticks\": \"\"}, \"bgcolor\": \"#E5ECF6\", \"radialaxis\": {\"gridcolor\": \"white\", \"linecolor\": \"white\", \"ticks\": \"\"}}, \"scene\": {\"xaxis\": {\"backgroundcolor\": \"#E5ECF6\", \"gridcolor\": \"white\", \"gridwidth\": 2, \"linecolor\": \"white\", \"showbackground\": true, \"ticks\": \"\", \"zerolinecolor\": \"white\"}, \"yaxis\": {\"backgroundcolor\": \"#E5ECF6\", \"gridcolor\": \"white\", \"gridwidth\": 2, \"linecolor\": \"white\", \"showbackground\": true, \"ticks\": \"\", \"zerolinecolor\": \"white\"}, \"zaxis\": {\"backgroundcolor\": \"#E5ECF6\", \"gridcolor\": \"white\", \"gridwidth\": 2, \"linecolor\": \"white\", \"showbackground\": true, \"ticks\": \"\", \"zerolinecolor\": \"white\"}}, \"shapedefaults\": {\"line\": {\"color\": \"#2a3f5f\"}}, \"ternary\": {\"aaxis\": {\"gridcolor\": \"white\", \"linecolor\": \"white\", \"ticks\": \"\"}, \"baxis\": {\"gridcolor\": \"white\", \"linecolor\": \"white\", \"ticks\": \"\"}, \"bgcolor\": \"#E5ECF6\", \"caxis\": {\"gridcolor\": \"white\", \"linecolor\": \"white\", \"ticks\": \"\"}}, \"title\": {\"x\": 0.05}, \"xaxis\": {\"automargin\": true, \"gridcolor\": \"white\", \"linecolor\": \"white\", \"ticks\": \"\", \"title\": {\"standoff\": 15}, \"zerolinecolor\": \"white\", \"zerolinewidth\": 2}, \"yaxis\": {\"automargin\": true, \"gridcolor\": \"white\", \"linecolor\": \"white\", \"ticks\": \"\", \"title\": {\"standoff\": 15}, \"zerolinecolor\": \"white\", \"zerolinewidth\": 2}}}, \"title\": {\"text\": \"Annualized GDP - 1st difference\"}, \"width\": 1400, \"xaxis\": {\"rangeselector\": {\"buttons\": [{\"count\": 1, \"label\": \"1m\", \"step\": \"month\", \"stepmode\": \"backward\"}, {\"count\": 6, \"label\": \"6m\", \"step\": \"month\", \"stepmode\": \"backward\"}, {\"count\": 1, \"label\": \"YTD\", \"step\": \"year\", \"stepmode\": \"todate\"}, {\"count\": 1, \"label\": \"1y\", \"step\": \"year\", \"stepmode\": \"backward\"}, {\"count\": 6, \"label\": \"5y\", \"step\": \"year\", \"stepmode\": \"backward\"}, {\"step\": \"all\"}]}, \"rangeslider\": {\"visible\": true}, \"showspikes\": true, \"title\": {\"text\": \"Date\"}}, \"yaxis\": {\"fixedrange\": false, \"showspikes\": true, \"title\": {\"text\": \"Annualized GDP\"}}},\n",
       "                        {\"responsive\": true}\n",
       "                    ).then(function(){\n",
       "                            \n",
       "var gd = document.getElementById('ba631a0a-7c14-4a7a-a1ab-c4620ecd1f92');\n",
       "var x = new MutationObserver(function (mutations, observer) {{\n",
       "        var display = window.getComputedStyle(gd).display;\n",
       "        if (!display || display === 'none') {{\n",
       "            console.log([gd, 'removed!']);\n",
       "            Plotly.purge(gd);\n",
       "            observer.disconnect();\n",
       "        }}\n",
       "}});\n",
       "\n",
       "// Listen for the removal of the full notebook cells\n",
       "var notebookContainer = gd.closest('#notebook-container');\n",
       "if (notebookContainer) {{\n",
       "    x.observe(notebookContainer, {childList: true});\n",
       "}}\n",
       "\n",
       "// Listen for the clearing of the current output cell\n",
       "var outputEl = gd.closest('.output');\n",
       "if (outputEl) {{\n",
       "    x.observe(outputEl, {childList: true});\n",
       "}}\n",
       "\n",
       "                        })\n",
       "                };\n",
       "                });\n",
       "            </script>\n",
       "        </div>"
      ]
     },
     "metadata": {},
     "output_type": "display_data"
    },
    {
     "name": "stdout",
     "output_type": "stream",
     "text": [
      "                  GDP\n",
      "1959-01-01  -0.235876\n",
      "1959-04-01   0.119519\n",
      "1959-07-01  -0.811340\n",
      "1959-10-01   0.490898\n",
      "1960-01-01   2.912852\n",
      "...               ...\n",
      "2019-04-01   0.034188\n",
      "2019-07-01  -0.029068\n",
      "2019-10-01  -0.025669\n",
      "2020-01-01  -1.890918\n",
      "2020-04-01  10.234875\n",
      "\n",
      "[246 rows x 1 columns]\n",
      "['GDP']\n"
     ]
    },
    {
     "data": {
      "application/vnd.plotly.v1+json": {
       "config": {
        "linkText": "Export to plot.ly",
        "plotlyServerURL": "https://plot.ly",
        "showLink": false
       },
       "data": [
        {
         "line": {
          "color": "gray",
          "width": 3
         },
         "name": "GDP diff_2",
         "opacity": 0.8,
         "text": "GDP",
         "type": "scatter",
         "x": [
          "1959-01-01T00:00:00",
          "1959-04-01T00:00:00",
          "1959-07-01T00:00:00",
          "1959-10-01T00:00:00",
          "1960-01-01T00:00:00",
          "1960-04-01T00:00:00",
          "1960-07-01T00:00:00",
          "1960-10-01T00:00:00",
          "1961-01-01T00:00:00",
          "1961-04-01T00:00:00",
          "1961-07-01T00:00:00",
          "1961-10-01T00:00:00",
          "1962-01-01T00:00:00",
          "1962-04-01T00:00:00",
          "1962-07-01T00:00:00",
          "1962-10-01T00:00:00",
          "1963-01-01T00:00:00",
          "1963-04-01T00:00:00",
          "1963-07-01T00:00:00",
          "1963-10-01T00:00:00",
          "1964-01-01T00:00:00",
          "1964-04-01T00:00:00",
          "1964-07-01T00:00:00",
          "1964-10-01T00:00:00",
          "1965-01-01T00:00:00",
          "1965-04-01T00:00:00",
          "1965-07-01T00:00:00",
          "1965-10-01T00:00:00",
          "1966-01-01T00:00:00",
          "1966-04-01T00:00:00",
          "1966-07-01T00:00:00",
          "1966-10-01T00:00:00",
          "1967-01-01T00:00:00",
          "1967-04-01T00:00:00",
          "1967-07-01T00:00:00",
          "1967-10-01T00:00:00",
          "1968-01-01T00:00:00",
          "1968-04-01T00:00:00",
          "1968-07-01T00:00:00",
          "1968-10-01T00:00:00",
          "1969-01-01T00:00:00",
          "1969-04-01T00:00:00",
          "1969-07-01T00:00:00",
          "1969-10-01T00:00:00",
          "1970-01-01T00:00:00",
          "1970-04-01T00:00:00",
          "1970-07-01T00:00:00",
          "1970-10-01T00:00:00",
          "1971-01-01T00:00:00",
          "1971-04-01T00:00:00",
          "1971-07-01T00:00:00",
          "1971-10-01T00:00:00",
          "1972-01-01T00:00:00",
          "1972-04-01T00:00:00",
          "1972-07-01T00:00:00",
          "1972-10-01T00:00:00",
          "1973-01-01T00:00:00",
          "1973-04-01T00:00:00",
          "1973-07-01T00:00:00",
          "1973-10-01T00:00:00",
          "1974-01-01T00:00:00",
          "1974-04-01T00:00:00",
          "1974-07-01T00:00:00",
          "1974-10-01T00:00:00",
          "1975-01-01T00:00:00",
          "1975-04-01T00:00:00",
          "1975-07-01T00:00:00",
          "1975-10-01T00:00:00",
          "1976-01-01T00:00:00",
          "1976-04-01T00:00:00",
          "1976-07-01T00:00:00",
          "1976-10-01T00:00:00",
          "1977-01-01T00:00:00",
          "1977-04-01T00:00:00",
          "1977-07-01T00:00:00",
          "1977-10-01T00:00:00",
          "1978-01-01T00:00:00",
          "1978-04-01T00:00:00",
          "1978-07-01T00:00:00",
          "1978-10-01T00:00:00",
          "1979-01-01T00:00:00",
          "1979-04-01T00:00:00",
          "1979-07-01T00:00:00",
          "1979-10-01T00:00:00",
          "1980-01-01T00:00:00",
          "1980-04-01T00:00:00",
          "1980-07-01T00:00:00",
          "1980-10-01T00:00:00",
          "1981-01-01T00:00:00",
          "1981-04-01T00:00:00",
          "1981-07-01T00:00:00",
          "1981-10-01T00:00:00",
          "1982-01-01T00:00:00",
          "1982-04-01T00:00:00",
          "1982-07-01T00:00:00",
          "1982-10-01T00:00:00",
          "1983-01-01T00:00:00",
          "1983-04-01T00:00:00",
          "1983-07-01T00:00:00",
          "1983-10-01T00:00:00",
          "1984-01-01T00:00:00",
          "1984-04-01T00:00:00",
          "1984-07-01T00:00:00",
          "1984-10-01T00:00:00",
          "1985-01-01T00:00:00",
          "1985-04-01T00:00:00",
          "1985-07-01T00:00:00",
          "1985-10-01T00:00:00",
          "1986-01-01T00:00:00",
          "1986-04-01T00:00:00",
          "1986-07-01T00:00:00",
          "1986-10-01T00:00:00",
          "1987-01-01T00:00:00",
          "1987-04-01T00:00:00",
          "1987-07-01T00:00:00",
          "1987-10-01T00:00:00",
          "1988-01-01T00:00:00",
          "1988-04-01T00:00:00",
          "1988-07-01T00:00:00",
          "1988-10-01T00:00:00",
          "1989-01-01T00:00:00",
          "1989-04-01T00:00:00",
          "1989-07-01T00:00:00",
          "1989-10-01T00:00:00",
          "1990-01-01T00:00:00",
          "1990-04-01T00:00:00",
          "1990-07-01T00:00:00",
          "1990-10-01T00:00:00",
          "1991-01-01T00:00:00",
          "1991-04-01T00:00:00",
          "1991-07-01T00:00:00",
          "1991-10-01T00:00:00",
          "1992-01-01T00:00:00",
          "1992-04-01T00:00:00",
          "1992-07-01T00:00:00",
          "1992-10-01T00:00:00",
          "1993-01-01T00:00:00",
          "1993-04-01T00:00:00",
          "1993-07-01T00:00:00",
          "1993-10-01T00:00:00",
          "1994-01-01T00:00:00",
          "1994-04-01T00:00:00",
          "1994-07-01T00:00:00",
          "1994-10-01T00:00:00",
          "1995-01-01T00:00:00",
          "1995-04-01T00:00:00",
          "1995-07-01T00:00:00",
          "1995-10-01T00:00:00",
          "1996-01-01T00:00:00",
          "1996-04-01T00:00:00",
          "1996-07-01T00:00:00",
          "1996-10-01T00:00:00",
          "1997-01-01T00:00:00",
          "1997-04-01T00:00:00",
          "1997-07-01T00:00:00",
          "1997-10-01T00:00:00",
          "1998-01-01T00:00:00",
          "1998-04-01T00:00:00",
          "1998-07-01T00:00:00",
          "1998-10-01T00:00:00",
          "1999-01-01T00:00:00",
          "1999-04-01T00:00:00",
          "1999-07-01T00:00:00",
          "1999-10-01T00:00:00",
          "2000-01-01T00:00:00",
          "2000-04-01T00:00:00",
          "2000-07-01T00:00:00",
          "2000-10-01T00:00:00",
          "2001-01-01T00:00:00",
          "2001-04-01T00:00:00",
          "2001-07-01T00:00:00",
          "2001-10-01T00:00:00",
          "2002-01-01T00:00:00",
          "2002-04-01T00:00:00",
          "2002-07-01T00:00:00",
          "2002-10-01T00:00:00",
          "2003-01-01T00:00:00",
          "2003-04-01T00:00:00",
          "2003-07-01T00:00:00",
          "2003-10-01T00:00:00",
          "2004-01-01T00:00:00",
          "2004-04-01T00:00:00",
          "2004-07-01T00:00:00",
          "2004-10-01T00:00:00",
          "2005-01-01T00:00:00",
          "2005-04-01T00:00:00",
          "2005-07-01T00:00:00",
          "2005-10-01T00:00:00",
          "2006-01-01T00:00:00",
          "2006-04-01T00:00:00",
          "2006-07-01T00:00:00",
          "2006-10-01T00:00:00",
          "2007-01-01T00:00:00",
          "2007-04-01T00:00:00",
          "2007-07-01T00:00:00",
          "2007-10-01T00:00:00",
          "2008-01-01T00:00:00",
          "2008-04-01T00:00:00",
          "2008-07-01T00:00:00",
          "2008-10-01T00:00:00",
          "2009-01-01T00:00:00",
          "2009-04-01T00:00:00",
          "2009-07-01T00:00:00",
          "2009-10-01T00:00:00",
          "2010-01-01T00:00:00",
          "2010-04-01T00:00:00",
          "2010-07-01T00:00:00",
          "2010-10-01T00:00:00",
          "2011-01-01T00:00:00",
          "2011-04-01T00:00:00",
          "2011-07-01T00:00:00",
          "2011-10-01T00:00:00",
          "2012-01-01T00:00:00",
          "2012-04-01T00:00:00",
          "2012-07-01T00:00:00",
          "2012-10-01T00:00:00",
          "2013-01-01T00:00:00",
          "2013-04-01T00:00:00",
          "2013-07-01T00:00:00",
          "2013-10-01T00:00:00",
          "2014-01-01T00:00:00",
          "2014-04-01T00:00:00",
          "2014-07-01T00:00:00",
          "2014-10-01T00:00:00",
          "2015-01-01T00:00:00",
          "2015-04-01T00:00:00",
          "2015-07-01T00:00:00",
          "2015-10-01T00:00:00",
          "2016-01-01T00:00:00",
          "2016-04-01T00:00:00",
          "2016-07-01T00:00:00",
          "2016-10-01T00:00:00",
          "2017-01-01T00:00:00",
          "2017-04-01T00:00:00",
          "2017-07-01T00:00:00",
          "2017-10-01T00:00:00",
          "2018-01-01T00:00:00",
          "2018-04-01T00:00:00",
          "2018-07-01T00:00:00",
          "2018-10-01T00:00:00",
          "2019-01-01T00:00:00",
          "2019-04-01T00:00:00",
          "2019-07-01T00:00:00",
          "2019-10-01T00:00:00",
          "2020-01-01T00:00:00",
          "2020-04-01T00:00:00"
         ],
         "y": [
          -0.23587574463804664,
          0.11951877278080458,
          -0.8113396661361093,
          0.4908981051057679,
          2.912852069689974,
          -1.1087277777891573,
          -3.8935651372991287,
          -2.1852711375650795,
          -1.900546493498345,
          1.1642569146503128,
          0.12941555556128265,
          0.04559571645557242,
          0.011905280067945945,
          -0.5366259528075484,
          0.3488667324548779,
          -0.6297495736510376,
          1.8718416764251815,
          -0.15269056357837185,
          0.7949870129608948,
          -0.36853006442369163,
          0.6487669028957764,
          -0.45592509619485655,
          0.4892435117701505,
          -0.6117439938617276,
          2.84186112978039,
          -0.4114928490948917,
          0.5165774444078481,
          0.14774479073864324,
          0.028664341867628305,
          -0.6243442589593793,
          0.566846729139277,
          -0.08441997250630631,
          -0.21766738312264888,
          -0.5628416864299433,
          2.3571320468933257,
          -0.02143790717466922,
          0.6928392219108501,
          -0.13446394190176092,
          -0.35726326718960844,
          0.025834560817882397,
          0.4447668344656746,
          -0.39607823508429507,
          0.3141998251206074,
          -0.6167127974836661,
          0.5810049537779651,
          0.223791556298211,
          0.13761129379465167,
          -0.8659201286626245,
          17.2185197395231,
          -0.5649831967171556,
          -0.004824278960077577,
          -0.4210148684475974,
          2.159921445351527,
          -0.1419780130962752,
          -0.3424574968291305,
          0.554704944758011,
          0.23074563326895692,
          -0.27729743393224043,
          -0.46596117299982376,
          1.0981564669139088,
          -0.6586423813578026,
          1.5776356527591109,
          -0.2480993725625751,
          0.29767159031560125,
          -0.5957542170496576,
          1.1520673103137142,
          0.5869522741209869,
          -0.13316710677977012,
          0.09446879804605096,
          -0.4745813609132408,
          0.05629116026460842,
          0.36882349184780505,
          0.11146741190022749,
          0.2031614316700709,
          -0.10026375176435026,
          -0.28961550000591935,
          -0.17733622325899054,
          2.289715078083285,
          -0.5350874311810471,
          0.25713384155537905,
          -0.41365822968828825,
          0.2759821081711521,
          0.15126469785284602,
          -0.2831735126225394,
          0.14697354398081713,
          -0.8888332995814369,
          6.852496948141305,
          1.1376619164015576,
          0.027742341498814417,
          -0.7358427962710584,
          1.5280078101126986,
          -0.8001455345120522,
          -1.3204445101732498,
          -9.86813470665235,
          -0.4146788998947984,
          0.04422756047695265,
          0.9343080734235839,
          0.4577470890336866,
          0.01560755755530971,
          -0.07214617360127672,
          0.04424369919858587,
          -0.13009702909197432,
          -0.2834998344574978,
          -0.15436573407450668,
          0.2496223512418857,
          -0.22233959232289296,
          0.39837426133610926,
          -0.3892394292409812,
          0.09867399659316829,
          -0.4213788617413246,
          0.650790826220544,
          -0.20932139733478675,
          0.27781051862434103,
          0.28401295862090514,
          -0.08308198872625804,
          0.5493061715103981,
          -0.4834166072474902,
          0.7614581289478759,
          -0.22244204135199358,
          0.23519098918990283,
          -0.06294970192575365,
          -0.11263328846473901,
          -0.1956622713438289,
          -0.38340512007330696,
          1.396892694458958,
          -0.318837661125783,
          -0.37841853683721693,
          -1.1867540985325458,
          -3.9372670274021737,
          1.9962716961397817,
          -0.1504330027921409,
          -0.26833650986831886,
          0.6661259724710219,
          0.07539794812024567,
          -0.1242624976608626,
          0.17331553802264504,
          -0.581081593878719,
          0.6216979579803332,
          -0.09027399349369533,
          0.7802406107128446,
          -0.2403434483169638,
          0.2696857659694077,
          -0.3706554618067342,
          0.45925221535333677,
          -0.46958295568822117,
          -0.1315788113089743,
          0.7261209807853257,
          -0.13567445805308428,
          0.059438372591356085,
          0.6934255505024398,
          -0.41260645268727164,
          0.28649255701586357,
          -0.210947812628929,
          0.4992484066263491,
          -0.09484421052606128,
          -0.29602853139369517,
          -0.03583197488938599,
          0.0146677623235022,
          0.44988601254606786,
          0.12302798616342264,
          -0.3002661721741221,
          -0.14426659067146652,
          0.4588551923896612,
          0.3568385611443733,
          -0.5347356822916562,
          1.3414347839660004,
          -0.7123526594011441,
          0.6406546669999552,
          -0.7192329560609507,
          2.6787120209767568,
          -1.0120853961185488,
          -42.89085660143641,
          0.9982123520877949,
          -0.1993365234504887,
          -0.06097549929634697,
          -0.20381710398719424,
          0.4008001921843046,
          0.14305007988145504,
          0.9443852744334722,
          -0.22379299448596499,
          -0.2656323640014858,
          0.23548853567112957,
          0.01326363212498716,
          0.10944603488570825,
          0.07142038859216157,
          -0.38930909104707784,
          0.5480327541019266,
          -0.20083376565853522,
          0.41339352771594634,
          -0.4736688413714707,
          -0.2019448284560447,
          0.430514479286035,
          -0.0028870913293496656,
          0.002084847104843248,
          -0.13233181524228826,
          -0.05031744928954865,
          -1.2058597233415522,
          -6.084806692182041,
          -0.8106563690638667,
          -10.301273515976883,
          -0.39008382104626327,
          -0.7443880607291252,
          -2.6226104125721115,
          2.0644997605245394,
          -0.5570544127993035,
          1.1799221925232026,
          -0.2590452869406782,
          0.035532110798016346,
          -0.7234131869992243,
          3.6624858059000385,
          -0.5514263552727657,
          1.1257843011500026,
          0.0771987823936046,
          -0.4148979924840744,
          -0.21483527198567387,
          -0.03659183297781333,
          1.0589290226348393,
          -0.6798435319128154,
          2.072453582381288,
          0.09787488615648349,
          -0.9098757426406876,
          14.311552961834344,
          -0.13718320480414292,
          -0.5630609533478422,
          0.18813431695923377,
          0.4222760521990699,
          -0.44430568259916564,
          -0.748351256601232,
          1.9064004611852072,
          1.0265431425171583,
          -0.12118180396555811,
          0.2677266797198707,
          -0.04090243440534979,
          -0.31518861383455193,
          0.6665666732957037,
          0.3307104439302573,
          -0.06647377982038451,
          0.004995662684049067,
          -0.39698399197944007,
          -0.1287496600038451,
          0.21949269619233627,
          0.034188401758851114,
          -0.029067720561821764,
          -0.02566930906845647,
          -1.8909183066642399,
          10.234874793848718
         ]
        }
       ],
       "layout": {
        "font": {
         "size": 20
        },
        "height": 800,
        "template": {
         "data": {
          "bar": [
           {
            "error_x": {
             "color": "#2a3f5f"
            },
            "error_y": {
             "color": "#2a3f5f"
            },
            "marker": {
             "line": {
              "color": "#E5ECF6",
              "width": 0.5
             }
            },
            "type": "bar"
           }
          ],
          "barpolar": [
           {
            "marker": {
             "line": {
              "color": "#E5ECF6",
              "width": 0.5
             }
            },
            "type": "barpolar"
           }
          ],
          "carpet": [
           {
            "aaxis": {
             "endlinecolor": "#2a3f5f",
             "gridcolor": "white",
             "linecolor": "white",
             "minorgridcolor": "white",
             "startlinecolor": "#2a3f5f"
            },
            "baxis": {
             "endlinecolor": "#2a3f5f",
             "gridcolor": "white",
             "linecolor": "white",
             "minorgridcolor": "white",
             "startlinecolor": "#2a3f5f"
            },
            "type": "carpet"
           }
          ],
          "choropleth": [
           {
            "colorbar": {
             "outlinewidth": 0,
             "ticks": ""
            },
            "type": "choropleth"
           }
          ],
          "contour": [
           {
            "colorbar": {
             "outlinewidth": 0,
             "ticks": ""
            },
            "colorscale": [
             [
              0,
              "#0d0887"
             ],
             [
              0.1111111111111111,
              "#46039f"
             ],
             [
              0.2222222222222222,
              "#7201a8"
             ],
             [
              0.3333333333333333,
              "#9c179e"
             ],
             [
              0.4444444444444444,
              "#bd3786"
             ],
             [
              0.5555555555555556,
              "#d8576b"
             ],
             [
              0.6666666666666666,
              "#ed7953"
             ],
             [
              0.7777777777777778,
              "#fb9f3a"
             ],
             [
              0.8888888888888888,
              "#fdca26"
             ],
             [
              1,
              "#f0f921"
             ]
            ],
            "type": "contour"
           }
          ],
          "contourcarpet": [
           {
            "colorbar": {
             "outlinewidth": 0,
             "ticks": ""
            },
            "type": "contourcarpet"
           }
          ],
          "heatmap": [
           {
            "colorbar": {
             "outlinewidth": 0,
             "ticks": ""
            },
            "colorscale": [
             [
              0,
              "#0d0887"
             ],
             [
              0.1111111111111111,
              "#46039f"
             ],
             [
              0.2222222222222222,
              "#7201a8"
             ],
             [
              0.3333333333333333,
              "#9c179e"
             ],
             [
              0.4444444444444444,
              "#bd3786"
             ],
             [
              0.5555555555555556,
              "#d8576b"
             ],
             [
              0.6666666666666666,
              "#ed7953"
             ],
             [
              0.7777777777777778,
              "#fb9f3a"
             ],
             [
              0.8888888888888888,
              "#fdca26"
             ],
             [
              1,
              "#f0f921"
             ]
            ],
            "type": "heatmap"
           }
          ],
          "heatmapgl": [
           {
            "colorbar": {
             "outlinewidth": 0,
             "ticks": ""
            },
            "colorscale": [
             [
              0,
              "#0d0887"
             ],
             [
              0.1111111111111111,
              "#46039f"
             ],
             [
              0.2222222222222222,
              "#7201a8"
             ],
             [
              0.3333333333333333,
              "#9c179e"
             ],
             [
              0.4444444444444444,
              "#bd3786"
             ],
             [
              0.5555555555555556,
              "#d8576b"
             ],
             [
              0.6666666666666666,
              "#ed7953"
             ],
             [
              0.7777777777777778,
              "#fb9f3a"
             ],
             [
              0.8888888888888888,
              "#fdca26"
             ],
             [
              1,
              "#f0f921"
             ]
            ],
            "type": "heatmapgl"
           }
          ],
          "histogram": [
           {
            "marker": {
             "colorbar": {
              "outlinewidth": 0,
              "ticks": ""
             }
            },
            "type": "histogram"
           }
          ],
          "histogram2d": [
           {
            "colorbar": {
             "outlinewidth": 0,
             "ticks": ""
            },
            "colorscale": [
             [
              0,
              "#0d0887"
             ],
             [
              0.1111111111111111,
              "#46039f"
             ],
             [
              0.2222222222222222,
              "#7201a8"
             ],
             [
              0.3333333333333333,
              "#9c179e"
             ],
             [
              0.4444444444444444,
              "#bd3786"
             ],
             [
              0.5555555555555556,
              "#d8576b"
             ],
             [
              0.6666666666666666,
              "#ed7953"
             ],
             [
              0.7777777777777778,
              "#fb9f3a"
             ],
             [
              0.8888888888888888,
              "#fdca26"
             ],
             [
              1,
              "#f0f921"
             ]
            ],
            "type": "histogram2d"
           }
          ],
          "histogram2dcontour": [
           {
            "colorbar": {
             "outlinewidth": 0,
             "ticks": ""
            },
            "colorscale": [
             [
              0,
              "#0d0887"
             ],
             [
              0.1111111111111111,
              "#46039f"
             ],
             [
              0.2222222222222222,
              "#7201a8"
             ],
             [
              0.3333333333333333,
              "#9c179e"
             ],
             [
              0.4444444444444444,
              "#bd3786"
             ],
             [
              0.5555555555555556,
              "#d8576b"
             ],
             [
              0.6666666666666666,
              "#ed7953"
             ],
             [
              0.7777777777777778,
              "#fb9f3a"
             ],
             [
              0.8888888888888888,
              "#fdca26"
             ],
             [
              1,
              "#f0f921"
             ]
            ],
            "type": "histogram2dcontour"
           }
          ],
          "mesh3d": [
           {
            "colorbar": {
             "outlinewidth": 0,
             "ticks": ""
            },
            "type": "mesh3d"
           }
          ],
          "parcoords": [
           {
            "line": {
             "colorbar": {
              "outlinewidth": 0,
              "ticks": ""
             }
            },
            "type": "parcoords"
           }
          ],
          "pie": [
           {
            "automargin": true,
            "type": "pie"
           }
          ],
          "scatter": [
           {
            "marker": {
             "colorbar": {
              "outlinewidth": 0,
              "ticks": ""
             }
            },
            "type": "scatter"
           }
          ],
          "scatter3d": [
           {
            "line": {
             "colorbar": {
              "outlinewidth": 0,
              "ticks": ""
             }
            },
            "marker": {
             "colorbar": {
              "outlinewidth": 0,
              "ticks": ""
             }
            },
            "type": "scatter3d"
           }
          ],
          "scattercarpet": [
           {
            "marker": {
             "colorbar": {
              "outlinewidth": 0,
              "ticks": ""
             }
            },
            "type": "scattercarpet"
           }
          ],
          "scattergeo": [
           {
            "marker": {
             "colorbar": {
              "outlinewidth": 0,
              "ticks": ""
             }
            },
            "type": "scattergeo"
           }
          ],
          "scattergl": [
           {
            "marker": {
             "colorbar": {
              "outlinewidth": 0,
              "ticks": ""
             }
            },
            "type": "scattergl"
           }
          ],
          "scattermapbox": [
           {
            "marker": {
             "colorbar": {
              "outlinewidth": 0,
              "ticks": ""
             }
            },
            "type": "scattermapbox"
           }
          ],
          "scatterpolar": [
           {
            "marker": {
             "colorbar": {
              "outlinewidth": 0,
              "ticks": ""
             }
            },
            "type": "scatterpolar"
           }
          ],
          "scatterpolargl": [
           {
            "marker": {
             "colorbar": {
              "outlinewidth": 0,
              "ticks": ""
             }
            },
            "type": "scatterpolargl"
           }
          ],
          "scatterternary": [
           {
            "marker": {
             "colorbar": {
              "outlinewidth": 0,
              "ticks": ""
             }
            },
            "type": "scatterternary"
           }
          ],
          "surface": [
           {
            "colorbar": {
             "outlinewidth": 0,
             "ticks": ""
            },
            "colorscale": [
             [
              0,
              "#0d0887"
             ],
             [
              0.1111111111111111,
              "#46039f"
             ],
             [
              0.2222222222222222,
              "#7201a8"
             ],
             [
              0.3333333333333333,
              "#9c179e"
             ],
             [
              0.4444444444444444,
              "#bd3786"
             ],
             [
              0.5555555555555556,
              "#d8576b"
             ],
             [
              0.6666666666666666,
              "#ed7953"
             ],
             [
              0.7777777777777778,
              "#fb9f3a"
             ],
             [
              0.8888888888888888,
              "#fdca26"
             ],
             [
              1,
              "#f0f921"
             ]
            ],
            "type": "surface"
           }
          ],
          "table": [
           {
            "cells": {
             "fill": {
              "color": "#EBF0F8"
             },
             "line": {
              "color": "white"
             }
            },
            "header": {
             "fill": {
              "color": "#C8D4E3"
             },
             "line": {
              "color": "white"
             }
            },
            "type": "table"
           }
          ]
         },
         "layout": {
          "annotationdefaults": {
           "arrowcolor": "#2a3f5f",
           "arrowhead": 0,
           "arrowwidth": 1
          },
          "coloraxis": {
           "colorbar": {
            "outlinewidth": 0,
            "ticks": ""
           }
          },
          "colorscale": {
           "diverging": [
            [
             0,
             "#8e0152"
            ],
            [
             0.1,
             "#c51b7d"
            ],
            [
             0.2,
             "#de77ae"
            ],
            [
             0.3,
             "#f1b6da"
            ],
            [
             0.4,
             "#fde0ef"
            ],
            [
             0.5,
             "#f7f7f7"
            ],
            [
             0.6,
             "#e6f5d0"
            ],
            [
             0.7,
             "#b8e186"
            ],
            [
             0.8,
             "#7fbc41"
            ],
            [
             0.9,
             "#4d9221"
            ],
            [
             1,
             "#276419"
            ]
           ],
           "sequential": [
            [
             0,
             "#0d0887"
            ],
            [
             0.1111111111111111,
             "#46039f"
            ],
            [
             0.2222222222222222,
             "#7201a8"
            ],
            [
             0.3333333333333333,
             "#9c179e"
            ],
            [
             0.4444444444444444,
             "#bd3786"
            ],
            [
             0.5555555555555556,
             "#d8576b"
            ],
            [
             0.6666666666666666,
             "#ed7953"
            ],
            [
             0.7777777777777778,
             "#fb9f3a"
            ],
            [
             0.8888888888888888,
             "#fdca26"
            ],
            [
             1,
             "#f0f921"
            ]
           ],
           "sequentialminus": [
            [
             0,
             "#0d0887"
            ],
            [
             0.1111111111111111,
             "#46039f"
            ],
            [
             0.2222222222222222,
             "#7201a8"
            ],
            [
             0.3333333333333333,
             "#9c179e"
            ],
            [
             0.4444444444444444,
             "#bd3786"
            ],
            [
             0.5555555555555556,
             "#d8576b"
            ],
            [
             0.6666666666666666,
             "#ed7953"
            ],
            [
             0.7777777777777778,
             "#fb9f3a"
            ],
            [
             0.8888888888888888,
             "#fdca26"
            ],
            [
             1,
             "#f0f921"
            ]
           ]
          },
          "colorway": [
           "#636efa",
           "#EF553B",
           "#00cc96",
           "#ab63fa",
           "#FFA15A",
           "#19d3f3",
           "#FF6692",
           "#B6E880",
           "#FF97FF",
           "#FECB52"
          ],
          "font": {
           "color": "#2a3f5f"
          },
          "geo": {
           "bgcolor": "white",
           "lakecolor": "white",
           "landcolor": "#E5ECF6",
           "showlakes": true,
           "showland": true,
           "subunitcolor": "white"
          },
          "hoverlabel": {
           "align": "left"
          },
          "hovermode": "closest",
          "mapbox": {
           "style": "light"
          },
          "paper_bgcolor": "white",
          "plot_bgcolor": "#E5ECF6",
          "polar": {
           "angularaxis": {
            "gridcolor": "white",
            "linecolor": "white",
            "ticks": ""
           },
           "bgcolor": "#E5ECF6",
           "radialaxis": {
            "gridcolor": "white",
            "linecolor": "white",
            "ticks": ""
           }
          },
          "scene": {
           "xaxis": {
            "backgroundcolor": "#E5ECF6",
            "gridcolor": "white",
            "gridwidth": 2,
            "linecolor": "white",
            "showbackground": true,
            "ticks": "",
            "zerolinecolor": "white"
           },
           "yaxis": {
            "backgroundcolor": "#E5ECF6",
            "gridcolor": "white",
            "gridwidth": 2,
            "linecolor": "white",
            "showbackground": true,
            "ticks": "",
            "zerolinecolor": "white"
           },
           "zaxis": {
            "backgroundcolor": "#E5ECF6",
            "gridcolor": "white",
            "gridwidth": 2,
            "linecolor": "white",
            "showbackground": true,
            "ticks": "",
            "zerolinecolor": "white"
           }
          },
          "shapedefaults": {
           "line": {
            "color": "#2a3f5f"
           }
          },
          "ternary": {
           "aaxis": {
            "gridcolor": "white",
            "linecolor": "white",
            "ticks": ""
           },
           "baxis": {
            "gridcolor": "white",
            "linecolor": "white",
            "ticks": ""
           },
           "bgcolor": "#E5ECF6",
           "caxis": {
            "gridcolor": "white",
            "linecolor": "white",
            "ticks": ""
           }
          },
          "title": {
           "x": 0.05
          },
          "xaxis": {
           "automargin": true,
           "gridcolor": "white",
           "linecolor": "white",
           "ticks": "",
           "title": {
            "standoff": 15
           },
           "zerolinecolor": "white",
           "zerolinewidth": 2
          },
          "yaxis": {
           "automargin": true,
           "gridcolor": "white",
           "linecolor": "white",
           "ticks": "",
           "title": {
            "standoff": 15
           },
           "zerolinecolor": "white",
           "zerolinewidth": 2
          }
         }
        },
        "title": {
         "text": "Annualized GDP - 2nd difference"
        },
        "width": 1400,
        "xaxis": {
         "autorange": true,
         "range": [
          "1959-01-01",
          "2020-04-01"
         ],
         "rangeselector": {
          "buttons": [
           {
            "count": 1,
            "label": "1m",
            "step": "month",
            "stepmode": "backward"
           },
           {
            "count": 6,
            "label": "6m",
            "step": "month",
            "stepmode": "backward"
           },
           {
            "count": 1,
            "label": "YTD",
            "step": "year",
            "stepmode": "todate"
           },
           {
            "count": 1,
            "label": "1y",
            "step": "year",
            "stepmode": "backward"
           },
           {
            "count": 6,
            "label": "5y",
            "step": "year",
            "stepmode": "backward"
           },
           {
            "step": "all"
           }
          ]
         },
         "rangeslider": {
          "autorange": true,
          "range": [
           "1959-01-01",
           "2020-04-01"
          ],
          "visible": true,
          "yaxis": {
           "_template": null,
           "rangemode": "match"
          }
         },
         "showspikes": true,
         "title": {
          "text": "Date"
         },
         "type": "date"
        },
        "yaxis": {
         "autorange": true,
         "fixedrange": false,
         "range": [
          -46.23026639815638,
          20.557929536243073
         ],
         "showspikes": true,
         "title": {
          "text": "Annualized GDP"
         },
         "type": "linear"
        }
       }
      },
      "image/png": "[encoded data removed]",
      "text/html": [
       "<div>\n",
       "        \n",
       "        \n",
       "            <div id=\"8265609b-6205-4c79-9064-840701bb7448\" class=\"plotly-graph-div\" style=\"height:800px; width:1400px;\"></div>\n",
       "            <script type=\"text/javascript\">\n",
       "                require([\"plotly\"], function(Plotly) {\n",
       "                    window.PLOTLYENV=window.PLOTLYENV || {};\n",
       "                    \n",
       "                if (document.getElementById(\"8265609b-6205-4c79-9064-840701bb7448\")) {\n",
       "                    Plotly.newPlot(\n",
       "                        '8265609b-6205-4c79-9064-840701bb7448',\n",
       "                        [{\"line\": {\"color\": \"gray\", \"width\": 3}, \"name\": \"GDP diff_2\", \"opacity\": 0.8, \"text\": \"GDP\", \"type\": \"scatter\", \"x\": [\"1959-01-01T00:00:00\", \"1959-04-01T00:00:00\", \"1959-07-01T00:00:00\", \"1959-10-01T00:00:00\", \"1960-01-01T00:00:00\", \"1960-04-01T00:00:00\", \"1960-07-01T00:00:00\", \"1960-10-01T00:00:00\", \"1961-01-01T00:00:00\", \"1961-04-01T00:00:00\", \"1961-07-01T00:00:00\", \"1961-10-01T00:00:00\", \"1962-01-01T00:00:00\", \"1962-04-01T00:00:00\", \"1962-07-01T00:00:00\", \"1962-10-01T00:00:00\", \"1963-01-01T00:00:00\", \"1963-04-01T00:00:00\", \"1963-07-01T00:00:00\", \"1963-10-01T00:00:00\", \"1964-01-01T00:00:00\", \"1964-04-01T00:00:00\", \"1964-07-01T00:00:00\", \"1964-10-01T00:00:00\", \"1965-01-01T00:00:00\", \"1965-04-01T00:00:00\", \"1965-07-01T00:00:00\", \"1965-10-01T00:00:00\", \"1966-01-01T00:00:00\", \"1966-04-01T00:00:00\", \"1966-07-01T00:00:00\", \"1966-10-01T00:00:00\", \"1967-01-01T00:00:00\", \"1967-04-01T00:00:00\", \"1967-07-01T00:00:00\", \"1967-10-01T00:00:00\", \"1968-01-01T00:00:00\", \"1968-04-01T00:00:00\", \"1968-07-01T00:00:00\", \"1968-10-01T00:00:00\", \"1969-01-01T00:00:00\", \"1969-04-01T00:00:00\", \"1969-07-01T00:00:00\", \"1969-10-01T00:00:00\", \"1970-01-01T00:00:00\", \"1970-04-01T00:00:00\", \"1970-07-01T00:00:00\", \"1970-10-01T00:00:00\", \"1971-01-01T00:00:00\", \"1971-04-01T00:00:00\", \"1971-07-01T00:00:00\", \"1971-10-01T00:00:00\", \"1972-01-01T00:00:00\", \"1972-04-01T00:00:00\", \"1972-07-01T00:00:00\", \"1972-10-01T00:00:00\", \"1973-01-01T00:00:00\", \"1973-04-01T00:00:00\", \"1973-07-01T00:00:00\", \"1973-10-01T00:00:00\", \"1974-01-01T00:00:00\", \"1974-04-01T00:00:00\", \"1974-07-01T00:00:00\", \"1974-10-01T00:00:00\", \"1975-01-01T00:00:00\", \"1975-04-01T00:00:00\", \"1975-07-01T00:00:00\", \"1975-10-01T00:00:00\", \"1976-01-01T00:00:00\", \"1976-04-01T00:00:00\", \"1976-07-01T00:00:00\", \"1976-10-01T00:00:00\", \"1977-01-01T00:00:00\", \"1977-04-01T00:00:00\", \"1977-07-01T00:00:00\", \"1977-10-01T00:00:00\", \"1978-01-01T00:00:00\", \"1978-04-01T00:00:00\", \"1978-07-01T00:00:00\", \"1978-10-01T00:00:00\", \"1979-01-01T00:00:00\", \"1979-04-01T00:00:00\", \"1979-07-01T00:00:00\", \"1979-10-01T00:00:00\", \"1980-01-01T00:00:00\", \"1980-04-01T00:00:00\", \"1980-07-01T00:00:00\", \"1980-10-01T00:00:00\", \"1981-01-01T00:00:00\", \"1981-04-01T00:00:00\", \"1981-07-01T00:00:00\", \"1981-10-01T00:00:00\", \"1982-01-01T00:00:00\", \"1982-04-01T00:00:00\", \"1982-07-01T00:00:00\", \"1982-10-01T00:00:00\", \"1983-01-01T00:00:00\", \"1983-04-01T00:00:00\", \"1983-07-01T00:00:00\", \"1983-10-01T00:00:00\", \"1984-01-01T00:00:00\", \"1984-04-01T00:00:00\", \"1984-07-01T00:00:00\", \"1984-10-01T00:00:00\", \"1985-01-01T00:00:00\", \"1985-04-01T00:00:00\", \"1985-07-01T00:00:00\", \"1985-10-01T00:00:00\", \"1986-01-01T00:00:00\", \"1986-04-01T00:00:00\", \"1986-07-01T00:00:00\", \"1986-10-01T00:00:00\", \"1987-01-01T00:00:00\", \"1987-04-01T00:00:00\", \"1987-07-01T00:00:00\", \"1987-10-01T00:00:00\", \"1988-01-01T00:00:00\", \"1988-04-01T00:00:00\", \"1988-07-01T00:00:00\", \"1988-10-01T00:00:00\", \"1989-01-01T00:00:00\", \"1989-04-01T00:00:00\", \"1989-07-01T00:00:00\", \"1989-10-01T00:00:00\", \"1990-01-01T00:00:00\", \"1990-04-01T00:00:00\", \"1990-07-01T00:00:00\", \"1990-10-01T00:00:00\", \"1991-01-01T00:00:00\", \"1991-04-01T00:00:00\", \"1991-07-01T00:00:00\", \"1991-10-01T00:00:00\", \"1992-01-01T00:00:00\", \"1992-04-01T00:00:00\", \"1992-07-01T00:00:00\", \"1992-10-01T00:00:00\", \"1993-01-01T00:00:00\", \"1993-04-01T00:00:00\", \"1993-07-01T00:00:00\", \"1993-10-01T00:00:00\", \"1994-01-01T00:00:00\", \"1994-04-01T00:00:00\", \"1994-07-01T00:00:00\", \"1994-10-01T00:00:00\", \"1995-01-01T00:00:00\", \"1995-04-01T00:00:00\", \"1995-07-01T00:00:00\", \"1995-10-01T00:00:00\", \"1996-01-01T00:00:00\", \"1996-04-01T00:00:00\", \"1996-07-01T00:00:00\", \"1996-10-01T00:00:00\", \"1997-01-01T00:00:00\", \"1997-04-01T00:00:00\", \"1997-07-01T00:00:00\", \"1997-10-01T00:00:00\", \"1998-01-01T00:00:00\", \"1998-04-01T00:00:00\", \"1998-07-01T00:00:00\", \"1998-10-01T00:00:00\", \"1999-01-01T00:00:00\", \"1999-04-01T00:00:00\", \"1999-07-01T00:00:00\", \"1999-10-01T00:00:00\", \"2000-01-01T00:00:00\", \"2000-04-01T00:00:00\", \"2000-07-01T00:00:00\", \"2000-10-01T00:00:00\", \"2001-01-01T00:00:00\", \"2001-04-01T00:00:00\", \"2001-07-01T00:00:00\", \"2001-10-01T00:00:00\", \"2002-01-01T00:00:00\", \"2002-04-01T00:00:00\", \"2002-07-01T00:00:00\", \"2002-10-01T00:00:00\", \"2003-01-01T00:00:00\", \"2003-04-01T00:00:00\", \"2003-07-01T00:00:00\", \"2003-10-01T00:00:00\", \"2004-01-01T00:00:00\", \"2004-04-01T00:00:00\", \"2004-07-01T00:00:00\", \"2004-10-01T00:00:00\", \"2005-01-01T00:00:00\", \"2005-04-01T00:00:00\", \"2005-07-01T00:00:00\", \"2005-10-01T00:00:00\", \"2006-01-01T00:00:00\", \"2006-04-01T00:00:00\", \"2006-07-01T00:00:00\", \"2006-10-01T00:00:00\", \"2007-01-01T00:00:00\", \"2007-04-01T00:00:00\", \"2007-07-01T00:00:00\", \"2007-10-01T00:00:00\", \"2008-01-01T00:00:00\", \"2008-04-01T00:00:00\", \"2008-07-01T00:00:00\", \"2008-10-01T00:00:00\", \"2009-01-01T00:00:00\", \"2009-04-01T00:00:00\", \"2009-07-01T00:00:00\", \"2009-10-01T00:00:00\", \"2010-01-01T00:00:00\", \"2010-04-01T00:00:00\", \"2010-07-01T00:00:00\", \"2010-10-01T00:00:00\", \"2011-01-01T00:00:00\", \"2011-04-01T00:00:00\", \"2011-07-01T00:00:00\", \"2011-10-01T00:00:00\", \"2012-01-01T00:00:00\", \"2012-04-01T00:00:00\", \"2012-07-01T00:00:00\", \"2012-10-01T00:00:00\", \"2013-01-01T00:00:00\", \"2013-04-01T00:00:00\", \"2013-07-01T00:00:00\", \"2013-10-01T00:00:00\", \"2014-01-01T00:00:00\", \"2014-04-01T00:00:00\", \"2014-07-01T00:00:00\", \"2014-10-01T00:00:00\", \"2015-01-01T00:00:00\", \"2015-04-01T00:00:00\", \"2015-07-01T00:00:00\", \"2015-10-01T00:00:00\", \"2016-01-01T00:00:00\", \"2016-04-01T00:00:00\", \"2016-07-01T00:00:00\", \"2016-10-01T00:00:00\", \"2017-01-01T00:00:00\", \"2017-04-01T00:00:00\", \"2017-07-01T00:00:00\", \"2017-10-01T00:00:00\", \"2018-01-01T00:00:00\", \"2018-04-01T00:00:00\", \"2018-07-01T00:00:00\", \"2018-10-01T00:00:00\", \"2019-01-01T00:00:00\", \"2019-04-01T00:00:00\", \"2019-07-01T00:00:00\", \"2019-10-01T00:00:00\", \"2020-01-01T00:00:00\", \"2020-04-01T00:00:00\"], \"y\": [-0.23587574463804664, 0.11951877278080458, -0.8113396661361093, 0.4908981051057679, 2.912852069689974, -1.1087277777891573, -3.8935651372991287, -2.1852711375650795, -1.900546493498345, 1.1642569146503128, 0.12941555556128265, 0.04559571645557242, 0.011905280067945945, -0.5366259528075484, 0.3488667324548779, -0.6297495736510376, 1.8718416764251815, -0.15269056357837185, 0.7949870129608948, -0.36853006442369163, 0.6487669028957764, -0.45592509619485655, 0.4892435117701505, -0.6117439938617276, 2.84186112978039, -0.4114928490948917, 0.5165774444078481, 0.14774479073864324, 0.028664341867628305, -0.6243442589593793, 0.566846729139277, -0.08441997250630631, -0.21766738312264888, -0.5628416864299433, 2.3571320468933257, -0.02143790717466922, 0.6928392219108501, -0.13446394190176092, -0.35726326718960844, 0.025834560817882397, 0.4447668344656746, -0.39607823508429507, 0.3141998251206074, -0.6167127974836661, 0.5810049537779651, 0.223791556298211, 0.13761129379465167, -0.8659201286626245, 17.2185197395231, -0.5649831967171556, -0.004824278960077577, -0.4210148684475974, 2.159921445351527, -0.1419780130962752, -0.3424574968291305, 0.554704944758011, 0.23074563326895692, -0.27729743393224043, -0.46596117299982376, 1.0981564669139088, -0.6586423813578026, 1.5776356527591109, -0.2480993725625751, 0.29767159031560125, -0.5957542170496576, 1.1520673103137142, 0.5869522741209869, -0.13316710677977012, 0.09446879804605096, -0.4745813609132408, 0.05629116026460842, 0.36882349184780505, 0.11146741190022749, 0.2031614316700709, -0.10026375176435026, -0.28961550000591935, -0.17733622325899054, 2.289715078083285, -0.5350874311810471, 0.25713384155537905, -0.41365822968828825, 0.2759821081711521, 0.15126469785284602, -0.2831735126225394, 0.14697354398081713, -0.8888332995814369, 6.852496948141305, 1.1376619164015576, 0.027742341498814417, -0.7358427962710584, 1.5280078101126986, -0.8001455345120522, -1.3204445101732498, -9.86813470665235, -0.4146788998947984, 0.04422756047695265, 0.9343080734235839, 0.4577470890336866, 0.01560755755530971, -0.07214617360127672, 0.04424369919858587, -0.13009702909197432, -0.2834998344574978, -0.15436573407450668, 0.2496223512418857, -0.22233959232289296, 0.39837426133610926, -0.3892394292409812, 0.09867399659316829, -0.4213788617413246, 0.650790826220544, -0.20932139733478675, 0.27781051862434103, 0.28401295862090514, -0.08308198872625804, 0.5493061715103981, -0.4834166072474902, 0.7614581289478759, -0.22244204135199358, 0.23519098918990283, -0.06294970192575365, -0.11263328846473901, -0.1956622713438289, -0.38340512007330696, 1.396892694458958, -0.318837661125783, -0.37841853683721693, -1.1867540985325458, -3.9372670274021737, 1.9962716961397817, -0.1504330027921409, -0.26833650986831886, 0.6661259724710219, 0.07539794812024567, -0.1242624976608626, 0.17331553802264504, -0.581081593878719, 0.6216979579803332, -0.09027399349369533, 0.7802406107128446, -0.2403434483169638, 0.2696857659694077, -0.3706554618067342, 0.45925221535333677, -0.46958295568822117, -0.1315788113089743, 0.7261209807853257, -0.13567445805308428, 0.059438372591356085, 0.6934255505024398, -0.41260645268727164, 0.28649255701586357, -0.210947812628929, 0.4992484066263491, -0.09484421052606128, -0.29602853139369517, -0.03583197488938599, 0.0146677623235022, 0.44988601254606786, 0.12302798616342264, -0.3002661721741221, -0.14426659067146652, 0.4588551923896612, 0.3568385611443733, -0.5347356822916562, 1.3414347839660004, -0.7123526594011441, 0.6406546669999552, -0.7192329560609507, 2.6787120209767568, -1.0120853961185488, -42.89085660143641, 0.9982123520877949, -0.1993365234504887, -0.06097549929634697, -0.20381710398719424, 0.4008001921843046, 0.14305007988145504, 0.9443852744334722, -0.22379299448596499, -0.2656323640014858, 0.23548853567112957, 0.01326363212498716, 0.10944603488570825, 0.07142038859216157, -0.38930909104707784, 0.5480327541019266, -0.20083376565853522, 0.41339352771594634, -0.4736688413714707, -0.2019448284560447, 0.430514479286035, -0.0028870913293496656, 0.002084847104843248, -0.13233181524228826, -0.05031744928954865, -1.2058597233415522, -6.084806692182041, -0.8106563690638667, -10.301273515976883, -0.39008382104626327, -0.7443880607291252, -2.6226104125721115, 2.0644997605245394, -0.5570544127993035, 1.1799221925232026, -0.2590452869406782, 0.035532110798016346, -0.7234131869992243, 3.6624858059000385, -0.5514263552727657, 1.1257843011500026, 0.0771987823936046, -0.4148979924840744, -0.21483527198567387, -0.03659183297781333, 1.0589290226348393, -0.6798435319128154, 2.072453582381288, 0.09787488615648349, -0.9098757426406876, 14.311552961834344, -0.13718320480414292, -0.5630609533478422, 0.18813431695923377, 0.4222760521990699, -0.44430568259916564, -0.748351256601232, 1.9064004611852072, 1.0265431425171583, -0.12118180396555811, 0.2677266797198707, -0.04090243440534979, -0.31518861383455193, 0.6665666732957037, 0.3307104439302573, -0.06647377982038451, 0.004995662684049067, -0.39698399197944007, -0.1287496600038451, 0.21949269619233627, 0.034188401758851114, -0.029067720561821764, -0.02566930906845647, -1.8909183066642399, 10.234874793848718]}],\n",
       "                        {\"font\": {\"size\": 20}, \"height\": 800, \"template\": {\"data\": {\"bar\": [{\"error_x\": {\"color\": \"#2a3f5f\"}, \"error_y\": {\"color\": \"#2a3f5f\"}, \"marker\": {\"line\": {\"color\": \"#E5ECF6\", \"width\": 0.5}}, \"type\": \"bar\"}], \"barpolar\": [{\"marker\": {\"line\": {\"color\": \"#E5ECF6\", \"width\": 0.5}}, \"type\": \"barpolar\"}], \"carpet\": [{\"aaxis\": {\"endlinecolor\": \"#2a3f5f\", \"gridcolor\": \"white\", \"linecolor\": \"white\", \"minorgridcolor\": \"white\", \"startlinecolor\": \"#2a3f5f\"}, \"baxis\": {\"endlinecolor\": \"#2a3f5f\", \"gridcolor\": \"white\", \"linecolor\": \"white\", \"minorgridcolor\": \"white\", \"startlinecolor\": \"#2a3f5f\"}, \"type\": \"carpet\"}], \"choropleth\": [{\"colorbar\": {\"outlinewidth\": 0, \"ticks\": \"\"}, \"type\": \"choropleth\"}], \"contour\": [{\"colorbar\": {\"outlinewidth\": 0, \"ticks\": \"\"}, \"colorscale\": [[0.0, \"#0d0887\"], [0.1111111111111111, \"#46039f\"], [0.2222222222222222, \"#7201a8\"], [0.3333333333333333, \"#9c179e\"], [0.4444444444444444, \"#bd3786\"], [0.5555555555555556, \"#d8576b\"], [0.6666666666666666, \"#ed7953\"], [0.7777777777777778, \"#fb9f3a\"], [0.8888888888888888, \"#fdca26\"], [1.0, \"#f0f921\"]], \"type\": \"contour\"}], \"contourcarpet\": [{\"colorbar\": {\"outlinewidth\": 0, \"ticks\": \"\"}, \"type\": \"contourcarpet\"}], \"heatmap\": [{\"colorbar\": {\"outlinewidth\": 0, \"ticks\": \"\"}, \"colorscale\": [[0.0, \"#0d0887\"], [0.1111111111111111, \"#46039f\"], [0.2222222222222222, \"#7201a8\"], [0.3333333333333333, \"#9c179e\"], [0.4444444444444444, \"#bd3786\"], [0.5555555555555556, \"#d8576b\"], [0.6666666666666666, \"#ed7953\"], [0.7777777777777778, \"#fb9f3a\"], [0.8888888888888888, \"#fdca26\"], [1.0, \"#f0f921\"]], \"type\": \"heatmap\"}], \"heatmapgl\": [{\"colorbar\": {\"outlinewidth\": 0, \"ticks\": \"\"}, \"colorscale\": [[0.0, \"#0d0887\"], [0.1111111111111111, \"#46039f\"], [0.2222222222222222, \"#7201a8\"], [0.3333333333333333, \"#9c179e\"], [0.4444444444444444, \"#bd3786\"], [0.5555555555555556, \"#d8576b\"], [0.6666666666666666, \"#ed7953\"], [0.7777777777777778, \"#fb9f3a\"], [0.8888888888888888, \"#fdca26\"], [1.0, \"#f0f921\"]], \"type\": \"heatmapgl\"}], \"histogram\": [{\"marker\": {\"colorbar\": {\"outlinewidth\": 0, \"ticks\": \"\"}}, \"type\": \"histogram\"}], \"histogram2d\": [{\"colorbar\": {\"outlinewidth\": 0, \"ticks\": \"\"}, \"colorscale\": [[0.0, \"#0d0887\"], [0.1111111111111111, \"#46039f\"], [0.2222222222222222, \"#7201a8\"], [0.3333333333333333, \"#9c179e\"], [0.4444444444444444, \"#bd3786\"], [0.5555555555555556, \"#d8576b\"], [0.6666666666666666, \"#ed7953\"], [0.7777777777777778, \"#fb9f3a\"], [0.8888888888888888, \"#fdca26\"], [1.0, \"#f0f921\"]], \"type\": \"histogram2d\"}], \"histogram2dcontour\": [{\"colorbar\": {\"outlinewidth\": 0, \"ticks\": \"\"}, \"colorscale\": [[0.0, \"#0d0887\"], [0.1111111111111111, \"#46039f\"], [0.2222222222222222, \"#7201a8\"], [0.3333333333333333, \"#9c179e\"], [0.4444444444444444, \"#bd3786\"], [0.5555555555555556, \"#d8576b\"], [0.6666666666666666, \"#ed7953\"], [0.7777777777777778, \"#fb9f3a\"], [0.8888888888888888, \"#fdca26\"], [1.0, \"#f0f921\"]], \"type\": \"histogram2dcontour\"}], \"mesh3d\": [{\"colorbar\": {\"outlinewidth\": 0, \"ticks\": \"\"}, \"type\": \"mesh3d\"}], \"parcoords\": [{\"line\": {\"colorbar\": {\"outlinewidth\": 0, \"ticks\": \"\"}}, \"type\": \"parcoords\"}], \"pie\": [{\"automargin\": true, \"type\": \"pie\"}], \"scatter\": [{\"marker\": {\"colorbar\": {\"outlinewidth\": 0, \"ticks\": \"\"}}, \"type\": \"scatter\"}], \"scatter3d\": [{\"line\": {\"colorbar\": {\"outlinewidth\": 0, \"ticks\": \"\"}}, \"marker\": {\"colorbar\": {\"outlinewidth\": 0, \"ticks\": \"\"}}, \"type\": \"scatter3d\"}], \"scattercarpet\": [{\"marker\": {\"colorbar\": {\"outlinewidth\": 0, \"ticks\": \"\"}}, \"type\": \"scattercarpet\"}], \"scattergeo\": [{\"marker\": {\"colorbar\": {\"outlinewidth\": 0, \"ticks\": \"\"}}, \"type\": \"scattergeo\"}], \"scattergl\": [{\"marker\": {\"colorbar\": {\"outlinewidth\": 0, \"ticks\": \"\"}}, \"type\": \"scattergl\"}], \"scattermapbox\": [{\"marker\": {\"colorbar\": {\"outlinewidth\": 0, \"ticks\": \"\"}}, \"type\": \"scattermapbox\"}], \"scatterpolar\": [{\"marker\": {\"colorbar\": {\"outlinewidth\": 0, \"ticks\": \"\"}}, \"type\": \"scatterpolar\"}], \"scatterpolargl\": [{\"marker\": {\"colorbar\": {\"outlinewidth\": 0, \"ticks\": \"\"}}, \"type\": \"scatterpolargl\"}], \"scatterternary\": [{\"marker\": {\"colorbar\": {\"outlinewidth\": 0, \"ticks\": \"\"}}, \"type\": \"scatterternary\"}], \"surface\": [{\"colorbar\": {\"outlinewidth\": 0, \"ticks\": \"\"}, \"colorscale\": [[0.0, \"#0d0887\"], [0.1111111111111111, \"#46039f\"], [0.2222222222222222, \"#7201a8\"], [0.3333333333333333, \"#9c179e\"], [0.4444444444444444, \"#bd3786\"], [0.5555555555555556, \"#d8576b\"], [0.6666666666666666, \"#ed7953\"], [0.7777777777777778, \"#fb9f3a\"], [0.8888888888888888, \"#fdca26\"], [1.0, \"#f0f921\"]], \"type\": \"surface\"}], \"table\": [{\"cells\": {\"fill\": {\"color\": \"#EBF0F8\"}, \"line\": {\"color\": \"white\"}}, \"header\": {\"fill\": {\"color\": \"#C8D4E3\"}, \"line\": {\"color\": \"white\"}}, \"type\": \"table\"}]}, \"layout\": {\"annotationdefaults\": {\"arrowcolor\": \"#2a3f5f\", \"arrowhead\": 0, \"arrowwidth\": 1}, \"coloraxis\": {\"colorbar\": {\"outlinewidth\": 0, \"ticks\": \"\"}}, \"colorscale\": {\"diverging\": [[0, \"#8e0152\"], [0.1, \"#c51b7d\"], [0.2, \"#de77ae\"], [0.3, \"#f1b6da\"], [0.4, \"#fde0ef\"], [0.5, \"#f7f7f7\"], [0.6, \"#e6f5d0\"], [0.7, \"#b8e186\"], [0.8, \"#7fbc41\"], [0.9, \"#4d9221\"], [1, \"#276419\"]], \"sequential\": [[0.0, \"#0d0887\"], [0.1111111111111111, \"#46039f\"], [0.2222222222222222, \"#7201a8\"], [0.3333333333333333, \"#9c179e\"], [0.4444444444444444, \"#bd3786\"], [0.5555555555555556, \"#d8576b\"], [0.6666666666666666, \"#ed7953\"], [0.7777777777777778, \"#fb9f3a\"], [0.8888888888888888, \"#fdca26\"], [1.0, \"#f0f921\"]], \"sequentialminus\": [[0.0, \"#0d0887\"], [0.1111111111111111, \"#46039f\"], [0.2222222222222222, \"#7201a8\"], [0.3333333333333333, \"#9c179e\"], [0.4444444444444444, \"#bd3786\"], [0.5555555555555556, \"#d8576b\"], [0.6666666666666666, \"#ed7953\"], [0.7777777777777778, \"#fb9f3a\"], [0.8888888888888888, \"#fdca26\"], [1.0, \"#f0f921\"]]}, \"colorway\": [\"#636efa\", \"#EF553B\", \"#00cc96\", \"#ab63fa\", \"#FFA15A\", \"#19d3f3\", \"#FF6692\", \"#B6E880\", \"#FF97FF\", \"#FECB52\"], \"font\": {\"color\": \"#2a3f5f\"}, \"geo\": {\"bgcolor\": \"white\", \"lakecolor\": \"white\", \"landcolor\": \"#E5ECF6\", \"showlakes\": true, \"showland\": true, \"subunitcolor\": \"white\"}, \"hoverlabel\": {\"align\": \"left\"}, \"hovermode\": \"closest\", \"mapbox\": {\"style\": \"light\"}, \"paper_bgcolor\": \"white\", \"plot_bgcolor\": \"#E5ECF6\", \"polar\": {\"angularaxis\": {\"gridcolor\": \"white\", \"linecolor\": \"white\", \"ticks\": \"\"}, \"bgcolor\": \"#E5ECF6\", \"radialaxis\": {\"gridcolor\": \"white\", \"linecolor\": \"white\", \"ticks\": \"\"}}, \"scene\": {\"xaxis\": {\"backgroundcolor\": \"#E5ECF6\", \"gridcolor\": \"white\", \"gridwidth\": 2, \"linecolor\": \"white\", \"showbackground\": true, \"ticks\": \"\", \"zerolinecolor\": \"white\"}, \"yaxis\": {\"backgroundcolor\": \"#E5ECF6\", \"gridcolor\": \"white\", \"gridwidth\": 2, \"linecolor\": \"white\", \"showbackground\": true, \"ticks\": \"\", \"zerolinecolor\": \"white\"}, \"zaxis\": {\"backgroundcolor\": \"#E5ECF6\", \"gridcolor\": \"white\", \"gridwidth\": 2, \"linecolor\": \"white\", \"showbackground\": true, \"ticks\": \"\", \"zerolinecolor\": \"white\"}}, \"shapedefaults\": {\"line\": {\"color\": \"#2a3f5f\"}}, \"ternary\": {\"aaxis\": {\"gridcolor\": \"white\", \"linecolor\": \"white\", \"ticks\": \"\"}, \"baxis\": {\"gridcolor\": \"white\", \"linecolor\": \"white\", \"ticks\": \"\"}, \"bgcolor\": \"#E5ECF6\", \"caxis\": {\"gridcolor\": \"white\", \"linecolor\": \"white\", \"ticks\": \"\"}}, \"title\": {\"x\": 0.05}, \"xaxis\": {\"automargin\": true, \"gridcolor\": \"white\", \"linecolor\": \"white\", \"ticks\": \"\", \"title\": {\"standoff\": 15}, \"zerolinecolor\": \"white\", \"zerolinewidth\": 2}, \"yaxis\": {\"automargin\": true, \"gridcolor\": \"white\", \"linecolor\": \"white\", \"ticks\": \"\", \"title\": {\"standoff\": 15}, \"zerolinecolor\": \"white\", \"zerolinewidth\": 2}}}, \"title\": {\"text\": \"Annualized GDP - 2nd difference\"}, \"width\": 1400, \"xaxis\": {\"rangeselector\": {\"buttons\": [{\"count\": 1, \"label\": \"1m\", \"step\": \"month\", \"stepmode\": \"backward\"}, {\"count\": 6, \"label\": \"6m\", \"step\": \"month\", \"stepmode\": \"backward\"}, {\"count\": 1, \"label\": \"YTD\", \"step\": \"year\", \"stepmode\": \"todate\"}, {\"count\": 1, \"label\": \"1y\", \"step\": \"year\", \"stepmode\": \"backward\"}, {\"count\": 6, \"label\": \"5y\", \"step\": \"year\", \"stepmode\": \"backward\"}, {\"step\": \"all\"}]}, \"rangeslider\": {\"visible\": true}, \"showspikes\": true, \"title\": {\"text\": \"Date\"}}, \"yaxis\": {\"fixedrange\": false, \"showspikes\": true, \"title\": {\"text\": \"Annualized GDP\"}}},\n",
       "                        {\"responsive\": true}\n",
       "                    ).then(function(){\n",
       "                            \n",
       "var gd = document.getElementById('8265609b-6205-4c79-9064-840701bb7448');\n",
       "var x = new MutationObserver(function (mutations, observer) {{\n",
       "        var display = window.getComputedStyle(gd).display;\n",
       "        if (!display || display === 'none') {{\n",
       "            console.log([gd, 'removed!']);\n",
       "            Plotly.purge(gd);\n",
       "            observer.disconnect();\n",
       "        }}\n",
       "}});\n",
       "\n",
       "// Listen for the removal of the full notebook cells\n",
       "var notebookContainer = gd.closest('#notebook-container');\n",
       "if (notebookContainer) {{\n",
       "    x.observe(notebookContainer, {childList: true});\n",
       "}}\n",
       "\n",
       "// Listen for the clearing of the current output cell\n",
       "var outputEl = gd.closest('.output');\n",
       "if (outputEl) {{\n",
       "    x.observe(outputEl, {childList: true});\n",
       "}}\n",
       "\n",
       "                        })\n",
       "                };\n",
       "                });\n",
       "            </script>\n",
       "        </div>"
      ]
     },
     "metadata": {},
     "output_type": "display_data"
    }
   ],
   "source": [
    "diff1 = difference(t1,1)\n",
    "diff2 = difference(t1,1)\n",
    "diff2 = difference(diff2,1)\n",
    "\n",
    "print(diff1)\n",
    "\n",
    "print(diff2)\n",
    "\n",
    "econ_data_labels = { \"GDP\":\n",
    "      { \"column_name\": \"GDP\",\n",
    "        \"color\": \"gray\",\n",
    "        \"name\": \"GDP diff_1\",\n",
    "        \"text\": \"GDP\"\n",
    "      }}\n",
    "econ_data_titles = { 'titles':\n",
    "      { 'chart_title': 'Annualized GDP - 1st difference',\n",
    "        'y_axis_title': 'Annualized GDP',\n",
    "        'x_axis_title': 'Date',\n",
    "      }}\n",
    "\n",
    "plotly_time_series(df_labels = econ_data_labels, df_titles = econ_data_titles, df = diff1, font = 1)\n",
    "\n",
    "print(diff2)\n",
    "\n",
    "econ_data_labels = { \"GDP\":\n",
    "      { \"column_name\": \"GDP\",\n",
    "        \"color\": \"gray\",\n",
    "        \"name\": \"GDP diff_2\",\n",
    "        \"text\": \"GDP\"\n",
    "      }}\n",
    "econ_data_titles = { 'titles':\n",
    "      { 'chart_title': 'Annualized GDP - 2nd difference',\n",
    "        'y_axis_title': 'Annualized GDP',\n",
    "        'x_axis_title': 'Date',\n",
    "      }}\n",
    "\n",
    "plotly_time_series(df_labels = econ_data_labels, df_titles = econ_data_titles, df = diff2, font = 1)"
   ]
  },
  {
   "cell_type": "markdown",
   "metadata": {},
   "source": [
    "## Viewing the charts above it seems the first and second differencing stabilized the data. But we can go further statistically analyzing the original, 1st, and 2nd difference by using the Augmented-Dickey Fuller tests.\n",
    "## "
   ]
  },
  {
   "cell_type": "code",
   "execution_count": 4,
   "metadata": {},
   "outputs": [
    {
     "name": "stdout",
     "output_type": "stream",
     "text": [
      "\n",
      "ADF Statistic: -1.948500 - Original data\n",
      "ADF Statistic: -2.386430 - 1st diff\n",
      "ADF Statistic: -15.558325 - 2nd diff\n",
      "\n",
      "p-value 0.309600 - Original data\n",
      "p-value 0.145603 - 1st diff\n",
      "p-value 0.000000 - 2nd diff\n",
      "\n",
      "Origrinal data - Critical values:\n",
      "\t1%: -3.457\n",
      "\t5%: -2.873\n",
      "\t10%: -2.573\n",
      "Failed to Reject Ho - Time Series is Non-Stationary\n",
      "\n",
      "1st diff - Critical values:\n",
      "\t1%: -3.458\n",
      "\t5%: -2.874\n",
      "\t10%: -2.573\n",
      "Failed to Reject Ho - Time Series is Non-Stationary\n",
      "\n",
      "2nd diff - Critical values:\n",
      "\t1%: -3.457\n",
      "\t5%: -2.873\n",
      "\t10%: -2.573\n",
      "Reject Ho - Time Series is Stationary\n"
     ]
    }
   ],
   "source": [
    "# Running the Augmented-Dickey Fuller test\n",
    "t1_adf = adfuller(t1.values)\n",
    "diff1_adf = adfuller(diff1.values)\n",
    "diff2_adf = adfuller(diff2.values)\n",
    "\n",
    "print('')\n",
    "print('ADF Statistic: %f - Original data' % t1_adf[0])\n",
    "print('ADF Statistic: %f - 1st diff' % diff1_adf[0])\n",
    "print('ADF Statistic: %f - 2nd diff' % diff2_adf[0])\n",
    "print('')\n",
    "print('p-value %f - Original data' % t1_adf[1])\n",
    "print('p-value %f - 1st diff' % diff1_adf[1])\n",
    "print('p-value %f - 2nd diff' % diff2_adf[1])\n",
    "\n",
    "print('')\n",
    "\n",
    "print('Origrinal data - Critical values:')\n",
    "for key, value in t1_adf[4].items():\n",
    "    print('\\t%s: %.3f' % (key,value))\n",
    "    \n",
    "if t1_adf[0] < t1_adf[4][\"5%\"]:\n",
    "    print(\"Reject Ho - Time Series is Stationary\")\n",
    "else:\n",
    "    print(\"Failed to Reject Ho - Time Series is Non-Stationary\")\n",
    "\n",
    "print('')\n",
    "print('1st diff - Critical values:')\n",
    "for key, value in diff1_adf[4].items():\n",
    "    print('\\t%s: %.3f' % (key,value))\n",
    "    \n",
    "if diff1_adf[0] < diff1_adf[4][\"5%\"]:\n",
    "    print(\"Reject Ho - Time Series is Stationary\")\n",
    "else:\n",
    "    print(\"Failed to Reject Ho - Time Series is Non-Stationary\")\n",
    "    \n",
    "print('')\n",
    "print('2nd diff - Critical values:')\n",
    "for key, value in diff2_adf[4].items():\n",
    "    print('\\t%s: %.3f' % (key,value))\n",
    "    \n",
    "if diff2_adf[0] < diff2_adf[4][\"5%\"]:\n",
    "    print(\"Reject Ho - Time Series is Stationary\")\n",
    "else:\n",
    "    print(\"Failed to Reject Ho - Time Series is Non-Stationary\")"
   ]
  },
  {
   "cell_type": "code",
   "execution_count": 5,
   "metadata": {},
   "outputs": [],
   "source": [
    "#import plotly.io as pio\n",
    "\n",
    "#pio.write_html(fig, file='figure.html', auto_open=True)"
   ]
  },
  {
   "cell_type": "code",
   "execution_count": 6,
   "metadata": {},
   "outputs": [],
   "source": [
    "#!pip install -U kaleido"
   ]
  },
  {
   "cell_type": "markdown",
   "metadata": {},
   "source": [
    "## The ADF test yielded for the original and 1st differenced data failed or was greater than the critial values. The 2nd difference is stationary"
   ]
  }
 ],
 "metadata": {
  "kernelspec": {
   "display_name": "mach_L_env",
   "language": "python",
   "name": "mach_l_env"
  },
  "language_info": {
   "codemirror_mode": {
    "name": "ipython",
    "version": 3
   },
   "file_extension": ".py",
   "mimetype": "text/x-python",
   "name": "python",
   "nbconvert_exporter": "python",
   "pygments_lexer": "ipython3",
   "version": "3.8.2"
  },
  "widgets": {
   "application/vnd.jupyter.widget-state+json": {
    "state": {},
    "version_major": 2,
    "version_minor": 0
   }
  }
 },
 "nbformat": 4,
 "nbformat_minor": 4
}
