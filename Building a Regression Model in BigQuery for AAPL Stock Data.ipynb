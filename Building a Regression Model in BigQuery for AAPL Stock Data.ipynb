{
 "cells": [
  {
   "cell_type": "code",
   "execution_count": 1,
   "metadata": {},
   "outputs": [
    {
     "ename": "IndentationError",
     "evalue": "unexpected indent (<ipython-input-1-e3feeb60cc11>, line 4)",
     "output_type": "error",
     "traceback": [
      "\u001b[1;36m  File \u001b[1;32m\"<ipython-input-1-e3feeb60cc11>\"\u001b[1;36m, line \u001b[1;32m4\u001b[0m\n\u001b[1;33m    MIN(date) AS min_date,\u001b[0m\n\u001b[1;37m    ^\u001b[0m\n\u001b[1;31mIndentationError\u001b[0m\u001b[1;31m:\u001b[0m unexpected indent\n"
     ]
    }
   ],
   "source": [
    "#Explore the AAPL Data\n",
    "\n",
    "SELECT\n",
    "  MIN(date) AS min_date,\n",
    "  MAX(date) AS max_date\n",
    "FROM\n",
    "  `ai4f.AAPL10Y`"
   ]
  },
  {
   "cell_type": "code",
   "execution_count": 2,
   "metadata": {},
   "outputs": [
    {
     "ename": "IndentationError",
     "evalue": "unexpected indent (<ipython-input-2-528862183cdc>, line 3)",
     "output_type": "error",
     "traceback": [
      "\u001b[1;36m  File \u001b[1;32m\"<ipython-input-2-528862183cdc>\"\u001b[1;36m, line \u001b[1;32m3\u001b[0m\n\u001b[1;33m    EXTRACT(year FROM date) AS year,\u001b[0m\n\u001b[1;37m    ^\u001b[0m\n\u001b[1;31mIndentationError\u001b[0m\u001b[1;31m:\u001b[0m unexpected indent\n"
     ]
    }
   ],
   "source": [
    "# Copy and paste the following SQL code into the Query Editor:\n",
    "SELECT\n",
    "  EXTRACT(year FROM date) AS year,\n",
    "  AVG(close) AS avg_close\n",
    "FROM\n",
    "  `ai4f.AAPL10Y`\n",
    "GROUP BY\n",
    "  year\n",
    "ORDER BY\n",
    "  year DESC"
   ]
  },
  {
   "cell_type": "code",
   "execution_count": null,
   "metadata": {},
   "outputs": [],
   "source": [
    "# Question: Which five dates correspond to the greatest percent increases in AAPL stock?\n",
    "# Copy and paste the following SQL code into the Query Editor:\n",
    "    \n",
    "SELECT\n",
    "  date,\n",
    "  100.0 * close / LAG(close, 1) OVER(ORDER BY date) AS pct_close_change\n",
    "FROM\n",
    "  `ai4f.AAPL10Y`\n",
    "ORDER BY\n",
    "  pct_close_change DESC\n",
    "LIMIT\n",
    "  5"
   ]
  },
  {
   "cell_type": "code",
   "execution_count": null,
   "metadata": {},
   "outputs": [],
   "source": [
    "# Build a Linear Regression Model in BigQuery\n",
    "\n",
    "WITH\n",
    "  raw AS (\n",
    "  SELECT\n",
    "    date,\n",
    "    close,\n",
    "    LAG(close, 1) OVER(ORDER BY date) AS min_1_close,\n",
    "    LAG(close, 2) OVER(ORDER BY date) AS min_2_close,\n",
    "    LAG(close, 3) OVER(ORDER BY date) AS min_3_close,\n",
    "    LAG(close, 4) OVER(ORDER BY date) AS min_4_close\n",
    "  FROM\n",
    "    `ai4f.AAPL10Y`\n",
    "  ORDER BY\n",
    "    date DESC ),\n",
    "  raw_plus_trend AS (\n",
    "  SELECT\n",
    "    date,\n",
    "    close,\n",
    "    min_1_close,\n",
    "    IF (min_1_close - min_2_close > 0, 1, -1) AS min_1_trend,\n",
    "    IF (min_2_close - min_3_close > 0, 1, -1) AS min_2_trend,\n",
    "    IF (min_3_close - min_4_close > 0, 1, -1) AS min_3_trend\n",
    "  FROM\n",
    "    raw ),\n",
    "  ml_data AS (\n",
    "  SELECT\n",
    "    date,\n",
    "    close,\n",
    "    min_1_close AS day_prev_close,\n",
    "    IF (min_1_trend + min_2_trend + min_3_trend > 0, 1, -1) AS trend_3_day\n",
    "  FROM\n",
    "    raw_plus_trend )\n",
    "SELECT\n",
    "  *\n",
    "FROM\n",
    "  ml_data\n"
   ]
  },
  {
   "cell_type": "code",
   "execution_count": 3,
   "metadata": {},
   "outputs": [
    {
     "ename": "SyntaxError",
     "evalue": "invalid syntax (<ipython-input-3-f1145252583b>, line 3)",
     "output_type": "error",
     "traceback": [
      "\u001b[1;36m  File \u001b[1;32m\"<ipython-input-3-f1145252583b>\"\u001b[1;36m, line \u001b[1;32m3\u001b[0m\n\u001b[1;33m    CREATE OR REPLACE MODEL `ai4f.aapl_model`\u001b[0m\n\u001b[1;37m           ^\u001b[0m\n\u001b[1;31mSyntaxError\u001b[0m\u001b[1;31m:\u001b[0m invalid syntax\n"
     ]
    }
   ],
   "source": [
    "# model_data\n",
    "\n",
    "CREATE OR REPLACE MODEL `ai4f.aapl_model`\n",
    "OPTIONS\n",
    "  ( model_type='linear_reg',\n",
    "    input_label_cols=['close'],\n",
    "    data_split_method='seq',\n",
    "    data_split_eval_fraction=0.3,\n",
    "    data_split_col='date') AS\n",
    "SELECT\n",
    "  date,\n",
    "  close,\n",
    "  day_prev_close,\n",
    "  trend_3_day\n",
    "FROM\n",
    "  `ai4f.model_data`"
   ]
  },
  {
   "cell_type": "code",
   "execution_count": 4,
   "metadata": {},
   "outputs": [
    {
     "ename": "SyntaxError",
     "evalue": "invalid syntax (<ipython-input-4-80593b710aaa>, line 3)",
     "output_type": "error",
     "traceback": [
      "\u001b[1;36m  File \u001b[1;32m\"<ipython-input-4-80593b710aaa>\"\u001b[1;36m, line \u001b[1;32m3\u001b[0m\n\u001b[1;33m    SELECT * FROM ML.EVALUATE(MODEL `ai4f.aapl_model`)\u001b[0m\n\u001b[1;37m                  ^\u001b[0m\n\u001b[1;31mSyntaxError\u001b[0m\u001b[1;31m:\u001b[0m invalid syntax\n"
     ]
    }
   ],
   "source": [
    "# Evaluate Regression Model Performance\n",
    "\n",
    "SELECT * FROM ML.EVALUATE(MODEL `ai4f.aapl_model`)"
   ]
  },
  {
   "cell_type": "code",
   "execution_count": 5,
   "metadata": {},
   "outputs": [
    {
     "ename": "IndentationError",
     "evalue": "unexpected indent (<ipython-input-5-579609af42f7>, line 4)",
     "output_type": "error",
     "traceback": [
      "\u001b[1;36m  File \u001b[1;32m\"<ipython-input-5-579609af42f7>\"\u001b[1;36m, line \u001b[1;32m4\u001b[0m\n\u001b[1;33m    *\u001b[0m\n\u001b[1;37m    ^\u001b[0m\n\u001b[1;31mIndentationError\u001b[0m\u001b[1;31m:\u001b[0m unexpected indent\n"
     ]
    }
   ],
   "source": [
    "# Make Predictions Using Model\n",
    "\n",
    "SELECT\n",
    "  *\n",
    "FROM\n",
    "  ml.PREDICT(MODEL `ai4f.aapl_model`,\n",
    "    (\n",
    "    SELECT\n",
    "      *\n",
    "    FROM\n",
    "      `ai4f.model_data`\n",
    "    WHERE\n",
    "      date >= '2019-01-01') )"
   ]
  }
 ],
 "metadata": {
  "kernelspec": {
   "display_name": "mach_L_env",
   "language": "python",
   "name": "mach_l_env"
  },
  "language_info": {
   "codemirror_mode": {
    "name": "ipython",
    "version": 3
   },
   "file_extension": ".py",
   "mimetype": "text/x-python",
   "name": "python",
   "nbconvert_exporter": "python",
   "pygments_lexer": "ipython3",
   "version": "3.8.2"
  },
  "widgets": {
   "application/vnd.jupyter.widget-state+json": {
    "state": {},
    "version_major": 2,
    "version_minor": 0
   }
  }
 },
 "nbformat": 4,
 "nbformat_minor": 4
}
